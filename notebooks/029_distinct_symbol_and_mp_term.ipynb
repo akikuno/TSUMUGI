{
 "cells": [
  {
   "cell_type": "markdown",
   "metadata": {},
   "source": [
    "# Cache the mp_terms associated with each marker symbol"
   ]
  },
  {
   "cell_type": "code",
   "execution_count": 2,
   "metadata": {},
   "outputs": [
    {
     "data": {
      "text/plain": [
       "'/mnt/g/impc-genes_with_similar_phenotypes'"
      ]
     },
     "execution_count": 2,
     "metadata": {},
     "output_type": "execute_result"
    }
   ],
   "source": [
    "# Move up to top directory\n",
    "import os\n",
    "os.getcwd()\n",
    "os.chdir('../')\n",
    "os.getcwd()"
   ]
  },
  {
   "cell_type": "code",
   "execution_count": 3,
   "metadata": {},
   "outputs": [],
   "source": [
    "from pathlib import Path\n",
    "from collections import defaultdict\n",
    "from itertools import combinations\n",
    "import csv\n",
    "import pandas as pd\n",
    "from matplotlib import pyplot as plt"
   ]
  },
  {
   "cell_type": "code",
   "execution_count": 4,
   "metadata": {},
   "outputs": [],
   "source": [
    "path_data = Path(\"data\", \"statistical_filtered.csv\")"
   ]
  },
  {
   "cell_type": "code",
   "execution_count": 5,
   "metadata": {},
   "outputs": [
    {
     "name": "stdout",
     "output_type": "stream",
     "text": [
      "      phenotyping_center  intercept_estimate  procedure_id  \\\n",
      "0                    TCP                 NaN           NaN   \n",
      "1                    BCM                 NaN           NaN   \n",
      "2                   WTSI           82.874590           NaN   \n",
      "3                   WTSI            2.067209           NaN   \n",
      "4            MRC Harwell            0.094135           NaN   \n",
      "...                  ...                 ...           ...   \n",
      "39351                ICS            1.886719           NaN   \n",
      "39352                JAX                 NaN           NaN   \n",
      "39353           UC Davis           62.599150           NaN   \n",
      "39354                JAX                 NaN           NaN   \n",
      "39355           UC Davis            0.172341           NaN   \n",
      "\n",
      "       mutant_biological_model_id  rotated_residuals_test  \\\n",
      "0                             NaN                     NaN   \n",
      "1                             NaN                     NaN   \n",
      "2                             NaN                     NaN   \n",
      "3                             NaN                     NaN   \n",
      "4                             NaN                     NaN   \n",
      "...                           ...                     ...   \n",
      "39351                         NaN                     NaN   \n",
      "39352                         NaN                     NaN   \n",
      "39353                         NaN                     NaN   \n",
      "39354                         NaN                     NaN   \n",
      "39355                         NaN                     NaN   \n",
      "\n",
      "       weight_effect_p_value  male_mutant_count  pipeline_stable_key  \\\n",
      "0                        NaN                NaN                    9   \n",
      "1                        NaN                NaN                   16   \n",
      "2                        NaN                7.0                   15   \n",
      "3                   0.000000                NaN                    4   \n",
      "4                   0.005916               12.0                   49   \n",
      "...                      ...                ...                  ...   \n",
      "39351                    NaN                7.0                   10   \n",
      "39352                    NaN                7.0                   12   \n",
      "39353               0.066821                8.0                   13   \n",
      "39354                    NaN                7.0                   12   \n",
      "39355               0.000300                5.0                   13   \n",
      "\n",
      "       female_ko_effect_p_value pipeline_stable_id  ...  pipeline_id  \\\n",
      "0                           NaN            TCP_001  ...          NaN   \n",
      "1                           NaN            BCM_001  ...          NaN   \n",
      "2                  1.144336e-06            MGP_001  ...          NaN   \n",
      "3                           NaN          M-G-P_001  ...          NaN   \n",
      "4                  2.945420e-82         HRWLLA_001  ...          NaN   \n",
      "...                         ...                ...  ...          ...   \n",
      "39351              1.191867e-08            ICS_001  ...          NaN   \n",
      "39352              2.502193e-04            JAX_001  ...          NaN   \n",
      "39353              8.359806e-04            UCD_001  ...          NaN   \n",
      "39354              7.356204e-15            JAX_001  ...          NaN   \n",
      "39355              1.694129e-07            UCD_001  ...          NaN   \n",
      "\n",
      "      group_1_genotype male_ko_parameter_estimate  \\\n",
      "0                  NaN                        NaN   \n",
      "1                  NaN                        NaN   \n",
      "2              control                 -10.137384   \n",
      "3              control                        NaN   \n",
      "4              control                  -0.009936   \n",
      "...                ...                        ...   \n",
      "39351          control                   3.997457   \n",
      "39352              NaN                 100.548162   \n",
      "39353          control                 -25.258854   \n",
      "39354              NaN                 222.933897   \n",
      "39355          control                   0.082636   \n",
      "\n",
      "      genotype_effect_parameter_estimate categories  parameter_id  \\\n",
      "0                                    NaN        NaN           NaN   \n",
      "1                                    NaN        NaN           NaN   \n",
      "2                              23.474848        NaN           NaN   \n",
      "3                               0.097840        NaN           NaN   \n",
      "4                              26.981602        NaN           NaN   \n",
      "...                                  ...        ...           ...   \n",
      "39351                           4.084710        NaN           NaN   \n",
      "39352                                NaN        NaN           NaN   \n",
      "39353                         -20.409706        NaN           NaN   \n",
      "39354                                NaN        NaN           NaN   \n",
      "39355                           0.092878        NaN           NaN   \n",
      "\n",
      "      batch_significant genotype_effect_stderr_estimate  resource_fullname  \\\n",
      "0                   NaN                             NaN               IMPC   \n",
      "1                   NaN                             NaN               IMPC   \n",
      "2                  True                        4.800326               IMPC   \n",
      "3                  True                        0.019675                MGP   \n",
      "4                  True                        1.015066               IMPC   \n",
      "...                 ...                             ...                ...   \n",
      "39351             False                        0.448757               IMPC   \n",
      "39352               NaN                             NaN               IMPC   \n",
      "39353              True                        3.874395               IMPC   \n",
      "39354               NaN                             NaN               IMPC   \n",
      "39355              True                        0.015375               IMPC   \n",
      "\n",
      "       significant  \n",
      "0             True  \n",
      "1             True  \n",
      "2             True  \n",
      "3             True  \n",
      "4             True  \n",
      "...            ...  \n",
      "39351         True  \n",
      "39352         True  \n",
      "39353         True  \n",
      "39354         True  \n",
      "39355         True  \n",
      "\n",
      "[39356 rows x 88 columns]\n"
     ]
    },
    {
     "name": "stderr",
     "output_type": "stream",
     "text": [
      "/tmp/ipykernel_897523/3194353688.py:1: DtypeWarning: Columns (25,60) have mixed types. Specify dtype option on import or set low_memory=False.\n",
      "  data = pd.read_csv(path_data)\n"
     ]
    }
   ],
   "source": [
    "data = pd.read_csv(path_data)\n",
    "\n",
    "print(data)"
   ]
  },
  {
   "cell_type": "code",
   "execution_count": 6,
   "metadata": {},
   "outputs": [],
   "source": [
    "data_select = data[['marker_symbol', 'mp_term_name']].drop_duplicates()"
   ]
  },
  {
   "cell_type": "code",
   "execution_count": 7,
   "metadata": {},
   "outputs": [
    {
     "name": "stdout",
     "output_type": "stream",
     "text": [
      "['preweaning lethality, complete penetrance', 'abnormal craniofacial morphology', 'abnormal heart morphology', 'edema', 'abnormal embryo size', 'abnormal limb morphology', 'pallor', 'abnormal seminal vesicle morphology', 'abnormal tail morphology', 'abnormal kidney morphology']\n",
      "['abnormal craniofacial morphology', 'abnormal embryo size', 'abnormal heart morphology', 'abnormal kidney morphology', 'abnormal limb morphology', 'abnormal seminal vesicle morphology', 'abnormal tail morphology', 'edema', 'pallor', 'preweaning lethality, complete penetrance']\n"
     ]
    }
   ],
   "source": [
    "data_dict = defaultdict(list)\n",
    "for index, row in data_select.iterrows():\n",
    "    data_dict[row['marker_symbol']].append(row['mp_term_name'])\n",
    "\n",
    "print(data_dict[\"Dpf2\"])\n",
    "# sort the list of mp terms\n",
    "\n",
    "for key in data_dict.keys():\n",
    "    data_dict[key].sort()\n",
    "\n",
    "print(data_dict[\"Dpf2\"])"
   ]
  },
  {
   "cell_type": "code",
   "execution_count": 8,
   "metadata": {},
   "outputs": [],
   "source": [
    "import pickle\n",
    "pickle.dump(data_dict, open(\"data/marker_mp.pkl\", \"wb\"))"
   ]
  },
  {
   "cell_type": "code",
   "execution_count": 16,
   "metadata": {},
   "outputs": [],
   "source": []
  }
 ],
 "metadata": {
  "kernelspec": {
   "display_name": "base",
   "language": "python",
   "name": "python3"
  },
  "language_info": {
   "codemirror_mode": {
    "name": "ipython",
    "version": 3
   },
   "file_extension": ".py",
   "mimetype": "text/x-python",
   "name": "python",
   "nbconvert_exporter": "python",
   "pygments_lexer": "ipython3",
   "version": "3.10.14"
  }
 },
 "nbformat": 4,
 "nbformat_minor": 2
}
