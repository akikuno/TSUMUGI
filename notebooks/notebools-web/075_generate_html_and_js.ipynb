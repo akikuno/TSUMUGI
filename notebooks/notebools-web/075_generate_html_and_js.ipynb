{
 "cells": [
  {
   "cell_type": "markdown",
   "metadata": {},
   "source": [
    "# template から HTML と JS を生成する\n"
   ]
  },
  {
   "cell_type": "code",
   "execution_count": 1,
   "metadata": {},
   "outputs": [
    {
     "name": "stdout",
     "output_type": "stream",
     "text": [
      "/mnt/e/impc-genes_with_similar_phenotypes/notebooks/notebools-web\n",
      "/mnt/e/impc-genes_with_similar_phenotypes\n"
     ]
    }
   ],
   "source": [
    "# Move up to top directory\n",
    "import os\n",
    "from pathlib import Path\n",
    "\n",
    "print(os.getcwd())\n",
    "\n",
    "while not Path(\"LICENSE\").exists():\n",
    "    os.chdir('../')\n",
    "\n",
    "print(os.getcwd())"
   ]
  },
  {
   "cell_type": "markdown",
   "metadata": {},
   "source": [
    "# 古いファイルの消去\n"
   ]
  },
  {
   "cell_type": "code",
   "execution_count": 2,
   "metadata": {},
   "outputs": [],
   "source": [
    "%%bash\n",
    "\n",
    "rm web/network/data/*\n",
    "rm web/network/html/*.html\n",
    "rm web/network/js/*.js"
   ]
  },
  {
   "cell_type": "markdown",
   "metadata": {},
   "source": [
    "# index.html に表現型を代入\n"
   ]
  },
  {
   "cell_type": "code",
   "execution_count": 3,
   "metadata": {},
   "outputs": [],
   "source": [
    "mp_terms = {}\n",
    "for path_mp_term in Path(\"data\", \"mp_term_name\").glob(\"*.csv\"):\n",
    "    mp_term = path_mp_term.stem\n",
    "    # print(path_mp_term.stem)\n",
    "    if not Path(\"data\", \"network\", f\"{mp_term}.json\").exists():\n",
    "        continue\n",
    "    mp_term_name_space = mp_term.replace(\"_\", \" \")\n",
    "    # print(mp_term_name_space)\n",
    "    mp_terms[mp_term_name_space] = mp_term"
   ]
  },
  {
   "cell_type": "code",
   "execution_count": 4,
   "metadata": {},
   "outputs": [
    {
     "name": "stdout",
     "output_type": "stream",
     "text": [
      "['abnormal abdominal wall morphology', 'abnormal adrenal gland morphology', 'abnormal allantois morphology']\n",
      "535\n"
     ]
    }
   ],
   "source": [
    "print(list(mp_terms)[:3])\n",
    "print(len(mp_terms))"
   ]
  },
  {
   "cell_type": "code",
   "execution_count": 5,
   "metadata": {},
   "outputs": [],
   "source": [
    "import json\n",
    "json.dump(mp_terms, open(\"data/available_mp_terms.json\", \"w\"), indent=2)"
   ]
  },
  {
   "cell_type": "code",
   "execution_count": 6,
   "metadata": {},
   "outputs": [],
   "source": [
    "%%bash\n",
    "\n",
    "cp data/available_mp_terms.json web/network/data/available_mp_terms.json\n",
    "grep -v \"REMOVE_THIS_LINE\" web/network/template/template_index.html > web/index.html"
   ]
  },
  {
   "cell_type": "code",
   "execution_count": null,
   "metadata": {},
   "outputs": [],
   "source": []
  },
  {
   "cell_type": "markdown",
   "metadata": {},
   "source": [
    "# JSON のコピー\n"
   ]
  },
  {
   "cell_type": "code",
   "execution_count": 7,
   "metadata": {},
   "outputs": [],
   "source": [
    "%%bash\n",
    "\n",
    "cp -r data/network/* web/network/data\n",
    "\n",
    "cp data/marker_symbol_accession_id.json web/network/data/marker_symbol_accession_id.json"
   ]
  },
  {
   "cell_type": "markdown",
   "metadata": {},
   "source": [
    "# Template から HTML と JS を生成\n"
   ]
  },
  {
   "cell_type": "code",
   "execution_count": null,
   "metadata": {},
   "outputs": [],
   "source": [
    "%%bash\n",
    "\n",
    "########################################\n",
    "# Extract the HTML and JS files\n",
    "########################################\n",
    "\n",
    "find data/mp_term_name -type f |\n",
    "sed \"s|data/mp_term_name/||\" |\n",
    "sed \"s|.csv$||\" |\n",
    "while read mp_term_name_underscore; do\n",
    "    mp_term_name_space=$(echo \"$mp_term_name_underscore\" | sed \"s|_| |g\")\n",
    "    impc_url=$(grep \"$mp_term_name_space\" data/mp_term_name_id_url.tsv | cut -f 2)\n",
    "    # HTML\n",
    "    cat web/network/template/template.html |\n",
    "    grep -v \"REMOVE_THIS_LINE\" |\n",
    "    sed \"s|XXX_mp_term_name_space|${mp_term_name_space}|g\" |\n",
    "    sed \"s|XXX_impc_url|${impc_url}|g\" |\n",
    "    sed \"s|XXX_mp_term_name_underscore|${mp_term_name_underscore}|g\" > web/network/html/\"$mp_term_name_underscore\".html\n",
    "\n",
    "    # Javascript\n",
    "    cat web/network/template/template.js |\n",
    "    grep -v \"REMOVE_THIS_LINE\" |\n",
    "    sed \"s|XXX_mp_term_name_underscore|${mp_term_name_underscore}|g\" > web/network/js/\"$mp_term_name_underscore\".js\n",
    "done\n"
   ]
  }
 ],
 "metadata": {
  "kernelspec": {
   "display_name": "env-impc",
   "language": "python",
   "name": "python3"
  },
  "language_info": {
   "codemirror_mode": {
    "name": "ipython",
    "version": 3
   },
   "file_extension": ".py",
   "mimetype": "text/x-python",
   "name": "python",
   "nbconvert_exporter": "python",
   "pygments_lexer": "ipython3",
   "version": "3.10.15"
  }
 },
 "nbformat": 4,
 "nbformat_minor": 2
}
