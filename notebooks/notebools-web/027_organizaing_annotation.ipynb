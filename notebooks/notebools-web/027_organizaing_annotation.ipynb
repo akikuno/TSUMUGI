{
 "cells": [
  {
   "cell_type": "markdown",
   "metadata": {},
   "source": [
    "# TSUMUGIに必要なアノテーション情報を整理する"
   ]
  },
  {
   "cell_type": "code",
   "execution_count": 1,
   "metadata": {},
   "outputs": [
    {
     "name": "stdout",
     "output_type": "stream",
     "text": [
      "/mnt/e/Research/TSUMUGI/notebooks/notebools-web\n",
      "/mnt/e/Research/TSUMUGI\n"
     ]
    }
   ],
   "source": [
    "# Move up to top directory\n",
    "import os\n",
    "from pathlib import Path\n",
    "\n",
    "print(os.getcwd())\n",
    "\n",
    "while not Path(\"LICENSE\").exists():\n",
    "    os.chdir('../')\n",
    "\n",
    "print(os.getcwd())"
   ]
  },
  {
   "cell_type": "code",
   "execution_count": 2,
   "metadata": {},
   "outputs": [],
   "source": [
    "from pathlib import Path\n",
    "from collections import defaultdict\n",
    "from itertools import combinations\n",
    "import csv\n",
    "import pandas as pd\n",
    "from matplotlib import pyplot as plt\n",
    "import pickle\n",
    "import json"
   ]
  },
  {
   "cell_type": "code",
   "execution_count": 3,
   "metadata": {},
   "outputs": [],
   "source": [
    "# def write_jsonl(data_dict: dict[list[str]], file_path: str | Path):\n",
    "#     # JSON Lines形式で保存\n",
    "#     with open(file_path, \"w\", encoding=\"utf-8\") as f:\n",
    "#         for key, values in data_dict.items():\n",
    "#             json_line = {key: values}\n",
    "#             f.write(json.dumps(json_line) + \"\\n\")"
   ]
  },
  {
   "cell_type": "code",
   "execution_count": 4,
   "metadata": {},
   "outputs": [],
   "source": [
    "# def read_jsonl(file_path: str | Path) -> dict[list[str]]:\n",
    "#     # JSON Lines形式で読み込み\n",
    "#     data_dict = defaultdict(list)\n",
    "#     with open(file_path, \"r\", encoding=\"utf-8\") as f:\n",
    "#         for line in f:\n",
    "#             entry = json.loads(line)\n",
    "#             for key, values in entry.items():\n",
    "#                 data_dict[key].extend(values)\n",
    "#     return dict(data_dict)\n"
   ]
  },
  {
   "cell_type": "code",
   "execution_count": 5,
   "metadata": {},
   "outputs": [],
   "source": [
    "path_data = Path(\"data\", \"statistical_filtered.csv\")"
   ]
  },
  {
   "cell_type": "code",
   "execution_count": 17,
   "metadata": {},
   "outputs": [
    {
     "name": "stdout",
     "output_type": "stream",
     "text": [
      "46991\n"
     ]
    },
    {
     "name": "stderr",
     "output_type": "stream",
     "text": [
      "/tmp/ipykernel_407517/4252504432.py:1: DtypeWarning: Columns (25,60) have mixed types. Specify dtype option on import or set low_memory=False.\n",
      "  data = pd.read_csv(path_data)\n"
     ]
    }
   ],
   "source": [
    "data = pd.read_csv(path_data)\n",
    "print(len(data))"
   ]
  },
  {
   "cell_type": "code",
   "execution_count": 31,
   "metadata": {},
   "outputs": [
    {
     "name": "stdout",
     "output_type": "stream",
     "text": [
      "Index(['phenotyping_center', 'intercept_estimate', 'procedure_id',\n",
      "       'mutant_biological_model_id', 'rotated_residuals_test',\n",
      "       'weight_effect_p_value', 'male_mutant_count', 'pipeline_stable_key',\n",
      "       'female_ko_effect_p_value', 'pipeline_stable_id',\n",
      "       'parameter_stable_key', 'data_type', 'parameter_stable_id',\n",
      "       'interaction_significant', 'strain_accession_id',\n",
      "       'control_selection_method', 'parameter_name', 'allele_name',\n",
      "       'phenotyping_center_id', 'weight_effect_stderr_estimate',\n",
      "       'weight_effect_parameter_estimate', 'procedure_stable_id', 'status',\n",
      "       'sex_effect_parameter_estimate', 'female_ko_effect_stderr_estimate',\n",
      "       'female_percentage_change', 'group_2_residuals_normality_test',\n",
      "       'marker_accession_id', 'mp_term_name',\n",
      "       'group_1_residuals_normality_test', 'genotype_effect_p_value',\n",
      "       'dependent_variable', 'resource_name', 'project_id', 'procedure_name',\n",
      "       'doc_id', 'top_level_mp_term_id', 'allele_accession_id', 'blups_test',\n",
      "       'null_test_p_value', 'p_value', 'marker_symbol',\n",
      "       'control_biological_model_id', 'pipeline_name', 'sex',\n",
      "       'interaction_effect_p_value', 'colony_id', 'project_name',\n",
      "       'female_ko_parameter_estimate', 'female_mutant_count',\n",
      "       'organisation_id', 'external_db_id', 'female_control_count',\n",
      "       'intermediate_mp_term_id', 'db_id', 'male_ko_effect_p_value',\n",
      "       'top_level_mp_term_name', 'metadata_group',\n",
      "       'sex_effect_stderr_estimate', 'zygosity', 'male_percentage_change',\n",
      "       'sex_effect_p_value', 'mp_term_id', 'male_ko_effect_stderr_estimate',\n",
      "       'additional_information', 'statistical_method', '_version_',\n",
      "       'intercept_estimate_stderr_estimate', 'male_control_count',\n",
      "       'intermediate_mp_term_name', 'strain_name', 'classification_tag',\n",
      "       'effect_size', 'procedure_stable_key', 'allele_symbol', 'resource_id',\n",
      "       'group_2_genotype', 'variance_significant', 'pipeline_id',\n",
      "       'group_1_genotype', 'male_ko_parameter_estimate',\n",
      "       'genotype_effect_parameter_estimate', 'categories', 'parameter_id',\n",
      "       'batch_significant', 'genotype_effect_stderr_estimate',\n",
      "       'resource_fullname', 'significant', 'sexdual_dimorphism'],\n",
      "      dtype='object')\n"
     ]
    }
   ],
   "source": [
    "print(data.columns)"
   ]
  },
  {
   "cell_type": "code",
   "execution_count": 7,
   "metadata": {},
   "outputs": [],
   "source": [
    "Path(\"data/annotation\").mkdir(exist_ok=True, parents=True)"
   ]
  },
  {
   "cell_type": "code",
   "execution_count": 32,
   "metadata": {},
   "outputs": [
    {
     "name": "stdout",
     "output_type": "stream",
     "text": [
      "sexdual_dimorphism\n",
      "♂    4864\n",
      "♀    4137\n",
      "Name: count, dtype: int64\n"
     ]
    }
   ],
   "source": [
    "import numpy as np\n",
    "\n",
    "threshold = 0.0001\n",
    "\n",
    "# 条件リスト\n",
    "conditions = [\n",
    "    (data[\"sex_effect_p_value\"] < threshold) & (data[\"female_ko_effect_p_value\"] < threshold) & (data[\"male_ko_effect_p_value\"] > threshold),\n",
    "    (data[\"sex_effect_p_value\"] < threshold) & (data[\"male_ko_effect_p_value\"] < threshold) & (data[\"female_ko_effect_p_value\"] > threshold)\n",
    "]\n",
    "\n",
    "# 条件に対応する値\n",
    "choices = [\"♀\", \"♂\"]\n",
    "\n",
    "# np.selectで列を設定\n",
    "data[\"sexdual_dimorphism\"] = np.select(conditions, choices, default=None)\n",
    "\n",
    "# 結果を確認\n",
    "print(data[\"sexdual_dimorphism\"].value_counts())\n"
   ]
  },
  {
   "cell_type": "code",
   "execution_count": 38,
   "metadata": {},
   "outputs": [
    {
     "data": {
      "text/html": [
       "<div>\n",
       "<style scoped>\n",
       "    .dataframe tbody tr th:only-of-type {\n",
       "        vertical-align: middle;\n",
       "    }\n",
       "\n",
       "    .dataframe tbody tr th {\n",
       "        vertical-align: top;\n",
       "    }\n",
       "\n",
       "    .dataframe thead th {\n",
       "        text-align: right;\n",
       "    }\n",
       "</style>\n",
       "<table border=\"1\" class=\"dataframe\">\n",
       "  <thead>\n",
       "    <tr style=\"text-align: right;\">\n",
       "      <th></th>\n",
       "      <th>p_value</th>\n",
       "      <th>genotype_effect_p_value</th>\n",
       "      <th>sex_effect_p_value</th>\n",
       "      <th>sexdual_dimorphism</th>\n",
       "      <th>female_ko_effect_p_value</th>\n",
       "      <th>male_ko_effect_p_value</th>\n",
       "      <th>female_percentage_change</th>\n",
       "      <th>male_percentage_change</th>\n",
       "    </tr>\n",
       "  </thead>\n",
       "  <tbody>\n",
       "    <tr>\n",
       "      <th>0</th>\n",
       "      <td>4.054573e-01</td>\n",
       "      <td>4.054573e-01</td>\n",
       "      <td>8.131008e-08</td>\n",
       "      <td>♂</td>\n",
       "      <td>4.054573e-01</td>\n",
       "      <td>6.088797e-06</td>\n",
       "      <td>-20.5266253870529</td>\n",
       "      <td>-120.408713480008</td>\n",
       "    </tr>\n",
       "    <tr>\n",
       "      <th>1</th>\n",
       "      <td>0.000000e+00</td>\n",
       "      <td>NaN</td>\n",
       "      <td>NaN</td>\n",
       "      <td>None</td>\n",
       "      <td>NaN</td>\n",
       "      <td>NaN</td>\n",
       "      <td>NaN</td>\n",
       "      <td>NaN</td>\n",
       "    </tr>\n",
       "    <tr>\n",
       "      <th>2</th>\n",
       "      <td>0.000000e+00</td>\n",
       "      <td>NaN</td>\n",
       "      <td>NaN</td>\n",
       "      <td>None</td>\n",
       "      <td>NaN</td>\n",
       "      <td>NaN</td>\n",
       "      <td>NaN</td>\n",
       "      <td>NaN</td>\n",
       "    </tr>\n",
       "    <tr>\n",
       "      <th>3</th>\n",
       "      <td>1.144336e-06</td>\n",
       "      <td>1.144336e-06</td>\n",
       "      <td>0.000000e+00</td>\n",
       "      <td>♀</td>\n",
       "      <td>1.144336e-06</td>\n",
       "      <td>2.957211e-02</td>\n",
       "      <td>211.171790862029</td>\n",
       "      <td>-106.457814174796</td>\n",
       "    </tr>\n",
       "    <tr>\n",
       "      <th>4</th>\n",
       "      <td>1.273780e-06</td>\n",
       "      <td>1.273780e-06</td>\n",
       "      <td>NaN</td>\n",
       "      <td>None</td>\n",
       "      <td>NaN</td>\n",
       "      <td>NaN</td>\n",
       "      <td>NaN</td>\n",
       "      <td>NaN</td>\n",
       "    </tr>\n",
       "    <tr>\n",
       "      <th>...</th>\n",
       "      <td>...</td>\n",
       "      <td>...</td>\n",
       "      <td>...</td>\n",
       "      <td>...</td>\n",
       "      <td>...</td>\n",
       "      <td>...</td>\n",
       "      <td>...</td>\n",
       "      <td>...</td>\n",
       "    </tr>\n",
       "    <tr>\n",
       "      <th>46986</th>\n",
       "      <td>8.729624e-06</td>\n",
       "      <td>NaN</td>\n",
       "      <td>NaN</td>\n",
       "      <td>None</td>\n",
       "      <td>2.502193e-04</td>\n",
       "      <td>1.473660e-02</td>\n",
       "      <td>NaN</td>\n",
       "      <td>NaN</td>\n",
       "    </tr>\n",
       "    <tr>\n",
       "      <th>46987</th>\n",
       "      <td>1.578099e-07</td>\n",
       "      <td>1.578099e-07</td>\n",
       "      <td>1.016244e-01</td>\n",
       "      <td>None</td>\n",
       "      <td>8.359806e-04</td>\n",
       "      <td>3.485404e-06</td>\n",
       "      <td>-112.230615708817</td>\n",
       "      <td>-187.950048394387</td>\n",
       "    </tr>\n",
       "    <tr>\n",
       "      <th>46988</th>\n",
       "      <td>5.775577e-01</td>\n",
       "      <td>5.775577e-01</td>\n",
       "      <td>0.000000e+00</td>\n",
       "      <td>♂</td>\n",
       "      <td>5.735144e-01</td>\n",
       "      <td>5.518938e-07</td>\n",
       "      <td>-25.5958136721999</td>\n",
       "      <td>-159.145484509104</td>\n",
       "    </tr>\n",
       "    <tr>\n",
       "      <th>46989</th>\n",
       "      <td>2.756679e-19</td>\n",
       "      <td>NaN</td>\n",
       "      <td>NaN</td>\n",
       "      <td>None</td>\n",
       "      <td>7.356204e-15</td>\n",
       "      <td>2.588011e-06</td>\n",
       "      <td>NaN</td>\n",
       "      <td>NaN</td>\n",
       "    </tr>\n",
       "    <tr>\n",
       "      <th>46990</th>\n",
       "      <td>1.936404e-09</td>\n",
       "      <td>1.936404e-09</td>\n",
       "      <td>2.501499e-08</td>\n",
       "      <td>♀</td>\n",
       "      <td>1.694129e-07</td>\n",
       "      <td>2.408302e-04</td>\n",
       "      <td>166.318103989678</td>\n",
       "      <td>188.720487276103</td>\n",
       "    </tr>\n",
       "  </tbody>\n",
       "</table>\n",
       "<p>46991 rows × 8 columns</p>\n",
       "</div>"
      ],
      "text/plain": [
       "            p_value  genotype_effect_p_value  sex_effect_p_value  \\\n",
       "0      4.054573e-01             4.054573e-01        8.131008e-08   \n",
       "1      0.000000e+00                      NaN                 NaN   \n",
       "2      0.000000e+00                      NaN                 NaN   \n",
       "3      1.144336e-06             1.144336e-06        0.000000e+00   \n",
       "4      1.273780e-06             1.273780e-06                 NaN   \n",
       "...             ...                      ...                 ...   \n",
       "46986  8.729624e-06                      NaN                 NaN   \n",
       "46987  1.578099e-07             1.578099e-07        1.016244e-01   \n",
       "46988  5.775577e-01             5.775577e-01        0.000000e+00   \n",
       "46989  2.756679e-19                      NaN                 NaN   \n",
       "46990  1.936404e-09             1.936404e-09        2.501499e-08   \n",
       "\n",
       "      sexdual_dimorphism  female_ko_effect_p_value  male_ko_effect_p_value  \\\n",
       "0                      ♂              4.054573e-01            6.088797e-06   \n",
       "1                   None                       NaN                     NaN   \n",
       "2                   None                       NaN                     NaN   \n",
       "3                      ♀              1.144336e-06            2.957211e-02   \n",
       "4                   None                       NaN                     NaN   \n",
       "...                  ...                       ...                     ...   \n",
       "46986               None              2.502193e-04            1.473660e-02   \n",
       "46987               None              8.359806e-04            3.485404e-06   \n",
       "46988                  ♂              5.735144e-01            5.518938e-07   \n",
       "46989               None              7.356204e-15            2.588011e-06   \n",
       "46990                  ♀              1.694129e-07            2.408302e-04   \n",
       "\n",
       "      female_percentage_change male_percentage_change  \n",
       "0            -20.5266253870529      -120.408713480008  \n",
       "1                          NaN                    NaN  \n",
       "2                          NaN                    NaN  \n",
       "3             211.171790862029      -106.457814174796  \n",
       "4                          NaN                    NaN  \n",
       "...                        ...                    ...  \n",
       "46986                      NaN                    NaN  \n",
       "46987        -112.230615708817      -187.950048394387  \n",
       "46988        -25.5958136721999      -159.145484509104  \n",
       "46989                      NaN                    NaN  \n",
       "46990         166.318103989678       188.720487276103  \n",
       "\n",
       "[46991 rows x 8 columns]"
      ]
     },
     "execution_count": 38,
     "metadata": {},
     "output_type": "execute_result"
    }
   ],
   "source": [
    "data[[\"p_value\", \"genotype_effect_p_value\", \"sex_effect_p_value\", \"sexdual_dimorphism\", \"female_ko_effect_p_value\", \"male_ko_effect_p_value\", \"female_percentage_change\", \"male_percentage_change\"]]"
   ]
  },
  {
   "cell_type": "code",
   "execution_count": null,
   "metadata": {},
   "outputs": [],
   "source": []
  },
  {
   "cell_type": "markdown",
   "metadata": {},
   "source": [
    "## marker_symbol と mp_term_name の対応付け"
   ]
  },
  {
   "cell_type": "code",
   "execution_count": 39,
   "metadata": {},
   "outputs": [
    {
     "data": {
      "text/html": [
       "<div>\n",
       "<style scoped>\n",
       "    .dataframe tbody tr th:only-of-type {\n",
       "        vertical-align: middle;\n",
       "    }\n",
       "\n",
       "    .dataframe tbody tr th {\n",
       "        vertical-align: top;\n",
       "    }\n",
       "\n",
       "    .dataframe thead th {\n",
       "        text-align: right;\n",
       "    }\n",
       "</style>\n",
       "<table border=\"1\" class=\"dataframe\">\n",
       "  <thead>\n",
       "    <tr style=\"text-align: right;\">\n",
       "      <th></th>\n",
       "      <th>marker_symbol</th>\n",
       "      <th>mp_term_name</th>\n",
       "      <th>zygosity</th>\n",
       "      <th>sexdual_dimorphism</th>\n",
       "    </tr>\n",
       "  </thead>\n",
       "  <tbody>\n",
       "    <tr>\n",
       "      <th>0</th>\n",
       "      <td>Rhd</td>\n",
       "      <td>decreased circulating HDL cholesterol level</td>\n",
       "      <td>homozygote</td>\n",
       "      <td>♂</td>\n",
       "    </tr>\n",
       "    <tr>\n",
       "      <th>1</th>\n",
       "      <td>Dpf2</td>\n",
       "      <td>preweaning lethality, complete penetrance</td>\n",
       "      <td>homozygote</td>\n",
       "      <td>None</td>\n",
       "    </tr>\n",
       "    <tr>\n",
       "      <th>2</th>\n",
       "      <td>Gna13</td>\n",
       "      <td>preweaning lethality, complete penetrance</td>\n",
       "      <td>homozygote</td>\n",
       "      <td>None</td>\n",
       "    </tr>\n",
       "    <tr>\n",
       "      <th>3</th>\n",
       "      <td>Dynlrb2</td>\n",
       "      <td>increased fasting circulating glucose level</td>\n",
       "      <td>heterozygote</td>\n",
       "      <td>♀</td>\n",
       "    </tr>\n",
       "    <tr>\n",
       "      <th>4</th>\n",
       "      <td>Slc16a2</td>\n",
       "      <td>increased circulating calcium level</td>\n",
       "      <td>homozygote</td>\n",
       "      <td>None</td>\n",
       "    </tr>\n",
       "    <tr>\n",
       "      <th>...</th>\n",
       "      <td>...</td>\n",
       "      <td>...</td>\n",
       "      <td>...</td>\n",
       "      <td>...</td>\n",
       "    </tr>\n",
       "    <tr>\n",
       "      <th>46982</th>\n",
       "      <td>Arhgap21</td>\n",
       "      <td>abnormal auditory brainstem response</td>\n",
       "      <td>heterozygote</td>\n",
       "      <td>None</td>\n",
       "    </tr>\n",
       "    <tr>\n",
       "      <th>46984</th>\n",
       "      <td>Prkdc</td>\n",
       "      <td>increased monocyte cell number</td>\n",
       "      <td>homozygote</td>\n",
       "      <td>None</td>\n",
       "    </tr>\n",
       "    <tr>\n",
       "      <th>46985</th>\n",
       "      <td>Cfap20dc</td>\n",
       "      <td>decreased heart weight</td>\n",
       "      <td>homozygote</td>\n",
       "      <td>♂</td>\n",
       "    </tr>\n",
       "    <tr>\n",
       "      <th>46988</th>\n",
       "      <td>Prmt7</td>\n",
       "      <td>decreased hematocrit</td>\n",
       "      <td>homozygote</td>\n",
       "      <td>♂</td>\n",
       "    </tr>\n",
       "    <tr>\n",
       "      <th>46990</th>\n",
       "      <td>Stoml2</td>\n",
       "      <td>increased circulating bilirubin level</td>\n",
       "      <td>homozygote</td>\n",
       "      <td>♀</td>\n",
       "    </tr>\n",
       "  </tbody>\n",
       "</table>\n",
       "<p>39059 rows × 4 columns</p>\n",
       "</div>"
      ],
      "text/plain": [
       "      marker_symbol                                 mp_term_name  \\\n",
       "0               Rhd  decreased circulating HDL cholesterol level   \n",
       "1              Dpf2    preweaning lethality, complete penetrance   \n",
       "2             Gna13    preweaning lethality, complete penetrance   \n",
       "3           Dynlrb2  increased fasting circulating glucose level   \n",
       "4           Slc16a2          increased circulating calcium level   \n",
       "...             ...                                          ...   \n",
       "46982      Arhgap21         abnormal auditory brainstem response   \n",
       "46984         Prkdc               increased monocyte cell number   \n",
       "46985      Cfap20dc                       decreased heart weight   \n",
       "46988         Prmt7                         decreased hematocrit   \n",
       "46990        Stoml2        increased circulating bilirubin level   \n",
       "\n",
       "           zygosity sexdual_dimorphism  \n",
       "0        homozygote                  ♂  \n",
       "1        homozygote               None  \n",
       "2        homozygote               None  \n",
       "3      heterozygote                  ♀  \n",
       "4        homozygote               None  \n",
       "...             ...                ...  \n",
       "46982  heterozygote               None  \n",
       "46984    homozygote               None  \n",
       "46985    homozygote                  ♂  \n",
       "46988    homozygote                  ♂  \n",
       "46990    homozygote                  ♀  \n",
       "\n",
       "[39059 rows x 4 columns]"
      ]
     },
     "execution_count": 39,
     "metadata": {},
     "output_type": "execute_result"
    }
   ],
   "source": [
    "data_select = data[['marker_symbol', 'mp_term_name', 'zygosity', \"sexdual_dimorphism\"]].drop_duplicates()\n",
    "# data_select = data[['marker_symbol', 'marker_accession_id', 'mp_term_name', 'mp_term_id']].drop_duplicates()\n",
    "data_select"
   ]
  },
  {
   "cell_type": "code",
   "execution_count": 92,
   "metadata": {},
   "outputs": [
    {
     "data": {
      "text/plain": [
       "zygosity\n",
       "homozygote      28641\n",
       "heterozygote     8935\n",
       "hemizygote        465\n",
       "Name: count, dtype: int64"
      ]
     },
     "execution_count": 92,
     "metadata": {},
     "output_type": "execute_result"
    }
   ],
   "source": [
    "data_select[\"zygosity\"].value_counts()"
   ]
  },
  {
   "cell_type": "code",
   "execution_count": 45,
   "metadata": {},
   "outputs": [
    {
     "name": "stdout",
     "output_type": "stream",
     "text": [
      "['abnormal skin condition (Homo)', 'decreased circulating HDL cholesterol level (Homo, ♂)', 'decreased circulating alkaline phosphatase level (Homo, ♀)', 'decreased circulating cholesterol level (Homo, ♂)', 'decreased circulating free fatty acids level (Homo)', 'decreased hemoglobin content (Homo, ♂)', 'decreased mean corpuscular hemoglobin (Homo)', 'decreased mean corpuscular hemoglobin concentration (Homo)', 'decreased mean corpuscular volume (Homo)', 'increased exploration in new environment (Homo)']\n"
     ]
    }
   ],
   "source": [
    "data_dict = defaultdict(list)\n",
    "for index, row in data_select.iterrows():\n",
    "    if row['zygosity'] == 'homozygote':\n",
    "        annotate = \"Homo\"\n",
    "    elif row['zygosity'] == 'heterozygote':\n",
    "        annotate = \"Hetero\"\n",
    "    else:\n",
    "        annotate = \"Hemi\"\n",
    "\n",
    "    if row['sexdual_dimorphism'] == \"♀\":\n",
    "        annotate = \", \".join([annotate, '♀'])\n",
    "    if row['sexdual_dimorphism'] == \"♂\":\n",
    "        annotate = \", \".join([annotate, '♂'])\n",
    "\n",
    "    data_dict[row['marker_symbol']].append(f\"{row['mp_term_name']} ({annotate})\")   \n",
    "\n",
    "for key in data_dict.keys():\n",
    "    data_dict[key].sort()\n",
    "\n",
    "print(data_dict[\"Rhd\"])"
   ]
  },
  {
   "cell_type": "code",
   "execution_count": 46,
   "metadata": {},
   "outputs": [],
   "source": [
    "file_path = \"data/annotation/symbol_mptermname.json\"\n",
    "json.dump(data_dict, open(file_path, \"w\"), indent=4, sort_keys=True)\n"
   ]
  },
  {
   "cell_type": "code",
   "execution_count": 47,
   "metadata": {},
   "outputs": [
    {
     "name": "stdout",
     "output_type": "stream",
     "text": [
      "{\n",
      "    \"0610010K14Rik\": [\n",
      "        \"embryonic lethality prior to organogenesis (Homo)\",\n",
      "        \"embryonic lethality prior to tooth bud stage (Homo)\",\n",
      "        \"increased startle reflex (Hetero, \\u2642)\",\n",
      "        \"preweaning lethality, complete penetrance (Homo)\"\n",
      "    ],\n",
      "    \"0610040J01Rik\": [\n",
      "        \"abnormal heart morphology (Homo)\",\n",
      "        \"abnormal spleen morphology (Homo)\",\n"
     ]
    }
   ],
   "source": [
    "%%bash\n",
    "\n",
    "head -n 10 data/annotation/symbol_mptermname.json"
   ]
  },
  {
   "cell_type": "markdown",
   "metadata": {},
   "source": [
    "## Connect mp_term_name to IMPC Phenotype URL"
   ]
  },
  {
   "cell_type": "code",
   "execution_count": 75,
   "metadata": {},
   "outputs": [
    {
     "data": {
      "text/html": [
       "<div>\n",
       "<style scoped>\n",
       "    .dataframe tbody tr th:only-of-type {\n",
       "        vertical-align: middle;\n",
       "    }\n",
       "\n",
       "    .dataframe tbody tr th {\n",
       "        vertical-align: top;\n",
       "    }\n",
       "\n",
       "    .dataframe thead th {\n",
       "        text-align: right;\n",
       "    }\n",
       "</style>\n",
       "<table border=\"1\" class=\"dataframe\">\n",
       "  <thead>\n",
       "    <tr style=\"text-align: right;\">\n",
       "      <th></th>\n",
       "      <th>mp_term_id</th>\n",
       "      <th>mp_term_name</th>\n",
       "    </tr>\n",
       "  </thead>\n",
       "  <tbody>\n",
       "    <tr>\n",
       "      <th>0</th>\n",
       "      <td>MP:0000186</td>\n",
       "      <td>decreased circulating HDL cholesterol level</td>\n",
       "    </tr>\n",
       "    <tr>\n",
       "      <th>1</th>\n",
       "      <td>MP:0011100</td>\n",
       "      <td>preweaning lethality, complete penetrance</td>\n",
       "    </tr>\n",
       "    <tr>\n",
       "      <th>3</th>\n",
       "      <td>MP:0013279</td>\n",
       "      <td>increased fasting circulating glucose level</td>\n",
       "    </tr>\n",
       "    <tr>\n",
       "      <th>4</th>\n",
       "      <td>MP:0000194</td>\n",
       "      <td>increased circulating calcium level</td>\n",
       "    </tr>\n",
       "    <tr>\n",
       "      <th>5</th>\n",
       "      <td>MP:0005011</td>\n",
       "      <td>increased eosinophil cell number</td>\n",
       "    </tr>\n",
       "    <tr>\n",
       "      <th>...</th>\n",
       "      <td>...</td>\n",
       "      <td>...</td>\n",
       "    </tr>\n",
       "    <tr>\n",
       "      <th>44618</th>\n",
       "      <td>MP:0001562</td>\n",
       "      <td>abnormal circulating calcium level</td>\n",
       "    </tr>\n",
       "    <tr>\n",
       "      <th>46141</th>\n",
       "      <td>MP:0003655</td>\n",
       "      <td>absent pancreas</td>\n",
       "    </tr>\n",
       "    <tr>\n",
       "      <th>46159</th>\n",
       "      <td>MP:0005498</td>\n",
       "      <td>hyporesponsive to tactile stimuli</td>\n",
       "    </tr>\n",
       "    <tr>\n",
       "      <th>46562</th>\n",
       "      <td>MP:0008206</td>\n",
       "      <td>increased B-2 B cell number</td>\n",
       "    </tr>\n",
       "    <tr>\n",
       "      <th>46754</th>\n",
       "      <td>MP:0011972</td>\n",
       "      <td>decreased circulating lactate dehydrogenase level</td>\n",
       "    </tr>\n",
       "  </tbody>\n",
       "</table>\n",
       "<p>670 rows × 2 columns</p>\n",
       "</div>"
      ],
      "text/plain": [
       "       mp_term_id                                       mp_term_name\n",
       "0      MP:0000186        decreased circulating HDL cholesterol level\n",
       "1      MP:0011100          preweaning lethality, complete penetrance\n",
       "3      MP:0013279        increased fasting circulating glucose level\n",
       "4      MP:0000194                increased circulating calcium level\n",
       "5      MP:0005011                   increased eosinophil cell number\n",
       "...           ...                                                ...\n",
       "44618  MP:0001562                 abnormal circulating calcium level\n",
       "46141  MP:0003655                                    absent pancreas\n",
       "46159  MP:0005498                  hyporesponsive to tactile stimuli\n",
       "46562  MP:0008206                        increased B-2 B cell number\n",
       "46754  MP:0011972  decreased circulating lactate dehydrogenase level\n",
       "\n",
       "[670 rows x 2 columns]"
      ]
     },
     "execution_count": 75,
     "metadata": {},
     "output_type": "execute_result"
    }
   ],
   "source": [
    "data_select = data[['mp_term_id', 'mp_term_name']].drop_duplicates()\n",
    "# data_select = data[['marker_symbol', 'marker_accession_id', 'mp_term_name', 'mp_term_id']].drop_duplicates()\n",
    "data_select"
   ]
  },
  {
   "cell_type": "code",
   "execution_count": 76,
   "metadata": {},
   "outputs": [
    {
     "name": "stdout",
     "output_type": "stream",
     "text": [
      "https://www.mousephenotype.org/data/phenotypes/MP:0002217\n"
     ]
    }
   ],
   "source": [
    "data_dict_url = dict()\n",
    "for index, row in data_select.iterrows():\n",
    "    mp_tern_id = row['mp_term_id']\n",
    "    impc_url = f\"https://www.mousephenotype.org/data/phenotypes/{mp_tern_id}\"\n",
    "    mp_term_name = row['mp_term_name']\n",
    "    data_dict_url[mp_term_name] = impc_url\n",
    "\n",
    "print(data_dict_url[\"small lymph nodes\"])"
   ]
  },
  {
   "cell_type": "code",
   "execution_count": 77,
   "metadata": {},
   "outputs": [],
   "source": [
    "with open('data/annotation/mptermname_phenotypeurl.tsv', 'w') as f:\n",
    "    for term, url in data_dict_url.items():\n",
    "        f.write(f\"{term}\\t{url}\\n\")"
   ]
  },
  {
   "cell_type": "code",
   "execution_count": 78,
   "metadata": {},
   "outputs": [
    {
     "name": "stdout",
     "output_type": "stream",
     "text": [
      "decreased circulating HDL cholesterol level\thttps://www.mousephenotype.org/data/phenotypes/MP:0000186\n",
      "preweaning lethality, complete penetrance\thttps://www.mousephenotype.org/data/phenotypes/MP:0011100\n",
      "increased fasting circulating glucose level\thttps://www.mousephenotype.org/data/phenotypes/MP:0013279\n"
     ]
    }
   ],
   "source": [
    "%%bash\n",
    "\n",
    "head -n 3 data/annotation/mptermname_phenotypeurl.tsv"
   ]
  },
  {
   "cell_type": "markdown",
   "metadata": {},
   "source": [
    "## Connect marker_symbol to accession_id"
   ]
  },
  {
   "cell_type": "code",
   "execution_count": 79,
   "metadata": {},
   "outputs": [
    {
     "data": {
      "text/html": [
       "<div>\n",
       "<style scoped>\n",
       "    .dataframe tbody tr th:only-of-type {\n",
       "        vertical-align: middle;\n",
       "    }\n",
       "\n",
       "    .dataframe tbody tr th {\n",
       "        vertical-align: top;\n",
       "    }\n",
       "\n",
       "    .dataframe thead th {\n",
       "        text-align: right;\n",
       "    }\n",
       "</style>\n",
       "<table border=\"1\" class=\"dataframe\">\n",
       "  <thead>\n",
       "    <tr style=\"text-align: right;\">\n",
       "      <th></th>\n",
       "      <th>marker_symbol</th>\n",
       "      <th>marker_accession_id</th>\n",
       "    </tr>\n",
       "  </thead>\n",
       "  <tbody>\n",
       "    <tr>\n",
       "      <th>0</th>\n",
       "      <td>Rhd</td>\n",
       "      <td>MGI:1202882</td>\n",
       "    </tr>\n",
       "    <tr>\n",
       "      <th>1</th>\n",
       "      <td>Dpf2</td>\n",
       "      <td>MGI:109529</td>\n",
       "    </tr>\n",
       "    <tr>\n",
       "      <th>2</th>\n",
       "      <td>Gna13</td>\n",
       "      <td>MGI:95768</td>\n",
       "    </tr>\n",
       "    <tr>\n",
       "      <th>3</th>\n",
       "      <td>Dynlrb2</td>\n",
       "      <td>MGI:1922715</td>\n",
       "    </tr>\n",
       "    <tr>\n",
       "      <th>4</th>\n",
       "      <td>Slc16a2</td>\n",
       "      <td>MGI:1203732</td>\n",
       "    </tr>\n",
       "    <tr>\n",
       "      <th>...</th>\n",
       "      <td>...</td>\n",
       "      <td>...</td>\n",
       "    </tr>\n",
       "    <tr>\n",
       "      <th>46753</th>\n",
       "      <td>Amigo3</td>\n",
       "      <td>MGI:2444854</td>\n",
       "    </tr>\n",
       "    <tr>\n",
       "      <th>46806</th>\n",
       "      <td>Sec1</td>\n",
       "      <td>MGI:1928893</td>\n",
       "    </tr>\n",
       "    <tr>\n",
       "      <th>46833</th>\n",
       "      <td>Slc23a3</td>\n",
       "      <td>MGI:104516</td>\n",
       "    </tr>\n",
       "    <tr>\n",
       "      <th>46894</th>\n",
       "      <td>Agtr2</td>\n",
       "      <td>MGI:87966</td>\n",
       "    </tr>\n",
       "    <tr>\n",
       "      <th>46985</th>\n",
       "      <td>Cfap20dc</td>\n",
       "      <td>MGI:1926154</td>\n",
       "    </tr>\n",
       "  </tbody>\n",
       "</table>\n",
       "<p>7626 rows × 2 columns</p>\n",
       "</div>"
      ],
      "text/plain": [
       "      marker_symbol marker_accession_id\n",
       "0               Rhd         MGI:1202882\n",
       "1              Dpf2          MGI:109529\n",
       "2             Gna13           MGI:95768\n",
       "3           Dynlrb2         MGI:1922715\n",
       "4           Slc16a2         MGI:1203732\n",
       "...             ...                 ...\n",
       "46753        Amigo3         MGI:2444854\n",
       "46806          Sec1         MGI:1928893\n",
       "46833       Slc23a3          MGI:104516\n",
       "46894         Agtr2           MGI:87966\n",
       "46985      Cfap20dc         MGI:1926154\n",
       "\n",
       "[7626 rows x 2 columns]"
      ]
     },
     "execution_count": 79,
     "metadata": {},
     "output_type": "execute_result"
    }
   ],
   "source": [
    "data_select = data[['marker_symbol', 'marker_accession_id']].drop_duplicates()\n",
    "# data_select = data[['marker_symbol', 'marker_accession_id', 'mp_term_name', 'mp_term_id']].drop_duplicates()\n",
    "data_select"
   ]
  },
  {
   "cell_type": "code",
   "execution_count": 80,
   "metadata": {},
   "outputs": [],
   "source": [
    "data_dict = dict()\n",
    "for index, row in data_select.iterrows():\n",
    "    data_dict[row['marker_symbol']] = row['marker_accession_id']"
   ]
  },
  {
   "cell_type": "code",
   "execution_count": 81,
   "metadata": {},
   "outputs": [
    {
     "data": {
      "text/plain": [
       "'MGI:97281'"
      ]
     },
     "execution_count": 81,
     "metadata": {},
     "output_type": "execute_result"
    }
   ],
   "source": [
    "data_dict[\"Ncam1\"]"
   ]
  },
  {
   "cell_type": "code",
   "execution_count": 82,
   "metadata": {},
   "outputs": [
    {
     "data": {
      "text/plain": [
       "137963"
      ]
     },
     "execution_count": 82,
     "metadata": {},
     "output_type": "execute_result"
    }
   ],
   "source": [
    "json.dump(data_dict, open(\"data/annotation/symbol_mgiid.json\", \"w\"), indent=4, sort_keys=True)\n",
    "Path(\"data/annotation/symbol_mgiid.tsv\").write_text(\"\\n\".join([f\"{k}\\t{v}\" for k, v in data_dict.items()]))"
   ]
  },
  {
   "cell_type": "code",
   "execution_count": 83,
   "metadata": {},
   "outputs": [
    {
     "name": "stdout",
     "output_type": "stream",
     "text": [
      "{\n",
      "    \"0610010K14Rik\": \"MGI:1915609\",\n",
      "    \"0610040J01Rik\": \"MGI:1923511\",\n",
      "Rhd\tMGI:1202882\n",
      "Dpf2\tMGI:109529\n",
      "Gna13\tMGI:95768\n"
     ]
    }
   ],
   "source": [
    "%%bash\n",
    "head -n 3 data/annotation/symbol_mgiid.json\n",
    "head -n 3 data/annotation/symbol_mgiid.tsv"
   ]
  },
  {
   "cell_type": "code",
   "execution_count": null,
   "metadata": {},
   "outputs": [],
   "source": []
  }
 ],
 "metadata": {
  "kernelspec": {
   "display_name": "Python 3",
   "language": "python",
   "name": "python3"
  },
  "language_info": {
   "codemirror_mode": {
    "name": "ipython",
    "version": 3
   },
   "file_extension": ".py",
   "mimetype": "text/x-python",
   "name": "python",
   "nbconvert_exporter": "python",
   "pygments_lexer": "ipython3",
   "version": "3.10.15"
  }
 },
 "nbformat": 4,
 "nbformat_minor": 2
}
