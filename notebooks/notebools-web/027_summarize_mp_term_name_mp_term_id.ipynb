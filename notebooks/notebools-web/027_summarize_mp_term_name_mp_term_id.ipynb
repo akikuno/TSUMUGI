{
 "cells": [
  {
   "cell_type": "markdown",
   "metadata": {},
   "source": [
    "# Create pairs of `mp_term_in` and `mp_term_name` for each gene"
   ]
  },
  {
   "cell_type": "code",
   "execution_count": 1,
   "metadata": {},
   "outputs": [
    {
     "name": "stdout",
     "output_type": "stream",
     "text": [
      "/mnt/e/TSUMUGI/notebooks/notebools-web\n",
      "/mnt/e/TSUMUGI\n"
     ]
    }
   ],
   "source": [
    "# Move up to top directory\n",
    "import os\n",
    "from pathlib import Path\n",
    "\n",
    "print(os.getcwd())\n",
    "\n",
    "while not Path(\"LICENSE\").exists():\n",
    "    os.chdir('../')\n",
    "\n",
    "print(os.getcwd())"
   ]
  },
  {
   "cell_type": "code",
   "execution_count": 2,
   "metadata": {},
   "outputs": [],
   "source": [
    "from pathlib import Path\n",
    "from collections import defaultdict\n",
    "from itertools import combinations\n",
    "import csv\n",
    "import pandas as pd\n",
    "from matplotlib import pyplot as plt"
   ]
  },
  {
   "cell_type": "code",
   "execution_count": 3,
   "metadata": {},
   "outputs": [],
   "source": [
    "path_data = Path(\"data\", \"statistical_filtered.csv\")"
   ]
  },
  {
   "cell_type": "code",
   "execution_count": 4,
   "metadata": {},
   "outputs": [
    {
     "name": "stderr",
     "output_type": "stream",
     "text": [
      "/tmp/ipykernel_31647/2449997823.py:1: DtypeWarning: Columns (25,60) have mixed types. Specify dtype option on import or set low_memory=False.\n",
      "  data = pd.read_csv(path_data)\n"
     ]
    }
   ],
   "source": [
    "data = pd.read_csv(path_data)"
   ]
  },
  {
   "cell_type": "code",
   "execution_count": 5,
   "metadata": {},
   "outputs": [
    {
     "data": {
      "text/html": [
       "<div>\n",
       "<style scoped>\n",
       "    .dataframe tbody tr th:only-of-type {\n",
       "        vertical-align: middle;\n",
       "    }\n",
       "\n",
       "    .dataframe tbody tr th {\n",
       "        vertical-align: top;\n",
       "    }\n",
       "\n",
       "    .dataframe thead th {\n",
       "        text-align: right;\n",
       "    }\n",
       "</style>\n",
       "<table border=\"1\" class=\"dataframe\">\n",
       "  <thead>\n",
       "    <tr style=\"text-align: right;\">\n",
       "      <th></th>\n",
       "      <th>mp_term_id</th>\n",
       "      <th>mp_term_name</th>\n",
       "    </tr>\n",
       "  </thead>\n",
       "  <tbody>\n",
       "    <tr>\n",
       "      <th>0</th>\n",
       "      <td>MP:0001303</td>\n",
       "      <td>abnormal lens morphology</td>\n",
       "    </tr>\n",
       "    <tr>\n",
       "      <th>1</th>\n",
       "      <td>MP:0003068</td>\n",
       "      <td>enlarged kidney</td>\n",
       "    </tr>\n",
       "    <tr>\n",
       "      <th>2</th>\n",
       "      <td>MP:0001392</td>\n",
       "      <td>abnormal locomotor behavior</td>\n",
       "    </tr>\n",
       "    <tr>\n",
       "      <th>3</th>\n",
       "      <td>MP:0000709</td>\n",
       "      <td>enlarged thymus</td>\n",
       "    </tr>\n",
       "    <tr>\n",
       "      <th>4</th>\n",
       "      <td>MP:0001926</td>\n",
       "      <td>female infertility</td>\n",
       "    </tr>\n",
       "    <tr>\n",
       "      <th>...</th>\n",
       "      <td>...</td>\n",
       "      <td>...</td>\n",
       "    </tr>\n",
       "    <tr>\n",
       "      <th>46204</th>\n",
       "      <td>MP:0004818</td>\n",
       "      <td>increased skeletal muscle mass</td>\n",
       "    </tr>\n",
       "    <tr>\n",
       "      <th>47247</th>\n",
       "      <td>MP:0005407</td>\n",
       "      <td>hyperalgesia</td>\n",
       "    </tr>\n",
       "    <tr>\n",
       "      <th>48663</th>\n",
       "      <td>MP:0003956</td>\n",
       "      <td>abnormal body size</td>\n",
       "    </tr>\n",
       "    <tr>\n",
       "      <th>51033</th>\n",
       "      <td>MP:0009477</td>\n",
       "      <td>small cecum</td>\n",
       "    </tr>\n",
       "    <tr>\n",
       "      <th>53143</th>\n",
       "      <td>MP:0012124</td>\n",
       "      <td>increased bronchoconstrictive response</td>\n",
       "    </tr>\n",
       "  </tbody>\n",
       "</table>\n",
       "<p>664 rows × 2 columns</p>\n",
       "</div>"
      ],
      "text/plain": [
       "       mp_term_id                            mp_term_name\n",
       "0      MP:0001303                abnormal lens morphology\n",
       "1      MP:0003068                         enlarged kidney\n",
       "2      MP:0001392             abnormal locomotor behavior\n",
       "3      MP:0000709                         enlarged thymus\n",
       "4      MP:0001926                      female infertility\n",
       "...           ...                                     ...\n",
       "46204  MP:0004818          increased skeletal muscle mass\n",
       "47247  MP:0005407                            hyperalgesia\n",
       "48663  MP:0003956                      abnormal body size\n",
       "51033  MP:0009477                             small cecum\n",
       "53143  MP:0012124  increased bronchoconstrictive response\n",
       "\n",
       "[664 rows x 2 columns]"
      ]
     },
     "execution_count": 5,
     "metadata": {},
     "output_type": "execute_result"
    }
   ],
   "source": [
    "data_select = data[['mp_term_id', 'mp_term_name']].drop_duplicates()\n",
    "# data_select = data[['marker_symbol', 'marker_accession_id', 'mp_term_name', 'mp_term_id']].drop_duplicates()\n",
    "data_select"
   ]
  },
  {
   "cell_type": "code",
   "execution_count": 6,
   "metadata": {},
   "outputs": [],
   "source": [
    "data_dict = dict()\n",
    "for index, row in data_select.iterrows():\n",
    "    data_dict[row['mp_term_name']] = row['mp_term_id']\n",
    "\n"
   ]
  },
  {
   "cell_type": "code",
   "execution_count": 7,
   "metadata": {},
   "outputs": [
    {
     "data": {
      "text/plain": [
       "'MP:0003655'"
      ]
     },
     "execution_count": 7,
     "metadata": {},
     "output_type": "execute_result"
    }
   ],
   "source": [
    "data_dict[\"absent pancreas\"]"
   ]
  },
  {
   "cell_type": "code",
   "execution_count": 8,
   "metadata": {},
   "outputs": [],
   "source": [
    "import json\n",
    "json.dump(data_dict, open(\"data/mp_term_name_id.json\", \"w\"))"
   ]
  },
  {
   "cell_type": "code",
   "execution_count": 9,
   "metadata": {},
   "outputs": [
    {
     "name": "stdout",
     "output_type": "stream",
     "text": [
      "-rwxrwxrwx 1 aki aki 30K Dec  4 12:38 data/mp_term_name_id.json\n"
     ]
    }
   ],
   "source": [
    "%%bash\n",
    "\n",
    "ls -lh data/mp_term_name_id.json"
   ]
  },
  {
   "cell_type": "markdown",
   "metadata": {},
   "source": [
    "## 表現型について、IMPCのリンクを結びつける"
   ]
  },
  {
   "cell_type": "code",
   "execution_count": 10,
   "metadata": {},
   "outputs": [
    {
     "name": "stdout",
     "output_type": "stream",
     "text": [
      "https://www.mousephenotype.org/data/phenotypes/MP:0002217\n"
     ]
    }
   ],
   "source": [
    "data_dict_url = dict()\n",
    "for index, row in data_select.iterrows():\n",
    "    mp_tern_id = row['mp_term_id']\n",
    "    impc_url = f\"https://www.mousephenotype.org/data/phenotypes/{mp_tern_id}\"\n",
    "    mp_term_name = row['mp_term_name']\n",
    "    data_dict_url[mp_term_name] = impc_url\n",
    "\n",
    "print(data_dict_url[\"small lymph nodes\"])"
   ]
  },
  {
   "cell_type": "code",
   "execution_count": 11,
   "metadata": {},
   "outputs": [],
   "source": [
    "with open('data/mp_term_name_id_url.tsv', 'w') as f:\n",
    "    for term, url in data_dict_url.items():\n",
    "        f.write(f\"{term}\\t{url}\\n\")\n",
    "        # f.write(f\"{term.replace(' ', '_')}\\t{url}\\n\")"
   ]
  },
  {
   "cell_type": "code",
   "execution_count": 12,
   "metadata": {},
   "outputs": [
    {
     "name": "stdout",
     "output_type": "stream",
     "text": [
      "abnormal lens morphology\thttps://www.mousephenotype.org/data/phenotypes/MP:0001303\n",
      "enlarged kidney\thttps://www.mousephenotype.org/data/phenotypes/MP:0003068\n",
      "abnormal locomotor behavior\thttps://www.mousephenotype.org/data/phenotypes/MP:0001392\n",
      "enlarged thymus\thttps://www.mousephenotype.org/data/phenotypes/MP:0000709\n",
      "female infertility\thttps://www.mousephenotype.org/data/phenotypes/MP:0001926\n",
      "increased freezing behavior\thttps://www.mousephenotype.org/data/phenotypes/MP:0020421\n",
      "preweaning lethality, complete penetrance\thttps://www.mousephenotype.org/data/phenotypes/MP:0011100\n",
      "decreased circulating cholesterol level\thttps://www.mousephenotype.org/data/phenotypes/MP:0005179\n",
      "abnormal retina vasculature morphology\thttps://www.mousephenotype.org/data/phenotypes/MP:0002792\n",
      "hyperactivity\thttps://www.mousephenotype.org/data/phenotypes/MP:0001399\n"
     ]
    }
   ],
   "source": [
    "%%bash\n",
    "\n",
    "head data/mp_term_name_id_url.tsv"
   ]
  },
  {
   "cell_type": "code",
   "execution_count": null,
   "metadata": {},
   "outputs": [],
   "source": []
  }
 ],
 "metadata": {
  "kernelspec": {
   "display_name": "env-impc",
   "language": "python",
   "name": "python3"
  },
  "language_info": {
   "codemirror_mode": {
    "name": "ipython",
    "version": 3
   },
   "file_extension": ".py",
   "mimetype": "text/x-python",
   "name": "python",
   "nbconvert_exporter": "python",
   "pygments_lexer": "ipython3",
   "version": "3.10.15"
  }
 },
 "nbformat": 4,
 "nbformat_minor": 2
}
