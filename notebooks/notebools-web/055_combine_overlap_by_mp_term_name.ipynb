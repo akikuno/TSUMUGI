{
 "cells": [
  {
   "cell_type": "markdown",
   "metadata": {},
   "source": [
    "# Overlap と mp_term_name の統合\n",
    "\n",
    "-   例：abnormal_circulating_glucose_level（連続値）\n",
    "-   例：male_infertility（カテゴリ値）\n"
   ]
  },
  {
   "cell_type": "code",
   "execution_count": 1,
   "metadata": {},
   "outputs": [
    {
     "name": "stdout",
     "output_type": "stream",
     "text": [
      "/mnt/e/Research/TSUMUGI/notebooks/notebools-web\n",
      "/mnt/e/Research/TSUMUGI\n"
     ]
    }
   ],
   "source": [
    "# Move up to top directory\n",
    "import os\n",
    "from pathlib import Path\n",
    "\n",
    "print(os.getcwd())\n",
    "\n",
    "while not Path(\"LICENSE\").exists():\n",
    "    os.chdir('../')\n",
    "\n",
    "print(os.getcwd())"
   ]
  },
  {
   "cell_type": "code",
   "execution_count": 2,
   "metadata": {},
   "outputs": [],
   "source": [
    "P = print\n",
    "from pprint import pprint as PP\n",
    "from collections import Counter as C\n",
    "from pathlib import Path\n",
    "from collections import defaultdict\n",
    "from itertools import combinations\n",
    "import csv\n",
    "import json\n",
    "import pickle\n",
    "import gzip\n",
    "import shutil\n",
    "\n",
    "import numpy as np\n",
    "import pandas as pd\n",
    "import matplotlib.pyplot as plt\n",
    "import seaborn as sns"
   ]
  },
  {
   "cell_type": "code",
   "execution_count": null,
   "metadata": {},
   "outputs": [],
   "source": []
  },
  {
   "cell_type": "markdown",
   "metadata": {},
   "source": [
    "# 一括処理\n"
   ]
  },
  {
   "cell_type": "code",
   "execution_count": 3,
   "metadata": {},
   "outputs": [
    {
     "data": {
      "text/html": [
       "<div>\n",
       "<style scoped>\n",
       "    .dataframe tbody tr th:only-of-type {\n",
       "        vertical-align: middle;\n",
       "    }\n",
       "\n",
       "    .dataframe tbody tr th {\n",
       "        vertical-align: top;\n",
       "    }\n",
       "\n",
       "    .dataframe thead th {\n",
       "        text-align: right;\n",
       "    }\n",
       "</style>\n",
       "<table border=\"1\" class=\"dataframe\">\n",
       "  <thead>\n",
       "    <tr style=\"text-align: right;\">\n",
       "      <th></th>\n",
       "      <th>marker1</th>\n",
       "      <th>marker2</th>\n",
       "      <th>overlap_ratio</th>\n",
       "      <th>overlapped_mp_number</th>\n",
       "      <th>overlapped_mp</th>\n",
       "    </tr>\n",
       "  </thead>\n",
       "  <tbody>\n",
       "    <tr>\n",
       "      <th>0</th>\n",
       "      <td>0610010K14Rik</td>\n",
       "      <td>4933427D14Rik</td>\n",
       "      <td>0.500</td>\n",
       "      <td>3</td>\n",
       "      <td>[embryonic lethality prior to organogenesis (H...</td>\n",
       "    </tr>\n",
       "    <tr>\n",
       "      <th>1</th>\n",
       "      <td>0610010K14Rik</td>\n",
       "      <td>Acvr1</td>\n",
       "      <td>0.600</td>\n",
       "      <td>3</td>\n",
       "      <td>[embryonic lethality prior to organogenesis (H...</td>\n",
       "    </tr>\n",
       "    <tr>\n",
       "      <th>2</th>\n",
       "      <td>0610010K14Rik</td>\n",
       "      <td>Adss2</td>\n",
       "      <td>0.375</td>\n",
       "      <td>3</td>\n",
       "      <td>[embryonic lethality prior to organogenesis (H...</td>\n",
       "    </tr>\n",
       "    <tr>\n",
       "      <th>3</th>\n",
       "      <td>0610010K14Rik</td>\n",
       "      <td>Ahcy</td>\n",
       "      <td>0.500</td>\n",
       "      <td>3</td>\n",
       "      <td>[embryonic lethality prior to organogenesis (H...</td>\n",
       "    </tr>\n",
       "    <tr>\n",
       "      <th>4</th>\n",
       "      <td>0610010K14Rik</td>\n",
       "      <td>Anapc4</td>\n",
       "      <td>0.750</td>\n",
       "      <td>3</td>\n",
       "      <td>[embryonic lethality prior to organogenesis (H...</td>\n",
       "    </tr>\n",
       "    <tr>\n",
       "      <th>...</th>\n",
       "      <td>...</td>\n",
       "      <td>...</td>\n",
       "      <td>...</td>\n",
       "      <td>...</td>\n",
       "      <td>...</td>\n",
       "    </tr>\n",
       "    <tr>\n",
       "      <th>134875</th>\n",
       "      <td>Zfp532</td>\n",
       "      <td>Zmynd8</td>\n",
       "      <td>0.273</td>\n",
       "      <td>3</td>\n",
       "      <td>[decreased mean corpuscular volume (Hetero), p...</td>\n",
       "    </tr>\n",
       "    <tr>\n",
       "      <th>134876</th>\n",
       "      <td>Zfp593</td>\n",
       "      <td>Zfp746</td>\n",
       "      <td>0.333</td>\n",
       "      <td>4</td>\n",
       "      <td>[decreased bone mineral content (Homo), decrea...</td>\n",
       "    </tr>\n",
       "    <tr>\n",
       "      <th>134877</th>\n",
       "      <td>Zfp638</td>\n",
       "      <td>Znhit2</td>\n",
       "      <td>0.375</td>\n",
       "      <td>3</td>\n",
       "      <td>[embryonic lethality prior to organogenesis (H...</td>\n",
       "    </tr>\n",
       "    <tr>\n",
       "      <th>134878</th>\n",
       "      <td>Zfp871</td>\n",
       "      <td>Zwilch</td>\n",
       "      <td>0.250</td>\n",
       "      <td>3</td>\n",
       "      <td>[abnormal embryo size (Homo), embryonic growth...</td>\n",
       "    </tr>\n",
       "    <tr>\n",
       "      <th>134879</th>\n",
       "      <td>Zfp91</td>\n",
       "      <td>Zmym2</td>\n",
       "      <td>0.130</td>\n",
       "      <td>3</td>\n",
       "      <td>[edema (Homo), increased startle reflex (Heter...</td>\n",
       "    </tr>\n",
       "  </tbody>\n",
       "</table>\n",
       "<p>134880 rows × 5 columns</p>\n",
       "</div>"
      ],
      "text/plain": [
       "              marker1        marker2  overlap_ratio  overlapped_mp_number  \\\n",
       "0       0610010K14Rik  4933427D14Rik          0.500                     3   \n",
       "1       0610010K14Rik          Acvr1          0.600                     3   \n",
       "2       0610010K14Rik          Adss2          0.375                     3   \n",
       "3       0610010K14Rik           Ahcy          0.500                     3   \n",
       "4       0610010K14Rik         Anapc4          0.750                     3   \n",
       "...               ...            ...            ...                   ...   \n",
       "134875         Zfp532         Zmynd8          0.273                     3   \n",
       "134876         Zfp593         Zfp746          0.333                     4   \n",
       "134877         Zfp638         Znhit2          0.375                     3   \n",
       "134878         Zfp871         Zwilch          0.250                     3   \n",
       "134879          Zfp91          Zmym2          0.130                     3   \n",
       "\n",
       "                                            overlapped_mp  \n",
       "0       [embryonic lethality prior to organogenesis (H...  \n",
       "1       [embryonic lethality prior to organogenesis (H...  \n",
       "2       [embryonic lethality prior to organogenesis (H...  \n",
       "3       [embryonic lethality prior to organogenesis (H...  \n",
       "4       [embryonic lethality prior to organogenesis (H...  \n",
       "...                                                   ...  \n",
       "134875  [decreased mean corpuscular volume (Hetero), p...  \n",
       "134876  [decreased bone mineral content (Homo), decrea...  \n",
       "134877  [embryonic lethality prior to organogenesis (H...  \n",
       "134878  [abnormal embryo size (Homo), embryonic growth...  \n",
       "134879  [edema (Homo), increased startle reflex (Heter...  \n",
       "\n",
       "[134880 rows x 5 columns]"
      ]
     },
     "execution_count": 3,
     "metadata": {},
     "output_type": "execute_result"
    }
   ],
   "source": [
    "overlap = pickle.load(open(\"data/overlap/overlapped_ratios_filtered.pkl\", \"rb\"))\n",
    "df_overlap = pd.DataFrame(\n",
    "    overlap, columns=[\"marker1\", \"marker2\", \"overlap_ratio\", \"overlapped_mp_number\", \"overlapped_mp\"]\n",
    ")\n",
    "df_overlap  # 240358 rows × 5 columns"
   ]
  },
  {
   "cell_type": "code",
   "execution_count": 7,
   "metadata": {},
   "outputs": [
    {
     "data": {
      "text/html": [
       "<div>\n",
       "<style scoped>\n",
       "    .dataframe tbody tr th:only-of-type {\n",
       "        vertical-align: middle;\n",
       "    }\n",
       "\n",
       "    .dataframe tbody tr th {\n",
       "        vertical-align: top;\n",
       "    }\n",
       "\n",
       "    .dataframe thead th {\n",
       "        text-align: right;\n",
       "    }\n",
       "</style>\n",
       "<table border=\"1\" class=\"dataframe\">\n",
       "  <thead>\n",
       "    <tr style=\"text-align: right;\">\n",
       "      <th></th>\n",
       "      <th>marker_symbol</th>\n",
       "      <th>mp_term_name</th>\n",
       "    </tr>\n",
       "  </thead>\n",
       "  <tbody>\n",
       "    <tr>\n",
       "      <th>0</th>\n",
       "      <td>0610010K14Rik</td>\n",
       "      <td>[embryonic lethality prior to organogenesis (H...</td>\n",
       "    </tr>\n",
       "    <tr>\n",
       "      <th>1</th>\n",
       "      <td>0610040J01Rik</td>\n",
       "      <td>[abnormal heart morphology (Homo), abnormal sp...</td>\n",
       "    </tr>\n",
       "    <tr>\n",
       "      <th>2</th>\n",
       "      <td>1110059G10Rik</td>\n",
       "      <td>[vertebral transformation (Homo)]</td>\n",
       "    </tr>\n",
       "    <tr>\n",
       "      <th>3</th>\n",
       "      <td>1500009L16Rik</td>\n",
       "      <td>[decreased bone mineral density (Homo), increa...</td>\n",
       "    </tr>\n",
       "    <tr>\n",
       "      <th>4</th>\n",
       "      <td>1600014C10Rik</td>\n",
       "      <td>[abnormal coat/hair pigmentation (Homo), abnor...</td>\n",
       "    </tr>\n",
       "    <tr>\n",
       "      <th>...</th>\n",
       "      <td>...</td>\n",
       "      <td>...</td>\n",
       "    </tr>\n",
       "    <tr>\n",
       "      <th>7621</th>\n",
       "      <td>Zwint</td>\n",
       "      <td>[embryonic lethality prior to organogenesis (H...</td>\n",
       "    </tr>\n",
       "    <tr>\n",
       "      <th>7622</th>\n",
       "      <td>Zyg11b</td>\n",
       "      <td>[decreased exploration in new environment (Het...</td>\n",
       "    </tr>\n",
       "    <tr>\n",
       "      <th>7623</th>\n",
       "      <td>Zzef1</td>\n",
       "      <td>[abnormal coat/hair pigmentation (Homo), abnor...</td>\n",
       "    </tr>\n",
       "    <tr>\n",
       "      <th>7624</th>\n",
       "      <td>Zzz3</td>\n",
       "      <td>[abnormal cornea morphology (Hetero), corneal ...</td>\n",
       "    </tr>\n",
       "    <tr>\n",
       "      <th>7625</th>\n",
       "      <td>a</td>\n",
       "      <td>[abnormal kidney morphology (Homo), abnormal s...</td>\n",
       "    </tr>\n",
       "  </tbody>\n",
       "</table>\n",
       "<p>7626 rows × 2 columns</p>\n",
       "</div>"
      ],
      "text/plain": [
       "      marker_symbol                                       mp_term_name\n",
       "0     0610010K14Rik  [embryonic lethality prior to organogenesis (H...\n",
       "1     0610040J01Rik  [abnormal heart morphology (Homo), abnormal sp...\n",
       "2     1110059G10Rik                  [vertebral transformation (Homo)]\n",
       "3     1500009L16Rik  [decreased bone mineral density (Homo), increa...\n",
       "4     1600014C10Rik  [abnormal coat/hair pigmentation (Homo), abnor...\n",
       "...             ...                                                ...\n",
       "7621          Zwint  [embryonic lethality prior to organogenesis (H...\n",
       "7622         Zyg11b  [decreased exploration in new environment (Het...\n",
       "7623          Zzef1  [abnormal coat/hair pigmentation (Homo), abnor...\n",
       "7624           Zzz3  [abnormal cornea morphology (Hetero), corneal ...\n",
       "7625              a  [abnormal kidney morphology (Homo), abnormal s...\n",
       "\n",
       "[7626 rows x 2 columns]"
      ]
     },
     "execution_count": 7,
     "metadata": {},
     "output_type": "execute_result"
    }
   ],
   "source": [
    "marker_mp = json.load(open(\"data/annotation/symbol_mptermname.json\"))\n",
    "marker_mp = pd.DataFrame(marker_mp.items(), columns=[\"marker_symbol\", \"mp_term_name\"])\n",
    "marker_mp # 7626 rows × 2 columns"
   ]
  },
  {
   "cell_type": "code",
   "execution_count": 8,
   "metadata": {},
   "outputs": [
    {
     "name": "stdout",
     "output_type": "stream",
     "text": [
      "134880\n",
      "7626\n"
     ]
    }
   ],
   "source": [
    "print(len(df_overlap)) # 184250 → 134880\n",
    "print(len(marker_mp)) # 7626"
   ]
  },
  {
   "cell_type": "code",
   "execution_count": 9,
   "metadata": {},
   "outputs": [],
   "source": [
    "import shutil\n",
    "output_dir = Path(\"data/network/mp_term_name\")\n",
    "# remove network directory\n",
    "if output_dir.exists():\n",
    "    shutil.rmtree(output_dir)\n",
    "\n",
    "output_dir.mkdir(exist_ok=True, parents=True)\n"
   ]
  },
  {
   "cell_type": "code",
   "execution_count": 10,
   "metadata": {},
   "outputs": [],
   "source": [
    "path_mp_terms = list(Path(\"data\", \"mp_term_name\").glob(\"*.csv\"))\n",
    "# print(path_mp_terms[:3])\n",
    "# print(len(path_mp_terms))\n",
    "# path_mp_term = Path(\"data\", \"mp_term_name\", \"decreased_circulating_glucose_level.csv\")\n",
    "\n",
    "for path_mp_term in path_mp_terms:\n",
    "    mp_term = path_mp_term.stem\n",
    "    # print(mp_term)\n",
    "\n",
    "    df_marker_effect = pd.read_csv(path_mp_term)\n",
    "    df_marker_effect = df_marker_effect[[\"marker_symbol\", \"effect_size\"]].drop_duplicates()\n",
    "    df_marker_effect = df_marker_effect.dropna(subset=[\"effect_size\"])\n",
    "\n",
    "    # Absolute value of effect size\n",
    "    df_marker_effect.loc[:, \"effect_size\"] = df_marker_effect[\"effect_size\"].abs()\n",
    "\n",
    "    df_filtered = df_overlap[\n",
    "        (df_overlap['marker1'].isin(df_marker_effect['marker_symbol'])) &\n",
    "        (df_overlap['marker2'].isin(df_marker_effect['marker_symbol']))\n",
    "    ]\n",
    "    ## 出力\n",
    "    ### Nodeを作成する\n",
    "    df_marker1 = df_filtered[[\"marker1\"]]\n",
    "    df_marker2 = df_filtered[[\"marker2\"]]\n",
    "    df_node_marker1 = pd.merge(df_marker1, df_marker_effect, left_on='marker1', right_on='marker_symbol', how='inner')[[\"marker_symbol\"]]\n",
    "    df_node_marker2 = pd.merge(df_marker2, df_marker_effect, left_on='marker2', right_on='marker_symbol', how='inner')[[\"marker_symbol\"]]\n",
    "\n",
    "    df_node = pd.concat([df_node_marker1, df_node_marker2], axis=0).drop_duplicates()\n",
    "\n",
    "\n",
    "    df_node = pd.merge(df_node, marker_mp, how='inner', on='marker_symbol')\n",
    "    df_node = pd.merge(df_node, df_marker_effect, how='inner', on='marker_symbol')\n",
    "\n",
    "\n",
    "    # NodeをJSON形式に変換\n",
    "    node_json = []\n",
    "    for _, row in df_node.iterrows():\n",
    "        node_json.append({\n",
    "            \"data\": {\n",
    "                \"id\": row['marker_symbol'],\n",
    "                \"label\": row['marker_symbol'],\n",
    "                \"annotation\": row['mp_term_name'],\n",
    "                \"node_color\": row['effect_size']\n",
    "            }\n",
    "        })\n",
    "\n",
    "    ### Edgeを作成する\n",
    "    df_edge = df_filtered[[\"marker1\", \"marker2\", \"overlap_ratio\", \"overlapped_mp\"]]\n",
    "    # EdgeをJSON形式に変換\n",
    "    edge_json = []\n",
    "    for _, row in df_edge.iterrows():\n",
    "        edge_json.append({\n",
    "            \"data\": {\n",
    "                \"source\": row['marker1'],\n",
    "                \"target\": row['marker2'],\n",
    "                \"annotation\": row['overlapped_mp'],\n",
    "                \"edge_size\": row['overlap_ratio']\n",
    "            }\n",
    "        })\n",
    "\n",
    "    ### EdgeとNodeを統合して、出力\n",
    "    # Combine node and edge\n",
    "\n",
    "    network_json = node_json + edge_json\n",
    "\n",
    "    # Output as JSON\n",
    "    if network_json:\n",
    "        output_json = output_dir / f\"{mp_term}.json.gz\"\n",
    "        with gzip.open(output_json, \"wt\", encoding=\"utf-8\") as f:\n",
    "            json.dump(network_json, f, indent=2)\n",
    "\n",
    "# 39.5 seconds"
   ]
  },
  {
   "cell_type": "code",
   "execution_count": 11,
   "metadata": {},
   "outputs": [
    {
     "name": "stdout",
     "output_type": "stream",
     "text": [
      "total 9.0M\n",
      "-rwxrwxrwx 1 kuno kuno  933 Jan 11 07:28 abnormal_QT_variability.json.gz\n",
      "-rwxrwxrwx 1 kuno kuno  741 Jan 11 07:28 abnormal_abdominal_wall_morphology.json.gz\n",
      "-rwxrwxrwx 1 kuno kuno 2.1K Jan 11 07:28 abnormal_adrenal_gland_morphology.json.gz\n",
      "-rwxrwxrwx 1 kuno kuno 2.9K Jan 11 07:28 abnormal_allantois_morphology.json.gz\n"
     ]
    }
   ],
   "source": [
    "%%bash\n",
    "\n",
    "ls -lh data/network/mp_term_name/ | head -n 5 # 9.0M"
   ]
  },
  {
   "cell_type": "code",
   "execution_count": null,
   "metadata": {},
   "outputs": [],
   "source": []
  },
  {
   "cell_type": "markdown",
   "metadata": {},
   "source": [
    "# Debug\n"
   ]
  },
  {
   "cell_type": "code",
   "execution_count": null,
   "metadata": {},
   "outputs": [
    {
     "name": "stdout",
     "output_type": "stream",
     "text": [
      "184250\n"
     ]
    },
    {
     "data": {
      "text/html": [
       "<div>\n",
       "<style scoped>\n",
       "    .dataframe tbody tr th:only-of-type {\n",
       "        vertical-align: middle;\n",
       "    }\n",
       "\n",
       "    .dataframe tbody tr th {\n",
       "        vertical-align: top;\n",
       "    }\n",
       "\n",
       "    .dataframe thead th {\n",
       "        text-align: right;\n",
       "    }\n",
       "</style>\n",
       "<table border=\"1\" class=\"dataframe\">\n",
       "  <thead>\n",
       "    <tr style=\"text-align: right;\">\n",
       "      <th></th>\n",
       "      <th>marker1</th>\n",
       "      <th>marker2</th>\n",
       "      <th>overlap_ratio</th>\n",
       "      <th>overlapped_mp_number</th>\n",
       "      <th>overlapped_mp</th>\n",
       "    </tr>\n",
       "  </thead>\n",
       "  <tbody>\n",
       "    <tr>\n",
       "      <th>0</th>\n",
       "      <td>Rhd</td>\n",
       "      <td>Ap4e1</td>\n",
       "      <td>0.071</td>\n",
       "      <td>5</td>\n",
       "      <td>[decreased circulating free fatty acids level,...</td>\n",
       "    </tr>\n",
       "    <tr>\n",
       "      <th>1</th>\n",
       "      <td>Rhd</td>\n",
       "      <td>Asxl1</td>\n",
       "      <td>0.136</td>\n",
       "      <td>3</td>\n",
       "      <td>[decreased hemoglobin content, decreased mean ...</td>\n",
       "    </tr>\n",
       "    <tr>\n",
       "      <th>2</th>\n",
       "      <td>Rhd</td>\n",
       "      <td>Abcg8</td>\n",
       "      <td>0.091</td>\n",
       "      <td>4</td>\n",
       "      <td>[decreased hemoglobin content, decreased mean ...</td>\n",
       "    </tr>\n",
       "  </tbody>\n",
       "</table>\n",
       "</div>"
      ],
      "text/plain": [
       "  marker1 marker2  overlap_ratio  overlapped_mp_number  \\\n",
       "0     Rhd   Ap4e1          0.071                     5   \n",
       "1     Rhd   Asxl1          0.136                     3   \n",
       "2     Rhd   Abcg8          0.091                     4   \n",
       "\n",
       "                                       overlapped_mp  \n",
       "0  [decreased circulating free fatty acids level,...  \n",
       "1  [decreased hemoglobin content, decreased mean ...  \n",
       "2  [decreased hemoglobin content, decreased mean ...  "
      ]
     },
     "metadata": {},
     "output_type": "display_data"
    }
   ],
   "source": [
    "# path_overlap = Path(\"data\", \"overlap_ratios_filtered.csv\")\n",
    "# df_overlap = pd.read_csv(path_overlap)\n",
    "\n",
    "overlap = pickle.load(open(\"data/overlapped_ratios_filtered.pkl\", \"rb\"))\n",
    "df_overlap = pd.DataFrame(overlap, columns=[\"marker1\", \"marker2\", \"overlap_ratio\", \"overlapped_mp_number\", \"overlapped_mp\"])\n",
    "P(len(df_overlap)) # 184250\n",
    "df_overlap.head(3)"
   ]
  },
  {
   "cell_type": "code",
   "execution_count": null,
   "metadata": {},
   "outputs": [
    {
     "name": "stdout",
     "output_type": "stream",
     "text": [
      "[PosixPath('data/mp_term_name/abnormal_abdominal_wall_morphology.csv'), PosixPath('data/mp_term_name/abnormal_adipose_tissue_amount.csv'), PosixPath('data/mp_term_name/abnormal_adrenal_gland_morphology.csv')]\n",
      "670\n"
     ]
    }
   ],
   "source": [
    "path_mp_terms = list(Path(\"data\", \"mp_term_name\").glob(\"*.csv\"))\n",
    "print(path_mp_terms[:3])\n",
    "print(len(path_mp_terms)) # 670"
   ]
  },
  {
   "cell_type": "code",
   "execution_count": null,
   "metadata": {},
   "outputs": [
    {
     "name": "stdout",
     "output_type": "stream",
     "text": [
      "increased_circulating_glucose_level\n"
     ]
    }
   ],
   "source": [
    "# path_mp_term = Path(\"data\", \"mp_term_name\", \"decreased_circulating_glucose_level.csv\")\n",
    "path_mp_term = Path(\"data\", \"mp_term_name\", \"increased_circulating_glucose_level.csv\")\n",
    "mp_term = path_mp_term.stem\n",
    "print(mp_term)\n"
   ]
  },
  {
   "cell_type": "code",
   "execution_count": null,
   "metadata": {},
   "outputs": [
    {
     "name": "stdout",
     "output_type": "stream",
     "text": [
      "73\n"
     ]
    },
    {
     "data": {
      "text/html": [
       "<div>\n",
       "<style scoped>\n",
       "    .dataframe tbody tr th:only-of-type {\n",
       "        vertical-align: middle;\n",
       "    }\n",
       "\n",
       "    .dataframe tbody tr th {\n",
       "        vertical-align: top;\n",
       "    }\n",
       "\n",
       "    .dataframe thead th {\n",
       "        text-align: right;\n",
       "    }\n",
       "</style>\n",
       "<table border=\"1\" class=\"dataframe\">\n",
       "  <thead>\n",
       "    <tr style=\"text-align: right;\">\n",
       "      <th></th>\n",
       "      <th>marker_symbol</th>\n",
       "      <th>effect_size</th>\n",
       "    </tr>\n",
       "  </thead>\n",
       "  <tbody>\n",
       "    <tr>\n",
       "      <th>0</th>\n",
       "      <td>Zfp513</td>\n",
       "      <td>0.200596</td>\n",
       "    </tr>\n",
       "    <tr>\n",
       "      <th>1</th>\n",
       "      <td>Dbnl</td>\n",
       "      <td>0.828539</td>\n",
       "    </tr>\n",
       "    <tr>\n",
       "      <th>2</th>\n",
       "      <td>Oas1g</td>\n",
       "      <td>0.922229</td>\n",
       "    </tr>\n",
       "  </tbody>\n",
       "</table>\n",
       "</div>"
      ],
      "text/plain": [
       "  marker_symbol  effect_size\n",
       "0        Zfp513     0.200596\n",
       "1          Dbnl     0.828539\n",
       "2         Oas1g     0.922229"
      ]
     },
     "metadata": {},
     "output_type": "display_data"
    }
   ],
   "source": [
    "df_marker_effect = pd.read_csv(path_mp_term)\n",
    "df_marker_effect = df_marker_effect[[\"marker_symbol\", \"effect_size\"]].drop_duplicates()\n",
    "\n",
    "# effect_sizeがNanの行を削除\n",
    "df_marker_effect = df_marker_effect.dropna(subset=[\"effect_size\"])\n",
    "\n",
    "print(len(df_marker_effect))\n",
    "\n",
    "df_marker_effect.head(3)\n"
   ]
  },
  {
   "cell_type": "code",
   "execution_count": null,
   "metadata": {},
   "outputs": [],
   "source": [
    "# print(df_mp[\"effect_size\"].describe())"
   ]
  },
  {
   "cell_type": "code",
   "execution_count": null,
   "metadata": {},
   "outputs": [],
   "source": [
    "# Absolute value of effect size\n",
    "\n",
    "df_marker_effect.loc[:, \"effect_size\"] = df_marker_effect[\"effect_size\"].abs()"
   ]
  },
  {
   "cell_type": "code",
   "execution_count": null,
   "metadata": {},
   "outputs": [],
   "source": [
    "# print(df_overlap[df_overlap[\"intersect_count\"] > 5 & df_overlap[\"overlap_ratio\"] > 0.5])"
   ]
  },
  {
   "cell_type": "code",
   "execution_count": null,
   "metadata": {},
   "outputs": [],
   "source": [
    "# df_overlap_filterd = df_overlap[df_overlap[\"overlapped_mp_number\"] > 0]\n",
    "# df_overlap_filterd = df_overlap[(df_overlap[\"overlap_ratio\"] > 0.25)]\n",
    "df_overlap_filterd = df_overlap"
   ]
  },
  {
   "cell_type": "code",
   "execution_count": null,
   "metadata": {},
   "outputs": [],
   "source": [
    "df_filtered = df_overlap_filterd[\n",
    "    (df_overlap_filterd['marker1'].isin(df_marker_effect['marker_symbol'])) &\n",
    "    (df_overlap_filterd['marker2'].isin(df_marker_effect['marker_symbol']))\n",
    "]"
   ]
  },
  {
   "cell_type": "code",
   "execution_count": null,
   "metadata": {},
   "outputs": [
    {
     "name": "stdout",
     "output_type": "stream",
     "text": [
      "213\n"
     ]
    },
    {
     "data": {
      "text/html": [
       "<div>\n",
       "<style scoped>\n",
       "    .dataframe tbody tr th:only-of-type {\n",
       "        vertical-align: middle;\n",
       "    }\n",
       "\n",
       "    .dataframe tbody tr th {\n",
       "        vertical-align: top;\n",
       "    }\n",
       "\n",
       "    .dataframe thead th {\n",
       "        text-align: right;\n",
       "    }\n",
       "</style>\n",
       "<table border=\"1\" class=\"dataframe\">\n",
       "  <thead>\n",
       "    <tr style=\"text-align: right;\">\n",
       "      <th></th>\n",
       "      <th>marker1</th>\n",
       "      <th>marker2</th>\n",
       "      <th>overlap_ratio</th>\n",
       "      <th>overlapped_mp_number</th>\n",
       "      <th>overlapped_mp</th>\n",
       "    </tr>\n",
       "  </thead>\n",
       "  <tbody>\n",
       "    <tr>\n",
       "      <th>2704</th>\n",
       "      <td>Zfyve19</td>\n",
       "      <td>Rnf10</td>\n",
       "      <td>0.079</td>\n",
       "      <td>5</td>\n",
       "      <td>[abnormal behavior, decreased exploration in n...</td>\n",
       "    </tr>\n",
       "    <tr>\n",
       "      <th>2712</th>\n",
       "      <td>Zfyve19</td>\n",
       "      <td>Usp31</td>\n",
       "      <td>0.136</td>\n",
       "      <td>3</td>\n",
       "      <td>[decreased exploration in new environment, dec...</td>\n",
       "    </tr>\n",
       "    <tr>\n",
       "      <th>2722</th>\n",
       "      <td>Zfyve19</td>\n",
       "      <td>Ky</td>\n",
       "      <td>0.273</td>\n",
       "      <td>3</td>\n",
       "      <td>[abnormal behavior, decreased exploration in n...</td>\n",
       "    </tr>\n",
       "  </tbody>\n",
       "</table>\n",
       "</div>"
      ],
      "text/plain": [
       "      marker1 marker2  overlap_ratio  overlapped_mp_number  \\\n",
       "2704  Zfyve19   Rnf10          0.079                     5   \n",
       "2712  Zfyve19   Usp31          0.136                     3   \n",
       "2722  Zfyve19      Ky          0.273                     3   \n",
       "\n",
       "                                          overlapped_mp  \n",
       "2704  [abnormal behavior, decreased exploration in n...  \n",
       "2712  [decreased exploration in new environment, dec...  \n",
       "2722  [abnormal behavior, decreased exploration in n...  "
      ]
     },
     "metadata": {},
     "output_type": "display_data"
    }
   ],
   "source": [
    "\n",
    "print(len(df_filtered))\n",
    "\n",
    "df_filtered.head(3)"
   ]
  },
  {
   "cell_type": "markdown",
   "metadata": {},
   "source": [
    "## 出力\n"
   ]
  },
  {
   "cell_type": "markdown",
   "metadata": {},
   "source": [
    "### Node を作成する\n"
   ]
  },
  {
   "cell_type": "code",
   "execution_count": null,
   "metadata": {},
   "outputs": [
    {
     "data": {
      "text/html": [
       "<div>\n",
       "<style scoped>\n",
       "    .dataframe tbody tr th:only-of-type {\n",
       "        vertical-align: middle;\n",
       "    }\n",
       "\n",
       "    .dataframe tbody tr th {\n",
       "        vertical-align: top;\n",
       "    }\n",
       "\n",
       "    .dataframe thead th {\n",
       "        text-align: right;\n",
       "    }\n",
       "</style>\n",
       "<table border=\"1\" class=\"dataframe\">\n",
       "  <thead>\n",
       "    <tr style=\"text-align: right;\">\n",
       "      <th></th>\n",
       "      <th>marker_symbol</th>\n",
       "      <th>mp_term</th>\n",
       "      <th>effect_size</th>\n",
       "    </tr>\n",
       "  </thead>\n",
       "  <tbody>\n",
       "    <tr>\n",
       "      <th>0</th>\n",
       "      <td>Zfyve19</td>\n",
       "      <td>[abnormal behavior, decreased exploration in n...</td>\n",
       "      <td>0.695784</td>\n",
       "    </tr>\n",
       "    <tr>\n",
       "      <th>1</th>\n",
       "      <td>Csnk1g2</td>\n",
       "      <td>[abnormal auditory brainstem response, abnorma...</td>\n",
       "      <td>0.665518</td>\n",
       "    </tr>\n",
       "    <tr>\n",
       "      <th>2</th>\n",
       "      <td>Bbs5</td>\n",
       "      <td>[abnormal bone structure, abnormal gait, abnor...</td>\n",
       "      <td>1.902677</td>\n",
       "    </tr>\n",
       "  </tbody>\n",
       "</table>\n",
       "</div>"
      ],
      "text/plain": [
       "  marker_symbol                                            mp_term  \\\n",
       "0       Zfyve19  [abnormal behavior, decreased exploration in n...   \n",
       "1       Csnk1g2  [abnormal auditory brainstem response, abnorma...   \n",
       "2          Bbs5  [abnormal bone structure, abnormal gait, abnor...   \n",
       "\n",
       "   effect_size  \n",
       "0     0.695784  \n",
       "1     0.665518  \n",
       "2     1.902677  "
      ]
     },
     "metadata": {},
     "output_type": "display_data"
    }
   ],
   "source": [
    "# merge mp term\n",
    "df_marker1 = df_filtered[[\"marker1\"]]\n",
    "df_marker2 = df_filtered[[\"marker2\"]]\n",
    "df_node_marker1 = pd.merge(df_marker1, df_marker_effect, left_on='marker1', right_on='marker_symbol', how='inner')[[\"marker_symbol\"]]\n",
    "df_node_marker2 = pd.merge(df_marker2, df_marker_effect, left_on='marker2', right_on='marker_symbol', how='inner')[[\"marker_symbol\"]]\n",
    "\n",
    "df_node = pd.concat([df_node_marker1, df_node_marker2], axis=0).drop_duplicates()\n",
    "\n",
    "import pickle\n",
    "marker_mp = pickle.load(open(\"data/marker_mp.pkl\", \"rb\"))\n",
    "marker_mp = pd.DataFrame(marker_mp.items(), columns=[\"marker_symbol\", \"mp_term\"])\n",
    "\n",
    "df_node = pd.merge(df_node, marker_mp, how='inner', on='marker_symbol')\n",
    "df_node = pd.merge(df_node, df_marker_effect, how='inner', on='marker_symbol')\n",
    "\n",
    "df_node[:3]\n"
   ]
  },
  {
   "cell_type": "code",
   "execution_count": null,
   "metadata": {},
   "outputs": [
    {
     "name": "stdout",
     "output_type": "stream",
     "text": [
      "[{'data': {'id': 'Zfyve19', 'label': 'Zfyve19', 'annotation': ['abnormal behavior', 'decreased exploration in new environment', 'decreased locomotor activity', 'decreased thigmotaxis', 'increased circulating glucose level'], 'node_color': 0.695783774710263}}, {'data': {'id': 'Csnk1g2', 'label': 'Csnk1g2', 'annotation': ['abnormal auditory brainstem response', 'abnormal lens morphology', 'abnormal retina blood vessel morphology', 'abnormal retina morphology', 'abnormal retina vasculature morphology', 'decreased total retina thickness', 'increased cardiac muscle contractility', 'increased circulating aspartate transaminase level', 'increased circulating glucose level', 'increased circulating phosphate level', 'increased circulating potassium level', 'increased heart rate variability', 'increased mean corpuscular volume', 'increased pulmonary respiratory rate', 'persistence of hyaloid vascular system'], 'node_color': 0.665518283420352}}, {'data': {'id': 'Bbs5', 'label': 'Bbs5', 'annotation': ['abnormal bone structure', 'abnormal gait', 'abnormal retina morphology', 'decreased bone mineral content', 'decreased bone mineral density', 'decreased circulating triglyceride level', 'decreased grip strength', 'decreased heart weight', 'decreased lean body mass', 'decreased respiratory quotient', 'impaired glucose tolerance', 'increased circulating alanine transaminase level', 'increased circulating alkaline phosphatase level', 'increased circulating aspartate transaminase level', 'increased circulating fructosamine level', 'increased circulating glucose level', 'increased hematocrit', 'increased hemoglobin content', 'increased leukocyte cell number', 'increased lymphocyte cell number', 'increased mean corpuscular volume', 'increased monocyte cell number', 'increased total body fat amount', 'short tibia', 'thrombocytopenia', 'tremors'], 'node_color': 1.90267688381064}}]\n"
     ]
    }
   ],
   "source": [
    "# JSON形式に変換\n",
    "node_json = []\n",
    "for _, row in df_node.iterrows():\n",
    "    node_json.append({\n",
    "        \"data\": {\n",
    "            \"id\": row['marker_symbol'],\n",
    "            \"label\": row['marker_symbol'],\n",
    "            \"annotation\": row['mp_term'],\n",
    "            \"node_color\": row['effect_size']\n",
    "        }\n",
    "    })\n",
    "\n",
    "print(node_json[:3])"
   ]
  },
  {
   "cell_type": "markdown",
   "metadata": {},
   "source": [
    "### Edge を作成する\n"
   ]
  },
  {
   "cell_type": "code",
   "execution_count": null,
   "metadata": {},
   "outputs": [
    {
     "name": "stdout",
     "output_type": "stream",
     "text": [
      "213\n"
     ]
    },
    {
     "data": {
      "text/html": [
       "<div>\n",
       "<style scoped>\n",
       "    .dataframe tbody tr th:only-of-type {\n",
       "        vertical-align: middle;\n",
       "    }\n",
       "\n",
       "    .dataframe tbody tr th {\n",
       "        vertical-align: top;\n",
       "    }\n",
       "\n",
       "    .dataframe thead th {\n",
       "        text-align: right;\n",
       "    }\n",
       "</style>\n",
       "<table border=\"1\" class=\"dataframe\">\n",
       "  <thead>\n",
       "    <tr style=\"text-align: right;\">\n",
       "      <th></th>\n",
       "      <th>marker1</th>\n",
       "      <th>marker2</th>\n",
       "      <th>overlap_ratio</th>\n",
       "      <th>overlapped_mp</th>\n",
       "    </tr>\n",
       "  </thead>\n",
       "  <tbody>\n",
       "    <tr>\n",
       "      <th>2704</th>\n",
       "      <td>Zfyve19</td>\n",
       "      <td>Rnf10</td>\n",
       "      <td>0.079</td>\n",
       "      <td>[abnormal behavior, decreased exploration in n...</td>\n",
       "    </tr>\n",
       "    <tr>\n",
       "      <th>2712</th>\n",
       "      <td>Zfyve19</td>\n",
       "      <td>Usp31</td>\n",
       "      <td>0.136</td>\n",
       "      <td>[decreased exploration in new environment, dec...</td>\n",
       "    </tr>\n",
       "    <tr>\n",
       "      <th>2722</th>\n",
       "      <td>Zfyve19</td>\n",
       "      <td>Ky</td>\n",
       "      <td>0.273</td>\n",
       "      <td>[abnormal behavior, decreased exploration in n...</td>\n",
       "    </tr>\n",
       "  </tbody>\n",
       "</table>\n",
       "</div>"
      ],
      "text/plain": [
       "      marker1 marker2  overlap_ratio  \\\n",
       "2704  Zfyve19   Rnf10          0.079   \n",
       "2712  Zfyve19   Usp31          0.136   \n",
       "2722  Zfyve19      Ky          0.273   \n",
       "\n",
       "                                          overlapped_mp  \n",
       "2704  [abnormal behavior, decreased exploration in n...  \n",
       "2712  [decreased exploration in new environment, dec...  \n",
       "2722  [abnormal behavior, decreased exploration in n...  "
      ]
     },
     "metadata": {},
     "output_type": "display_data"
    }
   ],
   "source": [
    "df_edge = df_filtered[[\"marker1\", \"marker2\", \"overlap_ratio\", \"overlapped_mp\"]]\n",
    "print(len(df_edge))\n",
    "df_edge.head(3)"
   ]
  },
  {
   "cell_type": "code",
   "execution_count": null,
   "metadata": {},
   "outputs": [
    {
     "name": "stdout",
     "output_type": "stream",
     "text": [
      "[{'data': {'source': 'Zfyve19', 'target': 'Rnf10', 'annotation': ['abnormal behavior', 'decreased exploration in new environment', 'decreased locomotor activity', 'decreased thigmotaxis', 'increased circulating glucose level'], 'edge_size': 0.079}}, {'data': {'source': 'Zfyve19', 'target': 'Usp31', 'annotation': ['decreased exploration in new environment', 'decreased locomotor activity', 'increased circulating glucose level'], 'edge_size': 0.136}}, {'data': {'source': 'Zfyve19', 'target': 'Ky', 'annotation': ['abnormal behavior', 'decreased exploration in new environment', 'increased circulating glucose level'], 'edge_size': 0.273}}]\n"
     ]
    }
   ],
   "source": [
    "# JSON形式に変換\n",
    "edge_json = []\n",
    "for _, row in df_edge.iterrows():\n",
    "    edge_json.append({\n",
    "        \"data\": {\n",
    "            \"source\": row['marker1'],\n",
    "            \"target\": row['marker2'],\n",
    "            \"annotation\": row['overlapped_mp'],\n",
    "            \"edge_size\": row['overlap_ratio']\n",
    "        }\n",
    "    })\n",
    "\n",
    "print(edge_json[:3])"
   ]
  },
  {
   "cell_type": "markdown",
   "metadata": {},
   "source": [
    "### Edge と Node を統合して、出力\n"
   ]
  },
  {
   "cell_type": "code",
   "execution_count": null,
   "metadata": {},
   "outputs": [],
   "source": [
    "# Combine node and edge\n",
    "\n",
    "network_json = node_json + edge_json"
   ]
  },
  {
   "cell_type": "code",
   "execution_count": null,
   "metadata": {},
   "outputs": [
    {
     "name": "stdout",
     "output_type": "stream",
     "text": [
      "269\n",
      "[{'data': {'id': 'Zfyve19', 'label': 'Zfyve19', 'annotation': ['abnormal behavior', 'decreased exploration in new environment', 'decreased locomotor activity', 'decreased thigmotaxis', 'increased circulating glucose level'], 'node_color': 0.695783774710263}}, {'data': {'id': 'Csnk1g2', 'label': 'Csnk1g2', 'annotation': ['abnormal auditory brainstem response', 'abnormal lens morphology', 'abnormal retina blood vessel morphology', 'abnormal retina morphology', 'abnormal retina vasculature morphology', 'decreased total retina thickness', 'increased cardiac muscle contractility', 'increased circulating aspartate transaminase level', 'increased circulating glucose level', 'increased circulating phosphate level', 'increased circulating potassium level', 'increased heart rate variability', 'increased mean corpuscular volume', 'increased pulmonary respiratory rate', 'persistence of hyaloid vascular system'], 'node_color': 0.665518283420352}}, {'data': {'id': 'Bbs5', 'label': 'Bbs5', 'annotation': ['abnormal bone structure', 'abnormal gait', 'abnormal retina morphology', 'decreased bone mineral content', 'decreased bone mineral density', 'decreased circulating triglyceride level', 'decreased grip strength', 'decreased heart weight', 'decreased lean body mass', 'decreased respiratory quotient', 'impaired glucose tolerance', 'increased circulating alanine transaminase level', 'increased circulating alkaline phosphatase level', 'increased circulating aspartate transaminase level', 'increased circulating fructosamine level', 'increased circulating glucose level', 'increased hematocrit', 'increased hemoglobin content', 'increased leukocyte cell number', 'increased lymphocyte cell number', 'increased mean corpuscular volume', 'increased monocyte cell number', 'increased total body fat amount', 'short tibia', 'thrombocytopenia', 'tremors'], 'node_color': 1.90267688381064}}]\n",
      "[{'data': {'source': 'Skor1', 'target': 'Gcn1', 'annotation': ['decreased circulating bilirubin level', 'increased circulating glucose level', 'preweaning lethality, complete penetrance'], 'edge_size': 0.75}}, {'data': {'source': 'Skor1', 'target': 'Thap12', 'annotation': ['decreased circulating bilirubin level', 'increased circulating glucose level', 'preweaning lethality, complete penetrance'], 'edge_size': 0.75}}, {'data': {'source': 'Gcn1', 'target': 'Thap12', 'annotation': ['decreased circulating bilirubin level', 'increased circulating glucose level', 'preweaning lethality, complete penetrance'], 'edge_size': 1.0}}]\n"
     ]
    }
   ],
   "source": [
    "print(len(network_json))\n",
    "print(network_json[:3])\n",
    "print(network_json[-3:])"
   ]
  },
  {
   "cell_type": "code",
   "execution_count": null,
   "metadata": {},
   "outputs": [],
   "source": [
    "# Output as JSON file\n",
    "Path(\"data/network\").mkdir(exist_ok=True, parents=True)\n",
    "with open(f\"data/network/{mp_term}.json\", \"w\") as f:\n",
    "    json.dump(network_json, f, indent=2)"
   ]
  },
  {
   "cell_type": "code",
   "execution_count": 32,
   "metadata": {},
   "outputs": [
    {
     "data": {
      "text/html": [
       "<div>\n",
       "<style scoped>\n",
       "    .dataframe tbody tr th:only-of-type {\n",
       "        vertical-align: middle;\n",
       "    }\n",
       "\n",
       "    .dataframe tbody tr th {\n",
       "        vertical-align: top;\n",
       "    }\n",
       "\n",
       "    .dataframe thead th {\n",
       "        text-align: right;\n",
       "    }\n",
       "</style>\n",
       "<table border=\"1\" class=\"dataframe\">\n",
       "  <thead>\n",
       "    <tr style=\"text-align: right;\">\n",
       "      <th></th>\n",
       "      <th>marker_symbol</th>\n",
       "      <th>mp_term</th>\n",
       "    </tr>\n",
       "  </thead>\n",
       "  <tbody>\n",
       "    <tr>\n",
       "      <th>0</th>\n",
       "      <td>Dpf2</td>\n",
       "      <td>[Abnormal craniofacial morphology, Abnormal em...</td>\n",
       "    </tr>\n",
       "    <tr>\n",
       "      <th>1</th>\n",
       "      <td>Gna13</td>\n",
       "      <td>[Abnormal embryo size, Abnormal visceral yolk ...</td>\n",
       "    </tr>\n",
       "    <tr>\n",
       "      <th>2</th>\n",
       "      <td>Dynlrb2</td>\n",
       "      <td>[Increased fasting circulating glucose level, ...</td>\n",
       "    </tr>\n",
       "    <tr>\n",
       "      <th>3</th>\n",
       "      <td>Slc16a2</td>\n",
       "      <td>[Decreased circulating cholesterol level, Decr...</td>\n",
       "    </tr>\n",
       "    <tr>\n",
       "      <th>4</th>\n",
       "      <td>Galr1</td>\n",
       "      <td>[Decreased lymphocyte cell number, Enlarged sp...</td>\n",
       "    </tr>\n",
       "    <tr>\n",
       "      <th>...</th>\n",
       "      <td>...</td>\n",
       "      <td>...</td>\n",
       "    </tr>\n",
       "    <tr>\n",
       "      <th>7167</th>\n",
       "      <td>Adgrb1</td>\n",
       "      <td>[Increased circulating insulin level]</td>\n",
       "    </tr>\n",
       "    <tr>\n",
       "      <th>7168</th>\n",
       "      <td>Amigo3</td>\n",
       "      <td>[Enlarged heart]</td>\n",
       "    </tr>\n",
       "    <tr>\n",
       "      <th>7169</th>\n",
       "      <td>Hap1</td>\n",
       "      <td>[Preweaning lethality, complete penetrance]</td>\n",
       "    </tr>\n",
       "    <tr>\n",
       "      <th>7170</th>\n",
       "      <td>Slc23a3</td>\n",
       "      <td>[Abnormal lung morphology]</td>\n",
       "    </tr>\n",
       "    <tr>\n",
       "      <th>7171</th>\n",
       "      <td>Agtr2</td>\n",
       "      <td>[Decreased total body fat amount]</td>\n",
       "    </tr>\n",
       "  </tbody>\n",
       "</table>\n",
       "<p>7172 rows × 2 columns</p>\n",
       "</div>"
      ],
      "text/plain": [
       "     marker_symbol                                            mp_term\n",
       "0             Dpf2  [Abnormal craniofacial morphology, Abnormal em...\n",
       "1            Gna13  [Abnormal embryo size, Abnormal visceral yolk ...\n",
       "2          Dynlrb2  [Increased fasting circulating glucose level, ...\n",
       "3          Slc16a2  [Decreased circulating cholesterol level, Decr...\n",
       "4            Galr1  [Decreased lymphocyte cell number, Enlarged sp...\n",
       "...            ...                                                ...\n",
       "7167        Adgrb1              [Increased circulating insulin level]\n",
       "7168        Amigo3                                   [Enlarged heart]\n",
       "7169          Hap1        [Preweaning lethality, complete penetrance]\n",
       "7170       Slc23a3                         [Abnormal lung morphology]\n",
       "7171         Agtr2                  [Decreased total body fat amount]\n",
       "\n",
       "[7172 rows x 2 columns]"
      ]
     },
     "execution_count": 32,
     "metadata": {},
     "output_type": "execute_result"
    }
   ],
   "source": [
    "marker_mp"
   ]
  },
  {
   "cell_type": "code",
   "execution_count": 38,
   "metadata": {},
   "outputs": [
    {
     "name": "stdout",
     "output_type": "stream",
     "text": [
      "{'data': {'id': 'Lepr', 'label': 'Lepr', 'annotation': ['Abnormal bone structure', 'Abnormal gait', 'Abnormal locomotor behavior', 'Decreased bone mineral content', 'Decreased bone mineral density', 'Decreased circulating chloride level', 'Decreased exploration in new environment', 'Decreased heart weight', 'Decreased lean body mass', 'Decreased leukocyte cell number', 'Decreased locomotor activity', 'Decreased lymphocyte cell number', 'Decreased spleen weight', 'Enlarged liver', 'Female infertility', 'Impaired righting response', 'Increased anxiety-related response', 'Increased circulating alanine transaminase level', 'Increased circulating alkaline phosphatase level', 'Increased circulating aspartate transaminase level', 'Increased circulating calcium level', 'Increased circulating cholesterol level', 'Increased circulating fructosamine level', 'Increased circulating glucose level', 'Increased circulating hdl cholesterol level', 'Increased circulating iron level', 'Increased circulating phosphate level', 'Increased circulating potassium level', 'Increased circulating serum albumin level', 'Increased circulating total protein level', 'Increased circulating triglyceride level', 'Increased eosinophil cell number', 'Increased hematocrit', 'Increased hemoglobin content', 'Increased mean corpuscular volume', 'Increased monocyte cell number', 'Increased neutrophil cell number', 'Increased red blood cell distribution width', 'Increased total body fat amount', 'Limb grasping', 'Male infertility', 'Small seminal vesicle', 'Tremors', 'Trunk curl'], 'node_color': nan}}\n"
     ]
    }
   ],
   "source": [
    "for data in node_json:\n",
    "    if \"Lepr\" == data[\"data\"][\"id\"]:\n",
    "        print(data)"
   ]
  },
  {
   "cell_type": "code",
   "execution_count": 163,
   "metadata": {},
   "outputs": [
    {
     "name": "stdout",
     "output_type": "stream",
     "text": [
      "{'data': {'source': 'Camsap3', 'target': 'Herc1', 'annotation': ['abnormal auditory brainstem response', 'abnormal lens morphology', 'cataract', 'decreased bone mineral content', 'decreased bone mineral density', 'decreased lean body mass', 'increased leukocyte cell number', 'increased total body fat amount', 'male infertility'], 'edge_size': 0.31}}\n",
      "{'data': {'source': 'Prdm14', 'target': 'Herc1', 'annotation': ['decreased bone mineral content', 'decreased bone mineral density', 'decreased lean body mass', 'impaired glucose tolerance', 'increased total body fat amount', 'male infertility'], 'edge_size': 0.273}}\n",
      "{'data': {'source': 'Kash5', 'target': 'Herc1', 'annotation': ['decreased bone mineral content', 'decreased bone mineral density', 'decreased lean body mass', 'increased leukocyte cell number', 'increased total body fat amount', 'male infertility'], 'edge_size': 0.286}}\n",
      "{'data': {'source': 'Trim37', 'target': 'Herc1', 'annotation': ['abnormal auditory brainstem response', 'abnormal retina morphology', 'decreased bone mineral content', 'decreased bone mineral density', 'decreased lean body mass', 'increased fasting circulating glucose level', 'increased total body fat amount', 'male infertility'], 'edge_size': 0.32}}\n",
      "{'data': {'source': 'Stag3', 'target': 'Herc1', 'annotation': ['decreased bone mineral content', 'decreased bone mineral density', 'decreased lean body mass', 'increased fasting circulating glucose level', 'increased total body fat amount', 'male infertility'], 'edge_size': 0.273}}\n",
      "{'data': {'source': '4930447C04Rik', 'target': 'Herc1', 'annotation': ['decreased bone mineral content', 'decreased bone mineral density', 'decreased lean body mass', 'increased total body fat amount', 'male infertility'], 'edge_size': 0.263}}\n",
      "{'data': {'source': 'Herc1', 'target': 'Sms', 'annotation': ['decreased bone mineral density', 'decreased circulating glucose level', 'decreased lean body mass', 'increased circulating amylase level', 'increased circulating sodium level', 'male infertility'], 'edge_size': 0.286}}\n",
      "{'data': {'source': 'Herc1', 'target': 'Ythdc2', 'annotation': ['decreased bone mineral content', 'decreased bone mineral density', 'decreased lean body mass', 'increased total body fat amount', 'male infertility'], 'edge_size': 0.263}}\n",
      "{'data': {'source': 'Herc1', 'target': 'Ube2j1', 'annotation': ['decreased bone mineral content', 'decreased bone mineral density', 'decreased lean body mass', 'increased circulating amylase level', 'increased total body fat amount', 'male infertility'], 'edge_size': 0.3}}\n"
     ]
    }
   ],
   "source": [
    "for data in edge_json:\n",
    "    if \"Herc1\" == data[\"data\"][\"source\"]:\n",
    "        print(data)\n",
    "    if \"Herc1\" == data[\"data\"][\"target\"]:\n",
    "        print(data)"
   ]
  },
  {
   "cell_type": "code",
   "execution_count": 150,
   "metadata": {},
   "outputs": [
    {
     "name": "stdout",
     "output_type": "stream",
     "text": [
      "{'data': {'source': 'Vgf', 'target': 'Stoml2', 'annotation': ['decreased prepulse inhibition', 'increased circulating alanine transaminase level', 'increased circulating aspartate transaminase level', 'male infertility'], 'edge_size': 0.25}}\n",
      "{'data': {'source': 'Fbxo38', 'target': 'Stoml2', 'annotation': ['increased circulating alanine transaminase level', 'increased circulating aspartate transaminase level', 'male infertility'], 'edge_size': 0.214}}\n",
      "{'data': {'source': 'Stoml2', 'target': 'Clcn1', 'annotation': ['decreased prepulse inhibition', 'increased circulating aspartate transaminase level', 'increased circulating bilirubin level', 'male infertility'], 'edge_size': 0.182}}\n",
      "{'data': {'source': 'Stoml2', 'target': 'Lepr', 'annotation': ['increased circulating alanine transaminase level', 'increased circulating aspartate transaminase level', 'male infertility'], 'edge_size': 0.073}}\n",
      "{'data': {'source': 'Stoml2', 'target': 'Atp13a3', 'annotation': ['increased circulating alanine transaminase level', 'increased circulating aspartate transaminase level', 'increased circulating bilirubin level', 'male infertility'], 'edge_size': 0.167}}\n",
      "{'data': {'source': 'Stoml2', 'target': 'Fndc9', 'annotation': ['decreased prepulse inhibition', 'increased circulating bilirubin level', 'male infertility'], 'edge_size': 0.2}}\n",
      "{'data': {'source': 'Stoml2', 'target': 'Hddc3', 'annotation': ['increased circulating alanine transaminase level', 'increased circulating aspartate transaminase level', 'male infertility'], 'edge_size': 0.3}}\n",
      "{'data': {'source': 'Stoml2', 'target': 'Cpe', 'annotation': ['increased circulating alanine transaminase level', 'increased circulating aspartate transaminase level', 'male infertility'], 'edge_size': 0.136}}\n",
      "{'data': {'source': 'Stoml2', 'target': 'Prmt6', 'annotation': ['increased circulating alanine transaminase level', 'increased circulating aspartate transaminase level', 'male infertility'], 'edge_size': 0.333}}\n",
      "{'data': {'source': 'Stoml2', 'target': 'Clpp', 'annotation': ['increased circulating aspartate transaminase level', 'increased circulating bilirubin level', 'male infertility'], 'edge_size': 0.125}}\n"
     ]
    }
   ],
   "source": [
    "for data in edge_json:\n",
    "    if \"Stoml2\" == data[\"data\"][\"source\"]:\n",
    "        print(data)\n",
    "    if \"Stoml2\" == data[\"data\"][\"target\"]:\n",
    "        print(data)"
   ]
  },
  {
   "cell_type": "code",
   "execution_count": null,
   "metadata": {},
   "outputs": [],
   "source": []
  }
 ],
 "metadata": {
  "kernelspec": {
   "display_name": "Python 3",
   "language": "python",
   "name": "python3"
  },
  "language_info": {
   "codemirror_mode": {
    "name": "ipython",
    "version": 3
   },
   "file_extension": ".py",
   "mimetype": "text/x-python",
   "name": "python",
   "nbconvert_exporter": "python",
   "pygments_lexer": "ipython3",
   "version": "3.10.15"
  }
 },
 "nbformat": 4,
 "nbformat_minor": 2
}
