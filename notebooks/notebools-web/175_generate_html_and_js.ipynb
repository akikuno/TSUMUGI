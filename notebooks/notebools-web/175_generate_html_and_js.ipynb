{
 "cells": [
  {
   "cell_type": "markdown",
   "metadata": {},
   "source": [
    "# template から HTML と JS を生成する\n"
   ]
  },
  {
   "cell_type": "code",
   "execution_count": 1,
   "metadata": {},
   "outputs": [
    {
     "name": "stdout",
     "output_type": "stream",
     "text": [
      "/mnt/e/TSUMUGI/notebooks/notebools-web\n",
      "/mnt/e/TSUMUGI\n"
     ]
    }
   ],
   "source": [
    "# Move up to top directory\n",
    "import os\n",
    "from pathlib import Path\n",
    "\n",
    "print(os.getcwd())\n",
    "\n",
    "while not Path(\"LICENSE\").exists():\n",
    "    os.chdir(\"../\")\n",
    "\n",
    "print(os.getcwd())"
   ]
  },
  {
   "cell_type": "markdown",
   "metadata": {},
   "source": [
    "# 古いファイルの消去\n"
   ]
  },
  {
   "cell_type": "code",
   "execution_count": null,
   "metadata": {},
   "outputs": [],
   "source": [
    "%%bash\n",
    "\n",
    "rm -rf TSUMUGI/data\n",
    "rm -rf TSUMUGI/network/phenotype\n",
    "rm -rf TSUMUGI/network/genesymbol\n",
    "rm -rf TSUMUGI/network/data\n",
    "\n",
    "mkdir -p TSUMUGI/data\n",
    "mkdir -p TSUMUGI/network/phenotype\n",
    "mkdir -p TSUMUGI/network/genesymbol\n",
    "mkdir -p TSUMUGI/network/data\n",
    "\n",
    "echo \"*\" > TSUMUGI/data/.gitignore\n",
    "echo \"*\" > TSUMUGI/network/phenotype/.gitignore\n",
    "echo \"*\" > TSUMUGI/network/genesymbol/.gitignore\n",
    "echo \"*\" > TSUMUGI/network/data/.gitignore\n"
   ]
  },
  {
   "cell_type": "markdown",
   "metadata": {},
   "source": [
    "## index.html の描画に必要なファイルを生成する\n"
   ]
  },
  {
   "cell_type": "code",
   "execution_count": 14,
   "metadata": {},
   "outputs": [],
   "source": [
    "mp_terms = {}\n",
    "for path_mp_term in Path(\"data\", \"mp_term_name\").glob(\"*.csv\"):\n",
    "    mp_term = path_mp_term.stem\n",
    "    if not Path(\"data\", \"network\", \"mp_term_name\", f\"{mp_term}.json\").exists():\n",
    "        continue\n",
    "    mp_term_name_space = mp_term.replace(\"_\", \" \")\n",
    "    mp_terms[mp_term_name_space] = mp_term"
   ]
  },
  {
   "cell_type": "code",
   "execution_count": 15,
   "metadata": {},
   "outputs": [
    {
     "name": "stdout",
     "output_type": "stream",
     "text": [
      "['abnormal abdominal wall morphology', 'abnormal adrenal gland morphology', 'abnormal allantois morphology']\n",
      "549\n"
     ]
    }
   ],
   "source": [
    "print(list(mp_terms)[:3])\n",
    "print(len(mp_terms))"
   ]
  },
  {
   "cell_type": "code",
   "execution_count": 16,
   "metadata": {},
   "outputs": [],
   "source": [
    "import json\n",
    "\n",
    "json.dump(mp_terms, open(\"data/available_mp_terms.json\", \"w\"), indent=2)"
   ]
  },
  {
   "cell_type": "code",
   "execution_count": 17,
   "metadata": {},
   "outputs": [],
   "source": [
    "%%bash\n",
    "\n",
    "cp data/available_mp_terms.json TSUMUGI/data/available_mp_terms.json\n",
    "cp data/available_gene_symbols.txt TSUMUGI/data/available_gene_symbols.txt\n",
    "cp data/marker_symbol_accession_id.json TSUMUGI/network/data/marker_symbol_accession_id.json\n"
   ]
  },
  {
   "cell_type": "markdown",
   "metadata": {},
   "source": [
    "## index.html を生成\n"
   ]
  },
  {
   "cell_type": "code",
   "execution_count": 12,
   "metadata": {},
   "outputs": [],
   "source": [
    "%%bash\n",
    "grep -v \"REMOVE_THIS_LINE\" TSUMUGI/template_index.html > TSUMUGI/index.html"
   ]
  },
  {
   "cell_type": "markdown",
   "metadata": {},
   "source": [
    "# JSON のコピー\n"
   ]
  },
  {
   "cell_type": "code",
   "execution_count": 8,
   "metadata": {},
   "outputs": [],
   "source": [
    "%%bash\n",
    "\n",
    "rm -rf TSUMUGI/network/phenotype/data\n",
    "rm -rf TSUMUGI/network/genesymbol/data\n",
    "\n",
    "mkdir -p TSUMUGI/network/phenotype/data\n",
    "mkdir -p TSUMUGI/network/genesymbol/data\n",
    "\n",
    "cp -r data/network/mp_term_name/* TSUMUGI/network/phenotype/data\n",
    "cp -r data/network/gene_symbol/* TSUMUGI/network/genesymbol/data\n",
    "\n",
    "# 1 min 18 sec"
   ]
  },
  {
   "cell_type": "markdown",
   "metadata": {},
   "source": [
    "# Template から HTML と JS を生成\n"
   ]
  },
  {
   "cell_type": "code",
   "execution_count": 9,
   "metadata": {},
   "outputs": [],
   "source": [
    "%%bash\n",
    "\n",
    "########################################\n",
    "# Phenotype\n",
    "########################################\n",
    "mkdir -p TSUMUGI/network/phenotype/js\n",
    "\n",
    "find data/mp_term_name -type f |\n",
    "sed \"s|data/mp_term_name/||\" |\n",
    "sed \"s|.csv$||\" |\n",
    "while read mp_term_name_underscore; do\n",
    "    mp_term_name_space=$(echo \"$mp_term_name_underscore\" | sed \"s|_| |g\")\n",
    "    impc_url=$(awk -F \"\\t\" -v mp=\"$mp_term_name_space\" '$1 == mp {print $2}' data/mp_term_name_id_url.tsv)\n",
    "    escaped_url=$(echo \"$impc_url\" | sed 's/\\//\\\\\\//g')\n",
    "    # HTML\n",
    "    cat TSUMUGI/network/template/template_network_phenotype.html |\n",
    "    grep -v \"REMOVE_THIS_LINE\" |\n",
    "    sed \"s|XXX_impc_url|${escaped_url}|g\" |\n",
    "    sed \"s|XXX_mp_term_name_space|${mp_term_name_space}|g\" |\n",
    "    sed \"s|XXX_mp_term_name_underscore|${mp_term_name_underscore}|g\" > TSUMUGI/network/phenotype/\"$mp_term_name_underscore\".html\n",
    "\n",
    "    # Javascript\n",
    "    cat TSUMUGI/network/template/template_network_phenotype.js |\n",
    "    grep -v \"REMOVE_THIS_LINE\" |\n",
    "    sed \"s|XXX_mp_term_name_underscore|${mp_term_name_underscore}|g\" > TSUMUGI/network/phenotype/js/\"$mp_term_name_underscore\".js\n",
    "done\n",
    "# 24.4s"
   ]
  },
  {
   "cell_type": "code",
   "execution_count": 12,
   "metadata": {},
   "outputs": [],
   "source": [
    "%%bash\n",
    "\n",
    "########################################\n",
    "# Gene Symbol\n",
    "########################################\n",
    "mkdir -p TSUMUGI/network/genesymbol/js\n",
    "\n",
    "cat data/available_gene_symbols.txt |\n",
    "while read gene_symbol; do\n",
    "    impc_url=\"https://www.mousephenotype.org/data/genes/\"$(awk -F \"\\t\" -v key=\"$gene_symbol\" '$1 == key {print $2}' data/marker_symbol_accession_id.tsv)\n",
    "    escaped_url=$(echo \"$impc_url\" | sed 's/\\//\\\\\\//g')\n",
    "    # HTML\n",
    "    cat TSUMUGI/network/template/template_network_genesymbol.html |\n",
    "    grep -v \"REMOVE_THIS_LINE\" |\n",
    "    sed \"s|XXX_impc_url|${escaped_url}|g\" |\n",
    "    sed \"s|XXX_genesymbol|${gene_symbol}|g\" > TSUMUGI/network/genesymbol/\"$gene_symbol\".html\n",
    "\n",
    "    # Javascript\n",
    "    cat TSUMUGI/network/template/template_network_genesymbol.js |\n",
    "    grep -v \"REMOVE_THIS_LINE\" |\n",
    "    sed \"s|XXX_genesymbol|${gene_symbol}|g\" > TSUMUGI/network/genesymbol/js/\"$gene_symbol\".js\n",
    "done\n",
    "\n",
    "# 5 min"
   ]
  },
  {
   "cell_type": "markdown",
   "metadata": {},
   "source": [
    "## テスト用のデータを test-tsumugi にコピー\n"
   ]
  },
  {
   "cell_type": "code",
   "execution_count": 13,
   "metadata": {},
   "outputs": [],
   "source": [
    "%%bash\n",
    "\n",
    "rm -rf test-tsumugi\n",
    "mkdir -p test-tsumugi/network/\n",
    "echo \"*\" > test-tsumugi/.gitignore\n",
    "\n",
    "mkdir -p test-tsumugi/data\n",
    "mkdir -p test-tsumugi/network/phenotype\n",
    "mkdir -p test-tsumugi/network/genesymbol\n",
    "(cd test-tsumugi/network/phenotype && mkdir -p data js)\n",
    "(cd test-tsumugi/network/genesymbol && mkdir -p data js)"
   ]
  },
  {
   "cell_type": "code",
   "execution_count": 14,
   "metadata": {},
   "outputs": [],
   "source": [
    "%%bash\n",
    "\n",
    "cp -r TSUMUGI/index.html test-tsumugi/\n",
    "cp -r TSUMUGI/css test-tsumugi/\n",
    "cp -r TSUMUGI/js test-tsumugi/\n",
    "cp -r TSUMUGI/data test-tsumugi/\n",
    "cp -r TSUMUGI/image test-tsumugi/\n",
    "cp -r TSUMUGI/network/css test-tsumugi/network/\n",
    "cp -r TSUMUGI/network/data test-tsumugi/network"
   ]
  },
  {
   "cell_type": "code",
   "execution_count": 15,
   "metadata": {},
   "outputs": [
    {
     "name": "stdout",
     "output_type": "stream",
     "text": [
      "test-tsumugi/network/phenotype/data/male_infertility.json\n"
     ]
    },
    {
     "name": "stdout",
     "output_type": "stream",
     "text": [
      "test-tsumugi/network/phenotype/js/male_infertility.js\n",
      "test-tsumugi/network/phenotype/male_infertility.html\n"
     ]
    }
   ],
   "source": [
    "%%bash\n",
    "# Phenotype: male_infertility\n",
    "find TSUMUGI/network/phenotype/ -type f |\n",
    "    grep /male_infertility |\n",
    "    while read path_input; do\n",
    "        path_output=$(echo $path_input | sed \"s|TSUMUGI/|test-tsumugi/|\")\n",
    "        echo $path_output\n",
    "        cp $path_input $path_output\n",
    "    done"
   ]
  },
  {
   "cell_type": "code",
   "execution_count": 16,
   "metadata": {},
   "outputs": [
    {
     "name": "stdout",
     "output_type": "stream",
     "text": [
      "test-tsumugi/network/genesymbol//data/Rab10.json\n",
      "test-tsumugi/network/genesymbol//js/Rab10.js\n"
     ]
    },
    {
     "name": "stdout",
     "output_type": "stream",
     "text": [
      "test-tsumugi/network/genesymbol//Rab10.html\n"
     ]
    }
   ],
   "source": [
    "%%bash\n",
    "# Gene: Rab10\n",
    "find TSUMUGI/network/genesymbol// -type f |\n",
    "    grep /Rab10 |\n",
    "    while read path_input; do\n",
    "        path_output=$(echo $path_input | sed \"s|TSUMUGI/|test-tsumugi/|\")\n",
    "        echo $path_output\n",
    "        cp $path_input $path_output\n",
    "    done"
   ]
  },
  {
   "cell_type": "code",
   "execution_count": null,
   "metadata": {},
   "outputs": [],
   "source": []
  }
 ],
 "metadata": {
  "kernelspec": {
   "display_name": "env-impc",
   "language": "python",
   "name": "python3"
  },
  "language_info": {
   "codemirror_mode": {
    "name": "ipython",
    "version": 3
   },
   "file_extension": ".py",
   "mimetype": "text/x-python",
   "name": "python",
   "nbconvert_exporter": "python",
   "pygments_lexer": "ipython3",
   "version": "3.10.15"
  }
 },
 "nbformat": 4,
 "nbformat_minor": 2
}
