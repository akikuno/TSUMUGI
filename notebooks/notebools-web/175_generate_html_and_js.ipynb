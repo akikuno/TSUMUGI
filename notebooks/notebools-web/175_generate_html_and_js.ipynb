{
 "cells": [
  {
   "cell_type": "markdown",
   "metadata": {},
   "source": [
    "# template から HTML と JS を生成する\n"
   ]
  },
  {
   "cell_type": "code",
   "execution_count": 40,
   "metadata": {},
   "outputs": [
    {
     "name": "stdout",
     "output_type": "stream",
     "text": [
      "/mnt/e/TSUMUGI\n",
      "/mnt/e/TSUMUGI\n"
     ]
    }
   ],
   "source": [
    "# Move up to top directory\n",
    "import os\n",
    "from pathlib import Path\n",
    "\n",
    "print(os.getcwd())\n",
    "\n",
    "while not Path(\"LICENSE\").exists():\n",
    "    os.chdir(\"../\")\n",
    "\n",
    "print(os.getcwd())"
   ]
  },
  {
   "cell_type": "markdown",
   "metadata": {},
   "source": [
    "# 古いファイルの消去\n"
   ]
  },
  {
   "cell_type": "code",
   "execution_count": 41,
   "metadata": {},
   "outputs": [],
   "source": [
    "%%bash\n",
    "\n",
    "rm -rf web/network/phenotype\n",
    "rm -rf web/network/genesymbol\n",
    "rm -rf web/network/data\n",
    "\n",
    "mkdir -p web/network/phenotype\n",
    "mkdir -p web/network/genesymbol\n",
    "mkdir -p web/network/data\n",
    "\n",
    "echo \"*\" > web/network/phenotype/.gitignore\n",
    "echo \"*\" > web/network/genesymbol/.gitignore\n",
    "echo \"*\" > web/network/data/.gitignore\n"
   ]
  },
  {
   "cell_type": "markdown",
   "metadata": {},
   "source": [
    "## index.htmlの描画に必要なファイルを生成する\n"
   ]
  },
  {
   "cell_type": "code",
   "execution_count": 42,
   "metadata": {},
   "outputs": [],
   "source": [
    "mp_terms = {}\n",
    "for path_mp_term in Path(\"data\", \"mp_term_name\").glob(\"*.csv\"):\n",
    "    mp_term = path_mp_term.stem\n",
    "    # print(path_mp_term.stem)\n",
    "    if not Path(\"data\", \"network\", f\"{mp_term}.json\").exists():\n",
    "        continue\n",
    "    mp_term_name_space = mp_term.replace(\"_\", \" \")\n",
    "    # print(mp_term_name_space)\n",
    "    mp_terms[mp_term_name_space] = mp_term"
   ]
  },
  {
   "cell_type": "code",
   "execution_count": 43,
   "metadata": {},
   "outputs": [
    {
     "name": "stdout",
     "output_type": "stream",
     "text": [
      "['abnormal abdominal wall morphology', 'abnormal adrenal gland morphology', 'abnormal allantois morphology']\n",
      "535\n"
     ]
    }
   ],
   "source": [
    "print(list(mp_terms)[:3])\n",
    "print(len(mp_terms))"
   ]
  },
  {
   "cell_type": "code",
   "execution_count": 44,
   "metadata": {},
   "outputs": [],
   "source": [
    "import json\n",
    "\n",
    "json.dump(mp_terms, open(\"data/available_mp_terms.json\", \"w\"), indent=2)"
   ]
  },
  {
   "cell_type": "code",
   "execution_count": 45,
   "metadata": {},
   "outputs": [],
   "source": [
    "%%bash\n",
    "\n",
    "cp data/available_mp_terms.json web/network/data/available_mp_terms.json\n",
    "cp data/available_gene_symbols.txt web/network/data/available_gene_symbols.txt\n",
    "cp data/marker_symbol_accession_id.json web/network/data/marker_symbol_accession_id.json\n"
   ]
  },
  {
   "cell_type": "markdown",
   "metadata": {},
   "source": [
    "## index.htmlを生成"
   ]
  },
  {
   "cell_type": "code",
   "execution_count": 46,
   "metadata": {},
   "outputs": [],
   "source": [
    "%%bash\n",
    "grep -v \"REMOVE_THIS_LINE\" web/network/template/template_index.html > web/index.html"
   ]
  },
  {
   "cell_type": "markdown",
   "metadata": {},
   "source": [
    "# JSON のコピー\n"
   ]
  },
  {
   "cell_type": "code",
   "execution_count": 47,
   "metadata": {},
   "outputs": [],
   "source": [
    "%%bash\n",
    "\n",
    "rm -rf web/network/phenotype/data\n",
    "rm -rf web/network/genesymbol/data\n",
    "\n",
    "mkdir -p web/network/phenotype/data\n",
    "mkdir -p web/network/genesymbol/data\n",
    "\n",
    "cp -r data/network/mp_term_name/* web/network/phenotype/data\n",
    "cp -r data/network/gene_symbol/* web/network/genesymbol/data\n",
    "\n",
    "# 1 min 18 sec"
   ]
  },
  {
   "cell_type": "markdown",
   "metadata": {},
   "source": [
    "# Template から HTML と JS を生成\n"
   ]
  },
  {
   "cell_type": "code",
   "execution_count": 48,
   "metadata": {},
   "outputs": [],
   "source": [
    "%%bash\n",
    "\n",
    "########################################\n",
    "# Phenotype\n",
    "########################################\n",
    "mkdir -p web/network/phenotype/js\n",
    "\n",
    "find data/mp_term_name -type f |\n",
    "sed \"s|data/mp_term_name/||\" |\n",
    "sed \"s|.csv$||\" |\n",
    "while read mp_term_name_underscore; do\n",
    "    mp_term_name_space=$(echo \"$mp_term_name_underscore\" | sed \"s|_| |g\")\n",
    "    impc_url=$(awk -F \"\\t\" -v mp=\"$mp_term_name_space\" '$1 == mp {print $2}' data/mp_term_name_id_url.tsv)\n",
    "    escaped_url=$(echo \"$impc_url\" | sed 's/\\//\\\\\\//g')\n",
    "    # HTML\n",
    "    cat web/network/template/template_network_phenotype.html |\n",
    "    grep -v \"REMOVE_THIS_LINE\" |\n",
    "    sed \"s|XXX_impc_url|${escaped_url}|g\" |\n",
    "    sed \"s|XXX_mp_term_name_space|${mp_term_name_space}|g\" |\n",
    "    sed \"s|XXX_mp_term_name_underscore|${mp_term_name_underscore}|g\" > web/network/phenotype/\"$mp_term_name_underscore\".html\n",
    "\n",
    "    # Javascript\n",
    "    cat web/network/template/template_network_phenotype.js |\n",
    "    grep -v \"REMOVE_THIS_LINE\" |\n",
    "    sed \"s|XXX_mp_term_name_underscore|${mp_term_name_underscore}|g\" > web/network/phenotype/js/\"$mp_term_name_underscore\".js\n",
    "done\n",
    "# 24.4s"
   ]
  },
  {
   "cell_type": "code",
   "execution_count": 49,
   "metadata": {},
   "outputs": [],
   "source": [
    "%%bash\n",
    "\n",
    "########################################\n",
    "# Gene Symbol\n",
    "########################################\n",
    "mkdir -p web/network/genesymbol/js\n",
    "\n",
    "cat data/available_gene_symbols.txt |\n",
    "while read gene_symbol; do\n",
    "    impc_url=\"https://www.mousephenotype.org/data/genes/\"$(awk -F \"\\t\" -v key=\"$gene_symbol\" '$1 == key {print $2}' data/marker_symbol_accession_id.tsv)\n",
    "    escaped_url=$(echo \"$impc_url\" | sed 's/\\//\\\\\\//g')\n",
    "    # HTML\n",
    "    cat web/network/template/template_network_genesymbol.html |\n",
    "    grep -v \"REMOVE_THIS_LINE\" |\n",
    "    sed \"s|XXX_impc_url|${escaped_url}|g\" |\n",
    "    sed \"s|XXX_genesymbol|${gene_symbol}|g\" > web/network/genesymbol/\"$gene_symbol\".html\n",
    "\n",
    "    # Javascript\n",
    "    cat web/network/template/template_network_genesymbol.js |\n",
    "    grep -v \"REMOVE_THIS_LINE\" |\n",
    "    sed \"s|XXX_genesymbol|${gene_symbol}|g\" > web/network/genesymbol/js/\"$gene_symbol\".js\n",
    "done\n",
    "\n",
    "# 5 min"
   ]
  },
  {
   "cell_type": "markdown",
   "metadata": {},
   "source": [
    "## テスト用のデータをtest-tsumugiにコピー"
   ]
  },
  {
   "cell_type": "code",
   "execution_count": 50,
   "metadata": {},
   "outputs": [],
   "source": [
    "%%bash\n",
    "\n",
    "rm -rf test-tsumugi\n",
    "mkdir -p test-tsumugi/network/\n",
    "echo \"*\" > test-tsumugi/.gitignore\n",
    "\n",
    "mkdir -p test-tsumugi/network/phenotype\n",
    "mkdir -p test-tsumugi/network/genesymbol\n",
    "(cd test-tsumugi/network/phenotype && mkdir -p data js)\n",
    "(cd test-tsumugi/network/genesymbol && mkdir -p data js)"
   ]
  },
  {
   "cell_type": "code",
   "execution_count": 51,
   "metadata": {},
   "outputs": [],
   "source": [
    "%%bash\n",
    "\n",
    "cp -r web/index.html test-tsumugi/\n",
    "cp -r web/image test-tsumugi/\n",
    "cp -r web/network/css test-tsumugi/network/\n",
    "cp -r web/network/data test-tsumugi/network"
   ]
  },
  {
   "cell_type": "code",
   "execution_count": 52,
   "metadata": {},
   "outputs": [
    {
     "name": "stdout",
     "output_type": "stream",
     "text": [
      "test-tsumugi/network/phenotype/data/male_infertility.json\n"
     ]
    },
    {
     "name": "stdout",
     "output_type": "stream",
     "text": [
      "test-tsumugi/network/phenotype/js/male_infertility.js\n",
      "test-tsumugi/network/phenotype/male_infertility.html\n"
     ]
    }
   ],
   "source": [
    "%%bash\n",
    "# Phenotype: male_infertility\n",
    "find web/network/phenotype/ -type f |\n",
    "    grep /male_infertility |\n",
    "    while read path_input; do\n",
    "        path_output=$(echo $path_input | sed \"s|web/|test-tsumugi/|\")\n",
    "        echo $path_output\n",
    "        cp $path_input $path_output\n",
    "    done"
   ]
  },
  {
   "cell_type": "code",
   "execution_count": 53,
   "metadata": {},
   "outputs": [
    {
     "name": "stdout",
     "output_type": "stream",
     "text": [
      "test-tsumugi/network/genesymbol//data/Rab10.json\n",
      "test-tsumugi/network/genesymbol//js/Rab10.js\n",
      "test-tsumugi/network/genesymbol//Rab10.html\n"
     ]
    }
   ],
   "source": [
    "%%bash\n",
    "# Gene: Rab10\n",
    "find web/network/genesymbol// -type f |\n",
    "    grep /Rab10 |\n",
    "    while read path_input; do\n",
    "        path_output=$(echo $path_input | sed \"s|web/|test-tsumugi/|\")\n",
    "        echo $path_output\n",
    "        cp $path_input $path_output\n",
    "    done"
   ]
  },
  {
   "cell_type": "code",
   "execution_count": null,
   "metadata": {},
   "outputs": [],
   "source": []
  }
 ],
 "metadata": {
  "kernelspec": {
   "display_name": "env-impc",
   "language": "python",
   "name": "python3"
  },
  "language_info": {
   "codemirror_mode": {
    "name": "ipython",
    "version": 3
   },
   "file_extension": ".py",
   "mimetype": "text/x-python",
   "name": "python",
   "nbconvert_exporter": "python",
   "pygments_lexer": "ipython3",
   "version": "3.10.15"
  }
 },
 "nbformat": 4,
 "nbformat_minor": 2
}
