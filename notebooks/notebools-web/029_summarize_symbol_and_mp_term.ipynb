{
 "cells": [
  {
   "cell_type": "markdown",
   "metadata": {},
   "source": [
    "# Cache the mp_terms associated with each marker symbol"
   ]
  },
  {
   "cell_type": "code",
   "execution_count": 1,
   "metadata": {},
   "outputs": [
    {
     "name": "stdout",
     "output_type": "stream",
     "text": [
      "/mnt/e/Research/others/IMPC-project/notebooks/notebools-web\n",
      "/mnt/e/Research/others/IMPC-project\n"
     ]
    }
   ],
   "source": [
    "# Move up to top directory\n",
    "import os\n",
    "from pathlib import Path\n",
    "\n",
    "print(os.getcwd())\n",
    "\n",
    "while not Path(\"LICENSE\").exists():\n",
    "    os.chdir('../')\n",
    "\n",
    "print(os.getcwd())"
   ]
  },
  {
   "cell_type": "code",
   "execution_count": 2,
   "metadata": {},
   "outputs": [],
   "source": [
    "from pathlib import Path\n",
    "from collections import defaultdict\n",
    "from itertools import combinations\n",
    "import csv\n",
    "import pandas as pd\n",
    "from matplotlib import pyplot as plt"
   ]
  },
  {
   "cell_type": "code",
   "execution_count": 3,
   "metadata": {},
   "outputs": [],
   "source": [
    "path_data = Path(\"data\", \"statistical_filtered.csv\")"
   ]
  },
  {
   "cell_type": "code",
   "execution_count": 4,
   "metadata": {},
   "outputs": [
    {
     "name": "stderr",
     "output_type": "stream",
     "text": [
      "/tmp/ipykernel_3062902/1371726869.py:1: DtypeWarning: Columns (25,60) have mixed types. Specify dtype option on import or set low_memory=False.\n",
      "  data = pd.read_csv(path_data)\n"
     ]
    },
    {
     "data": {
      "text/plain": [
       "Index(['phenotyping_center', 'intercept_estimate', 'procedure_id',\n",
       "       'mutant_biological_model_id', 'rotated_residuals_test',\n",
       "       'weight_effect_p_value', 'male_mutant_count', 'pipeline_stable_key',\n",
       "       'female_ko_effect_p_value', 'pipeline_stable_id',\n",
       "       'parameter_stable_key', 'data_type', 'parameter_stable_id',\n",
       "       'interaction_significant', 'strain_accession_id',\n",
       "       'control_selection_method', 'parameter_name', 'allele_name',\n",
       "       'phenotyping_center_id', 'weight_effect_stderr_estimate',\n",
       "       'weight_effect_parameter_estimate', 'procedure_stable_id', 'status',\n",
       "       'sex_effect_parameter_estimate', 'female_ko_effect_stderr_estimate',\n",
       "       'female_percentage_change', 'group_2_residuals_normality_test',\n",
       "       'marker_accession_id', 'mp_term_name',\n",
       "       'group_1_residuals_normality_test', 'genotype_effect_p_value',\n",
       "       'dependent_variable', 'resource_name', 'project_id', 'procedure_name',\n",
       "       'doc_id', 'top_level_mp_term_id', 'allele_accession_id', 'blups_test',\n",
       "       'null_test_p_value', 'p_value', 'marker_symbol',\n",
       "       'control_biological_model_id', 'pipeline_name', 'sex',\n",
       "       'interaction_effect_p_value', 'colony_id', 'project_name',\n",
       "       'female_ko_parameter_estimate', 'female_mutant_count',\n",
       "       'organisation_id', 'external_db_id', 'female_control_count',\n",
       "       'intermediate_mp_term_id', 'db_id', 'male_ko_effect_p_value',\n",
       "       'top_level_mp_term_name', 'metadata_group',\n",
       "       'sex_effect_stderr_estimate', 'zygosity', 'male_percentage_change',\n",
       "       'sex_effect_p_value', 'mp_term_id', 'male_ko_effect_stderr_estimate',\n",
       "       'additional_information', 'statistical_method', '_version_',\n",
       "       'intercept_estimate_stderr_estimate', 'male_control_count',\n",
       "       'intermediate_mp_term_name', 'strain_name', 'classification_tag',\n",
       "       'effect_size', 'procedure_stable_key', 'allele_symbol', 'resource_id',\n",
       "       'group_2_genotype', 'variance_significant', 'pipeline_id',\n",
       "       'group_1_genotype', 'male_ko_parameter_estimate',\n",
       "       'genotype_effect_parameter_estimate', 'categories', 'parameter_id',\n",
       "       'batch_significant', 'genotype_effect_stderr_estimate',\n",
       "       'resource_fullname', 'significant'],\n",
       "      dtype='object')"
      ]
     },
     "execution_count": 4,
     "metadata": {},
     "output_type": "execute_result"
    }
   ],
   "source": [
    "data = pd.read_csv(path_data)\n",
    "\n",
    "data\n",
    "data.columns"
   ]
  },
  {
   "cell_type": "code",
   "execution_count": 5,
   "metadata": {},
   "outputs": [
    {
     "data": {
      "text/html": [
       "<div>\n",
       "<style scoped>\n",
       "    .dataframe tbody tr th:only-of-type {\n",
       "        vertical-align: middle;\n",
       "    }\n",
       "\n",
       "    .dataframe tbody tr th {\n",
       "        vertical-align: top;\n",
       "    }\n",
       "\n",
       "    .dataframe thead th {\n",
       "        text-align: right;\n",
       "    }\n",
       "</style>\n",
       "<table border=\"1\" class=\"dataframe\">\n",
       "  <thead>\n",
       "    <tr style=\"text-align: right;\">\n",
       "      <th></th>\n",
       "      <th>marker_symbol</th>\n",
       "      <th>mp_term_name</th>\n",
       "    </tr>\n",
       "  </thead>\n",
       "  <tbody>\n",
       "    <tr>\n",
       "      <th>0</th>\n",
       "      <td>Rhd</td>\n",
       "      <td>decreased circulating HDL cholesterol level</td>\n",
       "    </tr>\n",
       "    <tr>\n",
       "      <th>1</th>\n",
       "      <td>Dpf2</td>\n",
       "      <td>preweaning lethality, complete penetrance</td>\n",
       "    </tr>\n",
       "    <tr>\n",
       "      <th>2</th>\n",
       "      <td>Gna13</td>\n",
       "      <td>preweaning lethality, complete penetrance</td>\n",
       "    </tr>\n",
       "    <tr>\n",
       "      <th>3</th>\n",
       "      <td>Dynlrb2</td>\n",
       "      <td>increased fasting circulating glucose level</td>\n",
       "    </tr>\n",
       "    <tr>\n",
       "      <th>4</th>\n",
       "      <td>Slc16a2</td>\n",
       "      <td>increased circulating calcium level</td>\n",
       "    </tr>\n",
       "    <tr>\n",
       "      <th>...</th>\n",
       "      <td>...</td>\n",
       "      <td>...</td>\n",
       "    </tr>\n",
       "    <tr>\n",
       "      <th>46982</th>\n",
       "      <td>Arhgap21</td>\n",
       "      <td>abnormal auditory brainstem response</td>\n",
       "    </tr>\n",
       "    <tr>\n",
       "      <th>46984</th>\n",
       "      <td>Prkdc</td>\n",
       "      <td>increased monocyte cell number</td>\n",
       "    </tr>\n",
       "    <tr>\n",
       "      <th>46985</th>\n",
       "      <td>Cfap20dc</td>\n",
       "      <td>decreased heart weight</td>\n",
       "    </tr>\n",
       "    <tr>\n",
       "      <th>46988</th>\n",
       "      <td>Prmt7</td>\n",
       "      <td>decreased hematocrit</td>\n",
       "    </tr>\n",
       "    <tr>\n",
       "      <th>46990</th>\n",
       "      <td>Stoml2</td>\n",
       "      <td>increased circulating bilirubin level</td>\n",
       "    </tr>\n",
       "  </tbody>\n",
       "</table>\n",
       "<p>37366 rows × 2 columns</p>\n",
       "</div>"
      ],
      "text/plain": [
       "      marker_symbol                                 mp_term_name\n",
       "0               Rhd  decreased circulating HDL cholesterol level\n",
       "1              Dpf2    preweaning lethality, complete penetrance\n",
       "2             Gna13    preweaning lethality, complete penetrance\n",
       "3           Dynlrb2  increased fasting circulating glucose level\n",
       "4           Slc16a2          increased circulating calcium level\n",
       "...             ...                                          ...\n",
       "46982      Arhgap21         abnormal auditory brainstem response\n",
       "46984         Prkdc               increased monocyte cell number\n",
       "46985      Cfap20dc                       decreased heart weight\n",
       "46988         Prmt7                         decreased hematocrit\n",
       "46990        Stoml2        increased circulating bilirubin level\n",
       "\n",
       "[37366 rows x 2 columns]"
      ]
     },
     "execution_count": 5,
     "metadata": {},
     "output_type": "execute_result"
    }
   ],
   "source": [
    "data_select = data[['marker_symbol', 'mp_term_name']].drop_duplicates()\n",
    "# data_select = data[['marker_symbol', 'marker_accession_id', 'mp_term_name', 'mp_term_id']].drop_duplicates()\n",
    "data_select"
   ]
  },
  {
   "cell_type": "code",
   "execution_count": 6,
   "metadata": {},
   "outputs": [
    {
     "name": "stdout",
     "output_type": "stream",
     "text": [
      "['abnormal craniofacial morphology', 'abnormal embryo size', 'abnormal heart morphology', 'abnormal kidney morphology', 'abnormal limb morphology', 'abnormal seminal vesicle morphology', 'abnormal tail morphology', 'edema', 'pallor', 'preweaning lethality, complete penetrance']\n"
     ]
    }
   ],
   "source": [
    "data_dict = defaultdict(list)\n",
    "for index, row in data_select.iterrows():\n",
    "    data_dict[row['marker_symbol']].append(row['mp_term_name'])\n",
    "\n",
    "for key in data_dict.keys():\n",
    "    data_dict[key].sort()\n",
    "\n",
    "print(data_dict[\"Dpf2\"])"
   ]
  },
  {
   "cell_type": "code",
   "execution_count": 7,
   "metadata": {},
   "outputs": [],
   "source": [
    "import pickle\n",
    "pickle.dump(data_dict, open(\"data/marker_mp.pkl\", \"wb\"))"
   ]
  },
  {
   "cell_type": "code",
   "execution_count": 8,
   "metadata": {},
   "outputs": [],
   "source": [
    "import json\n",
    "json.dump(data_dict, open(\"data/marker_mp.json\", \"w\"))"
   ]
  },
  {
   "cell_type": "code",
   "execution_count": null,
   "metadata": {},
   "outputs": [],
   "source": []
  },
  {
   "cell_type": "code",
   "execution_count": null,
   "metadata": {},
   "outputs": [],
   "source": []
  }
 ],
 "metadata": {
  "kernelspec": {
   "display_name": "env-tsumugi",
   "language": "python",
   "name": "python3"
  },
  "language_info": {
   "codemirror_mode": {
    "name": "ipython",
    "version": 3
   },
   "file_extension": ".py",
   "mimetype": "text/x-python",
   "name": "python",
   "nbconvert_exporter": "python",
   "pygments_lexer": "ipython3",
   "version": "3.10.15"
  }
 },
 "nbformat": 4,
 "nbformat_minor": 2
}
