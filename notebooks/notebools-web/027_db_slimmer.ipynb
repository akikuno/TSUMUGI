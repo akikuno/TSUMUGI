{
 "cells": [
  {
   "cell_type": "markdown",
   "metadata": {},
   "source": [
    "# Cache the mp_terms associated with each marker symbol"
   ]
  },
  {
   "cell_type": "code",
   "execution_count": 1,
   "metadata": {},
   "outputs": [
    {
     "name": "stdout",
     "output_type": "stream",
     "text": [
      "/mnt/e/Research/TSUMUGI/notebooks/notebools-web\n",
      "/mnt/e/Research/TSUMUGI\n"
     ]
    }
   ],
   "source": [
    "# Move up to top directory\n",
    "import os\n",
    "from pathlib import Path\n",
    "\n",
    "print(os.getcwd())\n",
    "\n",
    "while not Path(\"LICENSE\").exists():\n",
    "    os.chdir('../')\n",
    "\n",
    "print(os.getcwd())"
   ]
  },
  {
   "cell_type": "code",
   "execution_count": 5,
   "metadata": {},
   "outputs": [],
   "source": [
    "from pathlib import Path\n",
    "from collections import defaultdict\n",
    "from itertools import combinations\n",
    "import csv\n",
    "import pandas as pd\n",
    "from matplotlib import pyplot as plt\n",
    "import pickle\n",
    "import json"
   ]
  },
  {
   "cell_type": "code",
   "execution_count": 3,
   "metadata": {},
   "outputs": [],
   "source": [
    "path_data = Path(\"data\", \"statistical_filtered.csv\")"
   ]
  },
  {
   "cell_type": "code",
   "execution_count": 4,
   "metadata": {},
   "outputs": [
    {
     "name": "stderr",
     "output_type": "stream",
     "text": [
      "/tmp/ipykernel_1549466/2449997823.py:1: DtypeWarning: Columns (25,60) have mixed types. Specify dtype option on import or set low_memory=False.\n",
      "  data = pd.read_csv(path_data)\n"
     ]
    }
   ],
   "source": [
    "data = pd.read_csv(path_data)"
   ]
  },
  {
   "cell_type": "markdown",
   "metadata": {},
   "source": [
    "## Connect marker_symbol to mp_term_name"
   ]
  },
  {
   "cell_type": "code",
   "execution_count": 5,
   "metadata": {},
   "outputs": [
    {
     "data": {
      "text/html": [
       "<div>\n",
       "<style scoped>\n",
       "    .dataframe tbody tr th:only-of-type {\n",
       "        vertical-align: middle;\n",
       "    }\n",
       "\n",
       "    .dataframe tbody tr th {\n",
       "        vertical-align: top;\n",
       "    }\n",
       "\n",
       "    .dataframe thead th {\n",
       "        text-align: right;\n",
       "    }\n",
       "</style>\n",
       "<table border=\"1\" class=\"dataframe\">\n",
       "  <thead>\n",
       "    <tr style=\"text-align: right;\">\n",
       "      <th></th>\n",
       "      <th>marker_symbol</th>\n",
       "      <th>mp_term_name</th>\n",
       "    </tr>\n",
       "  </thead>\n",
       "  <tbody>\n",
       "    <tr>\n",
       "      <th>0</th>\n",
       "      <td>Uap1</td>\n",
       "      <td>abnormal lens morphology</td>\n",
       "    </tr>\n",
       "    <tr>\n",
       "      <th>1</th>\n",
       "      <td>6430548M08Rik</td>\n",
       "      <td>enlarged kidney</td>\n",
       "    </tr>\n",
       "    <tr>\n",
       "      <th>2</th>\n",
       "      <td>Stac</td>\n",
       "      <td>abnormal locomotor behavior</td>\n",
       "    </tr>\n",
       "    <tr>\n",
       "      <th>3</th>\n",
       "      <td>Slc24a4</td>\n",
       "      <td>enlarged thymus</td>\n",
       "    </tr>\n",
       "    <tr>\n",
       "      <th>4</th>\n",
       "      <td>Uhrf2</td>\n",
       "      <td>female infertility</td>\n",
       "    </tr>\n",
       "    <tr>\n",
       "      <th>...</th>\n",
       "      <td>...</td>\n",
       "      <td>...</td>\n",
       "    </tr>\n",
       "    <tr>\n",
       "      <th>54048</th>\n",
       "      <td>Lrrk1</td>\n",
       "      <td>abnormal joint morphology</td>\n",
       "    </tr>\n",
       "    <tr>\n",
       "      <th>54051</th>\n",
       "      <td>Rtl5</td>\n",
       "      <td>abnormal kidney morphology</td>\n",
       "    </tr>\n",
       "    <tr>\n",
       "      <th>54052</th>\n",
       "      <td>Adcy3</td>\n",
       "      <td>increased total body fat amount</td>\n",
       "    </tr>\n",
       "    <tr>\n",
       "      <th>54055</th>\n",
       "      <td>Alg3</td>\n",
       "      <td>preweaning lethality, complete penetrance</td>\n",
       "    </tr>\n",
       "    <tr>\n",
       "      <th>54057</th>\n",
       "      <td>Thoc3</td>\n",
       "      <td>embryonic lethality prior to organogenesis</td>\n",
       "    </tr>\n",
       "  </tbody>\n",
       "</table>\n",
       "<p>39734 rows × 2 columns</p>\n",
       "</div>"
      ],
      "text/plain": [
       "       marker_symbol                                mp_term_name\n",
       "0               Uap1                    abnormal lens morphology\n",
       "1      6430548M08Rik                             enlarged kidney\n",
       "2               Stac                 abnormal locomotor behavior\n",
       "3            Slc24a4                             enlarged thymus\n",
       "4              Uhrf2                          female infertility\n",
       "...              ...                                         ...\n",
       "54048          Lrrk1                   abnormal joint morphology\n",
       "54051           Rtl5                  abnormal kidney morphology\n",
       "54052          Adcy3             increased total body fat amount\n",
       "54055           Alg3   preweaning lethality, complete penetrance\n",
       "54057          Thoc3  embryonic lethality prior to organogenesis\n",
       "\n",
       "[39734 rows x 2 columns]"
      ]
     },
     "execution_count": 5,
     "metadata": {},
     "output_type": "execute_result"
    }
   ],
   "source": [
    "data_select = data[['marker_symbol', 'mp_term_name']].drop_duplicates()\n",
    "# data_select = data[['marker_symbol', 'marker_accession_id', 'mp_term_name', 'mp_term_id']].drop_duplicates()\n",
    "data_select"
   ]
  },
  {
   "cell_type": "code",
   "execution_count": 6,
   "metadata": {},
   "outputs": [
    {
     "name": "stdout",
     "output_type": "stream",
     "text": [
      "['abnormal craniofacial morphology', 'abnormal embryo size', 'abnormal heart morphology', 'abnormal kidney morphology', 'abnormal limb morphology', 'abnormal seminal vesicle morphology', 'abnormal tail morphology', 'edema', 'pallor', 'preweaning lethality, complete penetrance']\n"
     ]
    }
   ],
   "source": [
    "data_dict = defaultdict(list)\n",
    "for index, row in data_select.iterrows():\n",
    "    data_dict[row['marker_symbol']].append(row['mp_term_name'])\n",
    "\n",
    "for key in data_dict.keys():\n",
    "    data_dict[key].sort()\n",
    "\n",
    "print(data_dict[\"Dpf2\"])"
   ]
  },
  {
   "cell_type": "code",
   "execution_count": null,
   "metadata": {},
   "outputs": [],
   "source": [
    "pickle.dump(data_dict, open(\"data/marker_mp.pkl\", \"wb\"))"
   ]
  },
  {
   "cell_type": "code",
   "execution_count": null,
   "metadata": {},
   "outputs": [],
   "source": []
  },
  {
   "cell_type": "markdown",
   "metadata": {},
   "source": [
    "## Connect mp_term_name to IMPC URL"
   ]
  },
  {
   "cell_type": "code",
   "execution_count": 6,
   "metadata": {},
   "outputs": [
    {
     "data": {
      "text/html": [
       "<div>\n",
       "<style scoped>\n",
       "    .dataframe tbody tr th:only-of-type {\n",
       "        vertical-align: middle;\n",
       "    }\n",
       "\n",
       "    .dataframe tbody tr th {\n",
       "        vertical-align: top;\n",
       "    }\n",
       "\n",
       "    .dataframe thead th {\n",
       "        text-align: right;\n",
       "    }\n",
       "</style>\n",
       "<table border=\"1\" class=\"dataframe\">\n",
       "  <thead>\n",
       "    <tr style=\"text-align: right;\">\n",
       "      <th></th>\n",
       "      <th>mp_term_id</th>\n",
       "      <th>mp_term_name</th>\n",
       "    </tr>\n",
       "  </thead>\n",
       "  <tbody>\n",
       "    <tr>\n",
       "      <th>0</th>\n",
       "      <td>MP:0000186</td>\n",
       "      <td>decreased circulating HDL cholesterol level</td>\n",
       "    </tr>\n",
       "    <tr>\n",
       "      <th>1</th>\n",
       "      <td>MP:0011100</td>\n",
       "      <td>preweaning lethality, complete penetrance</td>\n",
       "    </tr>\n",
       "    <tr>\n",
       "      <th>3</th>\n",
       "      <td>MP:0013279</td>\n",
       "      <td>increased fasting circulating glucose level</td>\n",
       "    </tr>\n",
       "    <tr>\n",
       "      <th>4</th>\n",
       "      <td>MP:0000194</td>\n",
       "      <td>increased circulating calcium level</td>\n",
       "    </tr>\n",
       "    <tr>\n",
       "      <th>5</th>\n",
       "      <td>MP:0005011</td>\n",
       "      <td>increased eosinophil cell number</td>\n",
       "    </tr>\n",
       "    <tr>\n",
       "      <th>...</th>\n",
       "      <td>...</td>\n",
       "      <td>...</td>\n",
       "    </tr>\n",
       "    <tr>\n",
       "      <th>44618</th>\n",
       "      <td>MP:0001562</td>\n",
       "      <td>abnormal circulating calcium level</td>\n",
       "    </tr>\n",
       "    <tr>\n",
       "      <th>46141</th>\n",
       "      <td>MP:0003655</td>\n",
       "      <td>absent pancreas</td>\n",
       "    </tr>\n",
       "    <tr>\n",
       "      <th>46159</th>\n",
       "      <td>MP:0005498</td>\n",
       "      <td>hyporesponsive to tactile stimuli</td>\n",
       "    </tr>\n",
       "    <tr>\n",
       "      <th>46562</th>\n",
       "      <td>MP:0008206</td>\n",
       "      <td>increased B-2 B cell number</td>\n",
       "    </tr>\n",
       "    <tr>\n",
       "      <th>46754</th>\n",
       "      <td>MP:0011972</td>\n",
       "      <td>decreased circulating lactate dehydrogenase level</td>\n",
       "    </tr>\n",
       "  </tbody>\n",
       "</table>\n",
       "<p>670 rows × 2 columns</p>\n",
       "</div>"
      ],
      "text/plain": [
       "       mp_term_id                                       mp_term_name\n",
       "0      MP:0000186        decreased circulating HDL cholesterol level\n",
       "1      MP:0011100          preweaning lethality, complete penetrance\n",
       "3      MP:0013279        increased fasting circulating glucose level\n",
       "4      MP:0000194                increased circulating calcium level\n",
       "5      MP:0005011                   increased eosinophil cell number\n",
       "...           ...                                                ...\n",
       "44618  MP:0001562                 abnormal circulating calcium level\n",
       "46141  MP:0003655                                    absent pancreas\n",
       "46159  MP:0005498                  hyporesponsive to tactile stimuli\n",
       "46562  MP:0008206                        increased B-2 B cell number\n",
       "46754  MP:0011972  decreased circulating lactate dehydrogenase level\n",
       "\n",
       "[670 rows x 2 columns]"
      ]
     },
     "execution_count": 6,
     "metadata": {},
     "output_type": "execute_result"
    }
   ],
   "source": [
    "data_select = data[['mp_term_id', 'mp_term_name']].drop_duplicates()\n",
    "# data_select = data[['marker_symbol', 'marker_accession_id', 'mp_term_name', 'mp_term_id']].drop_duplicates()\n",
    "data_select"
   ]
  },
  {
   "cell_type": "code",
   "execution_count": 7,
   "metadata": {},
   "outputs": [
    {
     "name": "stdout",
     "output_type": "stream",
     "text": [
      "https://www.mousephenotype.org/data/phenotypes/MP:0002217\n"
     ]
    }
   ],
   "source": [
    "data_dict_url = dict()\n",
    "for index, row in data_select.iterrows():\n",
    "    mp_tern_id = row['mp_term_id']\n",
    "    impc_url = f\"https://www.mousephenotype.org/data/phenotypes/{mp_tern_id}\"\n",
    "    mp_term_name = row['mp_term_name']\n",
    "    data_dict_url[mp_term_name] = impc_url\n",
    "\n",
    "print(data_dict_url[\"small lymph nodes\"])"
   ]
  },
  {
   "cell_type": "code",
   "execution_count": null,
   "metadata": {},
   "outputs": [],
   "source": [
    "with open('data/mp_term_name_id_url.tsv', 'w') as f:\n",
    "    for term, url in data_dict_url.items():\n",
    "        f.write(f\"{term}\\t{url}\\n\")"
   ]
  },
  {
   "cell_type": "code",
   "execution_count": null,
   "metadata": {},
   "outputs": [],
   "source": [
    "%%bash\n",
    "\n",
    "head data/mp_term_name_id_url.tsv"
   ]
  },
  {
   "cell_type": "markdown",
   "metadata": {},
   "source": [
    "## Connect marker_symbol to accession_id"
   ]
  },
  {
   "cell_type": "code",
   "execution_count": 8,
   "metadata": {},
   "outputs": [
    {
     "data": {
      "text/html": [
       "<div>\n",
       "<style scoped>\n",
       "    .dataframe tbody tr th:only-of-type {\n",
       "        vertical-align: middle;\n",
       "    }\n",
       "\n",
       "    .dataframe tbody tr th {\n",
       "        vertical-align: top;\n",
       "    }\n",
       "\n",
       "    .dataframe thead th {\n",
       "        text-align: right;\n",
       "    }\n",
       "</style>\n",
       "<table border=\"1\" class=\"dataframe\">\n",
       "  <thead>\n",
       "    <tr style=\"text-align: right;\">\n",
       "      <th></th>\n",
       "      <th>marker_symbol</th>\n",
       "      <th>marker_accession_id</th>\n",
       "    </tr>\n",
       "  </thead>\n",
       "  <tbody>\n",
       "    <tr>\n",
       "      <th>0</th>\n",
       "      <td>Rhd</td>\n",
       "      <td>MGI:1202882</td>\n",
       "    </tr>\n",
       "    <tr>\n",
       "      <th>1</th>\n",
       "      <td>Dpf2</td>\n",
       "      <td>MGI:109529</td>\n",
       "    </tr>\n",
       "    <tr>\n",
       "      <th>2</th>\n",
       "      <td>Gna13</td>\n",
       "      <td>MGI:95768</td>\n",
       "    </tr>\n",
       "    <tr>\n",
       "      <th>3</th>\n",
       "      <td>Dynlrb2</td>\n",
       "      <td>MGI:1922715</td>\n",
       "    </tr>\n",
       "    <tr>\n",
       "      <th>4</th>\n",
       "      <td>Slc16a2</td>\n",
       "      <td>MGI:1203732</td>\n",
       "    </tr>\n",
       "    <tr>\n",
       "      <th>...</th>\n",
       "      <td>...</td>\n",
       "      <td>...</td>\n",
       "    </tr>\n",
       "    <tr>\n",
       "      <th>46753</th>\n",
       "      <td>Amigo3</td>\n",
       "      <td>MGI:2444854</td>\n",
       "    </tr>\n",
       "    <tr>\n",
       "      <th>46806</th>\n",
       "      <td>Sec1</td>\n",
       "      <td>MGI:1928893</td>\n",
       "    </tr>\n",
       "    <tr>\n",
       "      <th>46833</th>\n",
       "      <td>Slc23a3</td>\n",
       "      <td>MGI:104516</td>\n",
       "    </tr>\n",
       "    <tr>\n",
       "      <th>46894</th>\n",
       "      <td>Agtr2</td>\n",
       "      <td>MGI:87966</td>\n",
       "    </tr>\n",
       "    <tr>\n",
       "      <th>46985</th>\n",
       "      <td>Cfap20dc</td>\n",
       "      <td>MGI:1926154</td>\n",
       "    </tr>\n",
       "  </tbody>\n",
       "</table>\n",
       "<p>7626 rows × 2 columns</p>\n",
       "</div>"
      ],
      "text/plain": [
       "      marker_symbol marker_accession_id\n",
       "0               Rhd         MGI:1202882\n",
       "1              Dpf2          MGI:109529\n",
       "2             Gna13           MGI:95768\n",
       "3           Dynlrb2         MGI:1922715\n",
       "4           Slc16a2         MGI:1203732\n",
       "...             ...                 ...\n",
       "46753        Amigo3         MGI:2444854\n",
       "46806          Sec1         MGI:1928893\n",
       "46833       Slc23a3          MGI:104516\n",
       "46894         Agtr2           MGI:87966\n",
       "46985      Cfap20dc         MGI:1926154\n",
       "\n",
       "[7626 rows x 2 columns]"
      ]
     },
     "execution_count": 8,
     "metadata": {},
     "output_type": "execute_result"
    }
   ],
   "source": [
    "data_select = data[['marker_symbol', 'marker_accession_id']].drop_duplicates()\n",
    "# data_select = data[['marker_symbol', 'marker_accession_id', 'mp_term_name', 'mp_term_id']].drop_duplicates()\n",
    "data_select"
   ]
  },
  {
   "cell_type": "code",
   "execution_count": 9,
   "metadata": {},
   "outputs": [],
   "source": [
    "data_dict = dict()\n",
    "for index, row in data_select.iterrows():\n",
    "    data_dict[row['marker_symbol']] = row['marker_accession_id']"
   ]
  },
  {
   "cell_type": "code",
   "execution_count": 10,
   "metadata": {},
   "outputs": [
    {
     "data": {
      "text/plain": [
       "'MGI:97281'"
      ]
     },
     "execution_count": 10,
     "metadata": {},
     "output_type": "execute_result"
    }
   ],
   "source": [
    "data_dict[\"Ncam1\"]"
   ]
  },
  {
   "cell_type": "code",
   "execution_count": null,
   "metadata": {},
   "outputs": [],
   "source": [
    "json.dump(data_dict, open(\"data/marker_symbol_accession_id.json\", \"w\"))\n",
    "Path(\"data/marker_symbol_accession_id.tsv\").write_text(\"\\n\".join([f\"{k}\\t{v}\" for k, v in data_dict.items()]))"
   ]
  }
 ],
 "metadata": {
  "kernelspec": {
   "display_name": "env-tsumugi",
   "language": "python",
   "name": "python3"
  },
  "language_info": {
   "codemirror_mode": {
    "name": "ipython",
    "version": 3
   },
   "file_extension": ".py",
   "mimetype": "text/x-python",
   "name": "python",
   "nbconvert_exporter": "python",
   "pygments_lexer": "ipython3",
   "version": "3.10.15"
  }
 },
 "nbformat": 4,
 "nbformat_minor": 2
}
