{
 "cells": [
  {
   "cell_type": "markdown",
   "metadata": {},
   "source": [
    "# Overlapとmp_term_nameの統合（連続値）\n",
    "\n",
    "- 一例：abnormal_circulating_glucose_level"
   ]
  },
  {
   "cell_type": "code",
   "execution_count": 1,
   "metadata": {},
   "outputs": [
    {
     "data": {
      "text/plain": [
       "'/mnt/g/impc-genes_with_similar_phenotypes'"
      ]
     },
     "execution_count": 1,
     "metadata": {},
     "output_type": "execute_result"
    }
   ],
   "source": [
    "# Move up to top directory\n",
    "import os\n",
    "os.getcwd()\n",
    "os.chdir('../')\n",
    "os.getcwd()"
   ]
  },
  {
   "cell_type": "code",
   "execution_count": 2,
   "metadata": {},
   "outputs": [],
   "source": [
    "from pathlib import Path\n",
    "from collections import defaultdict\n",
    "from itertools import combinations\n",
    "import csv\n",
    "import pandas as pd\n",
    "from matplotlib import pyplot as plt"
   ]
  },
  {
   "cell_type": "code",
   "execution_count": 6,
   "metadata": {},
   "outputs": [],
   "source": [
    "path_overlap = Path(\"data\", \"overlap_ratios.csv\")\n",
    "df_overlap = pd.read_csv(path_overlap)"
   ]
  },
  {
   "cell_type": "code",
   "execution_count": 20,
   "metadata": {},
   "outputs": [],
   "source": [
    "path_mp = Path(\"data\", \"mp_term_name\", \"decreased_circulating_glucose_level.csv\")\n",
    "df_mp = pd.read_csv(path_mp)\n",
    "df_mp = df_mp[[\"marker_symbol\", \"p_value\", \"effect_size\"]].drop_duplicates()\n"
   ]
  },
  {
   "cell_type": "code",
   "execution_count": 21,
   "metadata": {},
   "outputs": [
    {
     "name": "stdout",
     "output_type": "stream",
     "text": [
      "  marker1 marker2  overlap_ratio  overlapped_mp_number  \\\n",
      "0    Dpf2   Gna13          0.167                     2   \n",
      "1    Dpf2    Plec          0.200                     2   \n",
      "2    Dpf2  Gnptab          0.080                     2   \n",
      "\n",
      "                                       overlapped_mp  \\\n",
      "0  abnormal embryo size\\npreweaning lethality, co...   \n",
      "1   edema\\npreweaning lethality, complete penetrance   \n",
      "2  abnormal heart morphology\\nabnormal kidney mor...   \n",
      "\n",
      "                                          marker1_mp  \\\n",
      "0  abnormal craniofacial morphology\\nabnormal emb...   \n",
      "1  abnormal craniofacial morphology\\nabnormal emb...   \n",
      "2  abnormal craniofacial morphology\\nabnormal emb...   \n",
      "\n",
      "                                          marker2_mp  \n",
      "0  abnormal embryo size\\nabnormal visceral yolk s...  \n",
      "1   edema\\npreweaning lethality, complete penetrance  \n",
      "2  abnormal blood vessel morphology\\nabnormal hea...  \n",
      "166\n"
     ]
    },
    {
     "data": {
      "text/html": [
       "<div>\n",
       "<style scoped>\n",
       "    .dataframe tbody tr th:only-of-type {\n",
       "        vertical-align: middle;\n",
       "    }\n",
       "\n",
       "    .dataframe tbody tr th {\n",
       "        vertical-align: top;\n",
       "    }\n",
       "\n",
       "    .dataframe thead th {\n",
       "        text-align: right;\n",
       "    }\n",
       "</style>\n",
       "<table border=\"1\" class=\"dataframe\">\n",
       "  <thead>\n",
       "    <tr style=\"text-align: right;\">\n",
       "      <th></th>\n",
       "      <th>marker_symbol</th>\n",
       "      <th>p_value</th>\n",
       "      <th>effect_size</th>\n",
       "    </tr>\n",
       "  </thead>\n",
       "  <tbody>\n",
       "    <tr>\n",
       "      <th>0</th>\n",
       "      <td>Col18a1</td>\n",
       "      <td>3.939500e-05</td>\n",
       "      <td>-1.948883</td>\n",
       "    </tr>\n",
       "    <tr>\n",
       "      <th>1</th>\n",
       "      <td>Iqce</td>\n",
       "      <td>4.306803e-05</td>\n",
       "      <td>-1.323595</td>\n",
       "    </tr>\n",
       "    <tr>\n",
       "      <th>2</th>\n",
       "      <td>Sptssb</td>\n",
       "      <td>3.314694e-06</td>\n",
       "      <td>-1.393290</td>\n",
       "    </tr>\n",
       "    <tr>\n",
       "      <th>3</th>\n",
       "      <td>Agl</td>\n",
       "      <td>0.000000e+00</td>\n",
       "      <td>NaN</td>\n",
       "    </tr>\n",
       "    <tr>\n",
       "      <th>4</th>\n",
       "      <td>Dnaja4</td>\n",
       "      <td>1.124332e-05</td>\n",
       "      <td>NaN</td>\n",
       "    </tr>\n",
       "    <tr>\n",
       "      <th>...</th>\n",
       "      <td>...</td>\n",
       "      <td>...</td>\n",
       "      <td>...</td>\n",
       "    </tr>\n",
       "    <tr>\n",
       "      <th>161</th>\n",
       "      <td>Ttll10</td>\n",
       "      <td>1.203344e-08</td>\n",
       "      <td>-1.466200</td>\n",
       "    </tr>\n",
       "    <tr>\n",
       "      <th>162</th>\n",
       "      <td>Enpp5</td>\n",
       "      <td>7.125252e-08</td>\n",
       "      <td>-1.976246</td>\n",
       "    </tr>\n",
       "    <tr>\n",
       "      <th>163</th>\n",
       "      <td>Stx18</td>\n",
       "      <td>2.926899e-07</td>\n",
       "      <td>-1.210905</td>\n",
       "    </tr>\n",
       "    <tr>\n",
       "      <th>164</th>\n",
       "      <td>Hyal3</td>\n",
       "      <td>8.716088e-05</td>\n",
       "      <td>NaN</td>\n",
       "    </tr>\n",
       "    <tr>\n",
       "      <th>165</th>\n",
       "      <td>Hsf2bp</td>\n",
       "      <td>6.854919e-05</td>\n",
       "      <td>-1.552840</td>\n",
       "    </tr>\n",
       "  </tbody>\n",
       "</table>\n",
       "<p>166 rows × 3 columns</p>\n",
       "</div>"
      ],
      "text/plain": [
       "    marker_symbol       p_value  effect_size\n",
       "0         Col18a1  3.939500e-05    -1.948883\n",
       "1            Iqce  4.306803e-05    -1.323595\n",
       "2          Sptssb  3.314694e-06    -1.393290\n",
       "3             Agl  0.000000e+00          NaN\n",
       "4          Dnaja4  1.124332e-05          NaN\n",
       "..            ...           ...          ...\n",
       "161        Ttll10  1.203344e-08    -1.466200\n",
       "162         Enpp5  7.125252e-08    -1.976246\n",
       "163         Stx18  2.926899e-07    -1.210905\n",
       "164         Hyal3  8.716088e-05          NaN\n",
       "165        Hsf2bp  6.854919e-05    -1.552840\n",
       "\n",
       "[166 rows x 3 columns]"
      ]
     },
     "execution_count": 21,
     "metadata": {},
     "output_type": "execute_result"
    }
   ],
   "source": [
    "print(df_overlap.head(3))\n",
    "\n",
    "print(len(df_mp))\n",
    "\n",
    "df_mp"
   ]
  },
  {
   "cell_type": "code",
   "execution_count": 22,
   "metadata": {},
   "outputs": [],
   "source": [
    "# Fill NaN with median\n",
    "\n",
    "df_mp[\"effect_size\"] = df_mp[\"effect_size\"].fillna(df_mp[\"effect_size\"].median())"
   ]
  },
  {
   "cell_type": "code",
   "execution_count": 23,
   "metadata": {},
   "outputs": [
    {
     "name": "stdout",
     "output_type": "stream",
     "text": [
      "count    166.000000\n",
      "mean      -1.333232\n",
      "std        0.598032\n",
      "min       -3.762353\n",
      "25%       -1.563777\n",
      "50%       -1.300012\n",
      "75%       -1.021722\n",
      "max        0.305265\n",
      "Name: effect_size, dtype: float64\n"
     ]
    },
    {
     "data": {
      "text/html": [
       "<div>\n",
       "<style scoped>\n",
       "    .dataframe tbody tr th:only-of-type {\n",
       "        vertical-align: middle;\n",
       "    }\n",
       "\n",
       "    .dataframe tbody tr th {\n",
       "        vertical-align: top;\n",
       "    }\n",
       "\n",
       "    .dataframe thead th {\n",
       "        text-align: right;\n",
       "    }\n",
       "</style>\n",
       "<table border=\"1\" class=\"dataframe\">\n",
       "  <thead>\n",
       "    <tr style=\"text-align: right;\">\n",
       "      <th></th>\n",
       "      <th>marker_symbol</th>\n",
       "      <th>p_value</th>\n",
       "      <th>effect_size</th>\n",
       "    </tr>\n",
       "  </thead>\n",
       "  <tbody>\n",
       "    <tr>\n",
       "      <th>0</th>\n",
       "      <td>Col18a1</td>\n",
       "      <td>3.939500e-05</td>\n",
       "      <td>-1.948883</td>\n",
       "    </tr>\n",
       "    <tr>\n",
       "      <th>1</th>\n",
       "      <td>Iqce</td>\n",
       "      <td>4.306803e-05</td>\n",
       "      <td>-1.323595</td>\n",
       "    </tr>\n",
       "    <tr>\n",
       "      <th>2</th>\n",
       "      <td>Sptssb</td>\n",
       "      <td>3.314694e-06</td>\n",
       "      <td>-1.393290</td>\n",
       "    </tr>\n",
       "    <tr>\n",
       "      <th>3</th>\n",
       "      <td>Agl</td>\n",
       "      <td>0.000000e+00</td>\n",
       "      <td>-1.300012</td>\n",
       "    </tr>\n",
       "    <tr>\n",
       "      <th>4</th>\n",
       "      <td>Dnaja4</td>\n",
       "      <td>1.124332e-05</td>\n",
       "      <td>-1.300012</td>\n",
       "    </tr>\n",
       "    <tr>\n",
       "      <th>...</th>\n",
       "      <td>...</td>\n",
       "      <td>...</td>\n",
       "      <td>...</td>\n",
       "    </tr>\n",
       "    <tr>\n",
       "      <th>161</th>\n",
       "      <td>Ttll10</td>\n",
       "      <td>1.203344e-08</td>\n",
       "      <td>-1.466200</td>\n",
       "    </tr>\n",
       "    <tr>\n",
       "      <th>162</th>\n",
       "      <td>Enpp5</td>\n",
       "      <td>7.125252e-08</td>\n",
       "      <td>-1.976246</td>\n",
       "    </tr>\n",
       "    <tr>\n",
       "      <th>163</th>\n",
       "      <td>Stx18</td>\n",
       "      <td>2.926899e-07</td>\n",
       "      <td>-1.210905</td>\n",
       "    </tr>\n",
       "    <tr>\n",
       "      <th>164</th>\n",
       "      <td>Hyal3</td>\n",
       "      <td>8.716088e-05</td>\n",
       "      <td>-1.300012</td>\n",
       "    </tr>\n",
       "    <tr>\n",
       "      <th>165</th>\n",
       "      <td>Hsf2bp</td>\n",
       "      <td>6.854919e-05</td>\n",
       "      <td>-1.552840</td>\n",
       "    </tr>\n",
       "  </tbody>\n",
       "</table>\n",
       "<p>164 rows × 3 columns</p>\n",
       "</div>"
      ],
      "text/plain": [
       "    marker_symbol       p_value  effect_size\n",
       "0         Col18a1  3.939500e-05    -1.948883\n",
       "1            Iqce  4.306803e-05    -1.323595\n",
       "2          Sptssb  3.314694e-06    -1.393290\n",
       "3             Agl  0.000000e+00    -1.300012\n",
       "4          Dnaja4  1.124332e-05    -1.300012\n",
       "..            ...           ...          ...\n",
       "161        Ttll10  1.203344e-08    -1.466200\n",
       "162         Enpp5  7.125252e-08    -1.976246\n",
       "163         Stx18  2.926899e-07    -1.210905\n",
       "164         Hyal3  8.716088e-05    -1.300012\n",
       "165        Hsf2bp  6.854919e-05    -1.552840\n",
       "\n",
       "[164 rows x 3 columns]"
      ]
     },
     "execution_count": 23,
     "metadata": {},
     "output_type": "execute_result"
    }
   ],
   "source": [
    "print(df_mp[\"effect_size\"].describe())\n",
    "\n",
    "df_mp[df_mp[\"effect_size\"] < 0]"
   ]
  },
  {
   "cell_type": "code",
   "execution_count": 67,
   "metadata": {},
   "outputs": [],
   "source": [
    "# print(df_overlap[df_overlap[\"intersect_count\"] > 5 & df_overlap[\"overlap_ratio\"] > 0.5])"
   ]
  },
  {
   "cell_type": "code",
   "execution_count": 24,
   "metadata": {},
   "outputs": [],
   "source": [
    "# df_overlap_filterd = df_overlap[df_overlap[\"overlapped_mp_number\"] > 0]\n",
    "df_overlap_filterd = df_overlap[(df_overlap[\"overlap_ratio\"] > 0.5) & (df_overlap[\"overlapped_mp_number\"] > 2)]"
   ]
  },
  {
   "cell_type": "code",
   "execution_count": 25,
   "metadata": {},
   "outputs": [],
   "source": [
    "df_filtered = df_overlap_filterd[\n",
    "    (df_overlap_filterd['marker1'].isin(df_mp['marker_symbol'])) &\n",
    "    (df_overlap_filterd['marker2'].isin(df_mp['marker_symbol']))\n",
    "]"
   ]
  },
  {
   "cell_type": "code",
   "execution_count": 26,
   "metadata": {},
   "outputs": [
    {
     "name": "stdout",
     "output_type": "stream",
     "text": [
      "29\n"
     ]
    },
    {
     "data": {
      "text/html": [
       "<div>\n",
       "<style scoped>\n",
       "    .dataframe tbody tr th:only-of-type {\n",
       "        vertical-align: middle;\n",
       "    }\n",
       "\n",
       "    .dataframe tbody tr th {\n",
       "        vertical-align: top;\n",
       "    }\n",
       "\n",
       "    .dataframe thead th {\n",
       "        text-align: right;\n",
       "    }\n",
       "</style>\n",
       "<table border=\"1\" class=\"dataframe\">\n",
       "  <thead>\n",
       "    <tr style=\"text-align: right;\">\n",
       "      <th></th>\n",
       "      <th>marker1</th>\n",
       "      <th>marker2</th>\n",
       "      <th>overlap_ratio</th>\n",
       "      <th>overlapped_mp_number</th>\n",
       "      <th>overlapped_mp</th>\n",
       "      <th>marker1_mp</th>\n",
       "      <th>marker2_mp</th>\n",
       "      <th>marker_symbol</th>\n",
       "      <th>p_value</th>\n",
       "      <th>effect_size</th>\n",
       "    </tr>\n",
       "  </thead>\n",
       "  <tbody>\n",
       "    <tr>\n",
       "      <th>0</th>\n",
       "      <td>Usp32</td>\n",
       "      <td>Pigc</td>\n",
       "      <td>0.667</td>\n",
       "      <td>4</td>\n",
       "      <td>decreased circulating glucose level\\ndecreased...</td>\n",
       "      <td>decreased circulating glucose level\\ndecreased...</td>\n",
       "      <td>decreased circulating glucose level\\ndecreased...</td>\n",
       "      <td>Usp32</td>\n",
       "      <td>2.566989e-10</td>\n",
       "      <td>-1.753421</td>\n",
       "    </tr>\n",
       "    <tr>\n",
       "      <th>1</th>\n",
       "      <td>Mtx2</td>\n",
       "      <td>Bud23</td>\n",
       "      <td>0.600</td>\n",
       "      <td>3</td>\n",
       "      <td>decreased circulating glucose level\\nembryonic...</td>\n",
       "      <td>decreased circulating glucose level\\ndecreased...</td>\n",
       "      <td>decreased circulating glucose level\\nembryonic...</td>\n",
       "      <td>Mtx2</td>\n",
       "      <td>4.013782e-05</td>\n",
       "      <td>-1.112288</td>\n",
       "    </tr>\n",
       "    <tr>\n",
       "      <th>2</th>\n",
       "      <td>Bud23</td>\n",
       "      <td>Mrm3</td>\n",
       "      <td>0.600</td>\n",
       "      <td>3</td>\n",
       "      <td>decreased circulating glucose level\\nembryonic...</td>\n",
       "      <td>decreased circulating glucose level\\nembryonic...</td>\n",
       "      <td>abnormal bone structure\\ndecreased circulating...</td>\n",
       "      <td>Bud23</td>\n",
       "      <td>9.319209e-06</td>\n",
       "      <td>-0.642843</td>\n",
       "    </tr>\n",
       "  </tbody>\n",
       "</table>\n",
       "</div>"
      ],
      "text/plain": [
       "  marker1 marker2  overlap_ratio  overlapped_mp_number  \\\n",
       "0   Usp32    Pigc          0.667                     4   \n",
       "1    Mtx2   Bud23          0.600                     3   \n",
       "2   Bud23    Mrm3          0.600                     3   \n",
       "\n",
       "                                       overlapped_mp  \\\n",
       "0  decreased circulating glucose level\\ndecreased...   \n",
       "1  decreased circulating glucose level\\nembryonic...   \n",
       "2  decreased circulating glucose level\\nembryonic...   \n",
       "\n",
       "                                          marker1_mp  \\\n",
       "0  decreased circulating glucose level\\ndecreased...   \n",
       "1  decreased circulating glucose level\\ndecreased...   \n",
       "2  decreased circulating glucose level\\nembryonic...   \n",
       "\n",
       "                                          marker2_mp marker_symbol  \\\n",
       "0  decreased circulating glucose level\\ndecreased...         Usp32   \n",
       "1  decreased circulating glucose level\\nembryonic...          Mtx2   \n",
       "2  abnormal bone structure\\ndecreased circulating...         Bud23   \n",
       "\n",
       "        p_value  effect_size  \n",
       "0  2.566989e-10    -1.753421  \n",
       "1  4.013782e-05    -1.112288  \n",
       "2  9.319209e-06    -0.642843  "
      ]
     },
     "execution_count": 26,
     "metadata": {},
     "output_type": "execute_result"
    }
   ],
   "source": [
    "df_merged = pd.merge(df_filtered, df_mp, how='inner', left_on='marker1', right_on='marker_symbol')\n",
    "\n",
    "print(len(df_merged))\n",
    "\n",
    "df_merged.head(3)"
   ]
  },
  {
   "cell_type": "markdown",
   "metadata": {},
   "source": [
    "### 出力"
   ]
  },
  {
   "cell_type": "code",
   "execution_count": 27,
   "metadata": {},
   "outputs": [
    {
     "name": "stdout",
     "output_type": "stream",
     "text": [
      "29\n",
      "    from     to  node_size  edge_size  \\\n",
      "0  Usp32   Pigc  -1.753421      0.667   \n",
      "1   Mtx2  Bud23  -1.112288      0.600   \n",
      "2  Bud23   Mrm3  -0.642843      0.600   \n",
      "\n",
      "                                             from_mp  \\\n",
      "0  decreased circulating glucose level\\ndecreased...   \n",
      "1  decreased circulating glucose level\\ndecreased...   \n",
      "2  decreased circulating glucose level\\nembryonic...   \n",
      "\n",
      "                                               to_mp  \\\n",
      "0  decreased circulating glucose level\\ndecreased...   \n",
      "1  decreased circulating glucose level\\nembryonic...   \n",
      "2  abnormal bone structure\\ndecreased circulating...   \n",
      "\n",
      "                                             edge_mp  \n",
      "0  decreased circulating glucose level\\ndecreased...  \n",
      "1  decreased circulating glucose level\\nembryonic...  \n",
      "2  decreased circulating glucose level\\nembryonic...  \n"
     ]
    }
   ],
   "source": [
    "df_network = df_merged[[\"marker1\", \"marker2\", \"effect_size\", \"overlap_ratio\", \"marker1_mp\", \"marker2_mp\", \"overlapped_mp\"]]\n",
    "\n",
    "df_network.columns = [\"from\", \"to\", \"node_size\", \"edge_size\", \"from_mp\", \"to_mp\", \"edge_mp\"]\n",
    "print(len(df_network))\n",
    "print(df_network.head(3))\n"
   ]
  },
  {
   "cell_type": "code",
   "execution_count": 28,
   "metadata": {},
   "outputs": [],
   "source": [
    "df_network.to_csv(Path(\"data\", \"network.csv\"), index=False)"
   ]
  },
  {
   "cell_type": "code",
   "execution_count": 41,
   "metadata": {},
   "outputs": [],
   "source": [
    "# %%bash\n",
    "\n",
    "# python scripts/vis_network.py"
   ]
  },
  {
   "cell_type": "code",
   "execution_count": null,
   "metadata": {},
   "outputs": [],
   "source": []
  }
 ],
 "metadata": {
  "kernelspec": {
   "display_name": "base",
   "language": "python",
   "name": "python3"
  },
  "language_info": {
   "codemirror_mode": {
    "name": "ipython",
    "version": 3
   },
   "file_extension": ".py",
   "mimetype": "text/x-python",
   "name": "python",
   "nbconvert_exporter": "python",
   "pygments_lexer": "ipython3",
   "version": "3.10.14"
  }
 },
 "nbformat": 4,
 "nbformat_minor": 2
}
