{
 "cells": [
  {
   "cell_type": "markdown",
   "metadata": {},
   "source": [
    "# Overlapとmp_term_nameの情報を統合する"
   ]
  },
  {
   "cell_type": "code",
   "execution_count": 1,
   "metadata": {},
   "outputs": [
    {
     "data": {
      "text/plain": [
       "'/mnt/g/impc-genes_with_similar_phenotypes'"
      ]
     },
     "execution_count": 1,
     "metadata": {},
     "output_type": "execute_result"
    }
   ],
   "source": [
    "# Move up to top directory\n",
    "import os\n",
    "os.getcwd()\n",
    "os.chdir('../')\n",
    "os.getcwd()"
   ]
  },
  {
   "cell_type": "code",
   "execution_count": 2,
   "metadata": {},
   "outputs": [],
   "source": [
    "from pathlib import Path\n",
    "from collections import defaultdict\n",
    "from itertools import combinations\n",
    "import csv\n",
    "import pandas as pd\n",
    "from matplotlib import pyplot as plt"
   ]
  },
  {
   "cell_type": "code",
   "execution_count": 3,
   "metadata": {},
   "outputs": [],
   "source": [
    "path_overlap = Path(\"data\", \"overlap_ratios.csv\")\n",
    "path_mp = Path(\"data\", \"mp_term_name\", \"male_infertility.csv\")"
   ]
  },
  {
   "cell_type": "code",
   "execution_count": 4,
   "metadata": {},
   "outputs": [],
   "source": [
    "df_overlap = pd.read_csv(path_overlap)\n",
    "df_mp = pd.read_csv(path_mp)"
   ]
  },
  {
   "cell_type": "code",
   "execution_count": 5,
   "metadata": {},
   "outputs": [
    {
     "data": {
      "text/html": [
       "<div>\n",
       "<style scoped>\n",
       "    .dataframe tbody tr th:only-of-type {\n",
       "        vertical-align: middle;\n",
       "    }\n",
       "\n",
       "    .dataframe tbody tr th {\n",
       "        vertical-align: top;\n",
       "    }\n",
       "\n",
       "    .dataframe thead th {\n",
       "        text-align: right;\n",
       "    }\n",
       "</style>\n",
       "<table border=\"1\" class=\"dataframe\">\n",
       "  <thead>\n",
       "    <tr style=\"text-align: right;\">\n",
       "      <th></th>\n",
       "      <th>marker_symbol</th>\n",
       "      <th>effect_size</th>\n",
       "    </tr>\n",
       "  </thead>\n",
       "  <tbody>\n",
       "    <tr>\n",
       "      <th>0</th>\n",
       "      <td>Tex38</td>\n",
       "      <td>1</td>\n",
       "    </tr>\n",
       "    <tr>\n",
       "      <th>1</th>\n",
       "      <td>Pou2af3</td>\n",
       "      <td>1</td>\n",
       "    </tr>\n",
       "    <tr>\n",
       "      <th>2</th>\n",
       "      <td>Stoml2</td>\n",
       "      <td>1</td>\n",
       "    </tr>\n",
       "    <tr>\n",
       "      <th>3</th>\n",
       "      <td>Sbf1</td>\n",
       "      <td>1</td>\n",
       "    </tr>\n",
       "    <tr>\n",
       "      <th>4</th>\n",
       "      <td>Cyrib</td>\n",
       "      <td>1</td>\n",
       "    </tr>\n",
       "    <tr>\n",
       "      <th>...</th>\n",
       "      <td>...</td>\n",
       "      <td>...</td>\n",
       "    </tr>\n",
       "    <tr>\n",
       "      <th>320</th>\n",
       "      <td>Cep19</td>\n",
       "      <td>1</td>\n",
       "    </tr>\n",
       "    <tr>\n",
       "      <th>321</th>\n",
       "      <td>Bzw1</td>\n",
       "      <td>1</td>\n",
       "    </tr>\n",
       "    <tr>\n",
       "      <th>322</th>\n",
       "      <td>Septin10</td>\n",
       "      <td>1</td>\n",
       "    </tr>\n",
       "    <tr>\n",
       "      <th>323</th>\n",
       "      <td>Cfap57</td>\n",
       "      <td>1</td>\n",
       "    </tr>\n",
       "    <tr>\n",
       "      <th>324</th>\n",
       "      <td>Scube1</td>\n",
       "      <td>1</td>\n",
       "    </tr>\n",
       "  </tbody>\n",
       "</table>\n",
       "<p>318 rows × 2 columns</p>\n",
       "</div>"
      ],
      "text/plain": [
       "    marker_symbol  effect_size\n",
       "0           Tex38            1\n",
       "1         Pou2af3            1\n",
       "2          Stoml2            1\n",
       "3            Sbf1            1\n",
       "4           Cyrib            1\n",
       "..            ...          ...\n",
       "320         Cep19            1\n",
       "321          Bzw1            1\n",
       "322      Septin10            1\n",
       "323        Cfap57            1\n",
       "324        Scube1            1\n",
       "\n",
       "[318 rows x 2 columns]"
      ]
     },
     "execution_count": 5,
     "metadata": {},
     "output_type": "execute_result"
    }
   ],
   "source": [
    "df_mp = df_mp[[\"marker_symbol\", \"effect_size\"]].drop_duplicates()\n",
    "df_mp"
   ]
  },
  {
   "cell_type": "code",
   "execution_count": 6,
   "metadata": {},
   "outputs": [],
   "source": [
    "# print(df_overlap[df_overlap[\"intersect_count\"] > 5 & df_overlap[\"overlap_ratio\"] > 0.5])"
   ]
  },
  {
   "cell_type": "code",
   "execution_count": 42,
   "metadata": {},
   "outputs": [],
   "source": [
    "# df_overlap_filterd = df_overlap[df_overlap[\"overlapped_mp_number\"] > 8]\n",
    "df_overlap_filterd = df_overlap[(df_overlap[\"overlap_ratio\"] > 0.5) & (df_overlap[\"overlapped_mp_number\"] > 2)]"
   ]
  },
  {
   "cell_type": "code",
   "execution_count": 43,
   "metadata": {},
   "outputs": [],
   "source": [
    "df_filtered = df_overlap_filterd[\n",
    "    (df_overlap_filterd['marker1'].isin(df_mp['marker_symbol'])) &\n",
    "    (df_overlap_filterd['marker2'].isin(df_mp['marker_symbol']))\n",
    "]"
   ]
  },
  {
   "cell_type": "code",
   "execution_count": 44,
   "metadata": {},
   "outputs": [
    {
     "data": {
      "text/html": [
       "<div>\n",
       "<style scoped>\n",
       "    .dataframe tbody tr th:only-of-type {\n",
       "        vertical-align: middle;\n",
       "    }\n",
       "\n",
       "    .dataframe tbody tr th {\n",
       "        vertical-align: top;\n",
       "    }\n",
       "\n",
       "    .dataframe thead th {\n",
       "        text-align: right;\n",
       "    }\n",
       "</style>\n",
       "<table border=\"1\" class=\"dataframe\">\n",
       "  <thead>\n",
       "    <tr style=\"text-align: right;\">\n",
       "      <th></th>\n",
       "      <th>marker1</th>\n",
       "      <th>marker2</th>\n",
       "      <th>overlap_ratio</th>\n",
       "      <th>overlapped_mp_number</th>\n",
       "      <th>overlapped_mp</th>\n",
       "      <th>marker1_mp</th>\n",
       "      <th>marker2_mp</th>\n",
       "      <th>marker_symbol</th>\n",
       "      <th>effect_size</th>\n",
       "    </tr>\n",
       "  </thead>\n",
       "  <tbody>\n",
       "    <tr>\n",
       "      <th>0</th>\n",
       "      <td>Dnmt3l</td>\n",
       "      <td>Cntd1</td>\n",
       "      <td>0.600</td>\n",
       "      <td>3</td>\n",
       "      <td>{'female infertility', 'small testis', 'male i...</td>\n",
       "      <td>{'increased mean corpuscular hemoglobin', 'fem...</td>\n",
       "      <td>{'female infertility', 'small testis', 'male i...</td>\n",
       "      <td>Dnmt3l</td>\n",
       "      <td>1</td>\n",
       "    </tr>\n",
       "    <tr>\n",
       "      <th>1</th>\n",
       "      <td>Nphp1</td>\n",
       "      <td>Pgap6</td>\n",
       "      <td>0.600</td>\n",
       "      <td>3</td>\n",
       "      <td>{'small testis', 'abnormal skin morphology', '...</td>\n",
       "      <td>{'abnormal uterus morphology', 'male infertili...</td>\n",
       "      <td>{'male infertility', 'small testis', 'abnormal...</td>\n",
       "      <td>Nphp1</td>\n",
       "      <td>1</td>\n",
       "    </tr>\n",
       "    <tr>\n",
       "      <th>2</th>\n",
       "      <td>Spidr</td>\n",
       "      <td>Kash5</td>\n",
       "      <td>0.545</td>\n",
       "      <td>6</td>\n",
       "      <td>{'increased total body fat amount', 'decreased...</td>\n",
       "      <td>{'increased total body fat amount', 'decreased...</td>\n",
       "      <td>{'increased total body fat amount', 'decreased...</td>\n",
       "      <td>Spidr</td>\n",
       "      <td>1</td>\n",
       "    </tr>\n",
       "  </tbody>\n",
       "</table>\n",
       "</div>"
      ],
      "text/plain": [
       "  marker1 marker2  overlap_ratio  overlapped_mp_number  \\\n",
       "0  Dnmt3l   Cntd1          0.600                     3   \n",
       "1   Nphp1   Pgap6          0.600                     3   \n",
       "2   Spidr   Kash5          0.545                     6   \n",
       "\n",
       "                                       overlapped_mp  \\\n",
       "0  {'female infertility', 'small testis', 'male i...   \n",
       "1  {'small testis', 'abnormal skin morphology', '...   \n",
       "2  {'increased total body fat amount', 'decreased...   \n",
       "\n",
       "                                          marker1_mp  \\\n",
       "0  {'increased mean corpuscular hemoglobin', 'fem...   \n",
       "1  {'abnormal uterus morphology', 'male infertili...   \n",
       "2  {'increased total body fat amount', 'decreased...   \n",
       "\n",
       "                                          marker2_mp marker_symbol  \\\n",
       "0  {'female infertility', 'small testis', 'male i...        Dnmt3l   \n",
       "1  {'male infertility', 'small testis', 'abnormal...         Nphp1   \n",
       "2  {'increased total body fat amount', 'decreased...         Spidr   \n",
       "\n",
       "   effect_size  \n",
       "0            1  \n",
       "1            1  \n",
       "2            1  "
      ]
     },
     "execution_count": 44,
     "metadata": {},
     "output_type": "execute_result"
    }
   ],
   "source": [
    "df_merged = pd.merge(df_filtered, df_mp, how='inner', left_on='marker1', right_on='marker_symbol')\n",
    "\n",
    "df_merged.head(3)"
   ]
  },
  {
   "cell_type": "code",
   "execution_count": 45,
   "metadata": {},
   "outputs": [
    {
     "name": "stdout",
     "output_type": "stream",
     "text": [
      "32\n",
      "     from     to  node_size  edge_size\n",
      "0  Dnmt3l  Cntd1          1      0.600\n",
      "1   Nphp1  Pgap6          1      0.600\n",
      "2   Spidr  Kash5          1      0.545\n"
     ]
    }
   ],
   "source": [
    "df_network = df_merged[[\"marker1\", \"marker2\", \"effect_size\", \"overlap_ratio\"]]\n",
    "\n",
    "df_network.columns = [\"from\", \"to\", \"node_size\", \"edge_size\"]\n",
    "print(len(df_network))\n",
    "print(df_network.head(3))\n"
   ]
  },
  {
   "cell_type": "code",
   "execution_count": 46,
   "metadata": {},
   "outputs": [],
   "source": [
    "df_network.to_csv(Path(\"data\", \"network.csv\"), index=False)"
   ]
  },
  {
   "cell_type": "code",
   "execution_count": 41,
   "metadata": {},
   "outputs": [],
   "source": [
    "# %%bash\n",
    "\n",
    "# python scripts/vis_network.py"
   ]
  },
  {
   "cell_type": "code",
   "execution_count": null,
   "metadata": {},
   "outputs": [],
   "source": []
  }
 ],
 "metadata": {
  "kernelspec": {
   "display_name": "base",
   "language": "python",
   "name": "python3"
  },
  "language_info": {
   "codemirror_mode": {
    "name": "ipython",
    "version": 3
   },
   "file_extension": ".py",
   "mimetype": "text/x-python",
   "name": "python",
   "nbconvert_exporter": "python",
   "pygments_lexer": "ipython3",
   "version": "3.10.14"
  }
 },
 "nbformat": 4,
 "nbformat_minor": 2
}
