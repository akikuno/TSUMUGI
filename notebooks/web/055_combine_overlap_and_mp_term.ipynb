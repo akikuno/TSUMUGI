{
 "cells": [
  {
   "cell_type": "markdown",
   "metadata": {},
   "source": [
    "# Overlap と mp_term_name の統合\n",
    "\n",
    "-   例：abnormal_circulating_glucose_level（連続値）\n",
    "-   例：male_infertility（カテゴリ値）\n"
   ]
  },
  {
   "cell_type": "code",
   "execution_count": 1,
   "metadata": {},
   "outputs": [
    {
     "name": "stdout",
     "output_type": "stream",
     "text": [
      "/mnt/e/impc-genes_with_similar_phenotypes/notebooks/web\n",
      "/mnt/e/impc-genes_with_similar_phenotypes\n"
     ]
    }
   ],
   "source": [
    "# Move up to top directory\n",
    "import os\n",
    "from pathlib import Path\n",
    "\n",
    "print(os.getcwd())\n",
    "\n",
    "while not Path(\"LICENSE\").exists():\n",
    "    os.chdir('../')\n",
    "\n",
    "print(os.getcwd())"
   ]
  },
  {
   "cell_type": "code",
   "execution_count": 8,
   "metadata": {},
   "outputs": [],
   "source": [
    "P = print\n",
    "from pprint import pprint as PP\n",
    "from collections import Counter as C\n",
    "from pathlib import Path\n",
    "from collections import defaultdict\n",
    "from itertools import combinations\n",
    "import csv\n",
    "import json\n",
    "import pickle\n",
    "\n",
    "import pandas as pd\n",
    "import matplotlib.pyplot as plt\n",
    "import seaborn as sns"
   ]
  },
  {
   "cell_type": "code",
   "execution_count": 9,
   "metadata": {},
   "outputs": [
    {
     "name": "stdout",
     "output_type": "stream",
     "text": [
      "184250\n"
     ]
    },
    {
     "data": {
      "text/html": [
       "<div>\n",
       "<style scoped>\n",
       "    .dataframe tbody tr th:only-of-type {\n",
       "        vertical-align: middle;\n",
       "    }\n",
       "\n",
       "    .dataframe tbody tr th {\n",
       "        vertical-align: top;\n",
       "    }\n",
       "\n",
       "    .dataframe thead th {\n",
       "        text-align: right;\n",
       "    }\n",
       "</style>\n",
       "<table border=\"1\" class=\"dataframe\">\n",
       "  <thead>\n",
       "    <tr style=\"text-align: right;\">\n",
       "      <th></th>\n",
       "      <th>marker1</th>\n",
       "      <th>marker2</th>\n",
       "      <th>overlap_ratio</th>\n",
       "      <th>overlapped_mp_number</th>\n",
       "      <th>overlapped_mp</th>\n",
       "    </tr>\n",
       "  </thead>\n",
       "  <tbody>\n",
       "    <tr>\n",
       "      <th>0</th>\n",
       "      <td>Rhd</td>\n",
       "      <td>Ap4e1</td>\n",
       "      <td>0.071</td>\n",
       "      <td>5</td>\n",
       "      <td>[decreased circulating free fatty acids level,...</td>\n",
       "    </tr>\n",
       "    <tr>\n",
       "      <th>1</th>\n",
       "      <td>Rhd</td>\n",
       "      <td>Asxl1</td>\n",
       "      <td>0.136</td>\n",
       "      <td>3</td>\n",
       "      <td>[decreased hemoglobin content, decreased mean ...</td>\n",
       "    </tr>\n",
       "    <tr>\n",
       "      <th>2</th>\n",
       "      <td>Rhd</td>\n",
       "      <td>Abcg8</td>\n",
       "      <td>0.091</td>\n",
       "      <td>4</td>\n",
       "      <td>[decreased hemoglobin content, decreased mean ...</td>\n",
       "    </tr>\n",
       "  </tbody>\n",
       "</table>\n",
       "</div>"
      ],
      "text/plain": [
       "  marker1 marker2  overlap_ratio  overlapped_mp_number  \\\n",
       "0     Rhd   Ap4e1          0.071                     5   \n",
       "1     Rhd   Asxl1          0.136                     3   \n",
       "2     Rhd   Abcg8          0.091                     4   \n",
       "\n",
       "                                       overlapped_mp  \n",
       "0  [decreased circulating free fatty acids level,...  \n",
       "1  [decreased hemoglobin content, decreased mean ...  \n",
       "2  [decreased hemoglobin content, decreased mean ...  "
      ]
     },
     "execution_count": 9,
     "metadata": {},
     "output_type": "execute_result"
    }
   ],
   "source": [
    "# path_overlap = Path(\"data\", \"overlap_ratios_filtered.csv\")\n",
    "# df_overlap = pd.read_csv(path_overlap)\n",
    "\n",
    "overlap = pickle.load(open(\"data/overlapped_ratios_filtered.pkl\", \"rb\"))\n",
    "df_overlap = pd.DataFrame(overlap, columns=[\"marker1\", \"marker2\", \"overlap_ratio\", \"overlapped_mp_number\", \"overlapped_mp\"])\n",
    "P(len(df_overlap)) # 184250\n",
    "df_overlap.head(3)"
   ]
  },
  {
   "cell_type": "code",
   "execution_count": 10,
   "metadata": {},
   "outputs": [
    {
     "name": "stdout",
     "output_type": "stream",
     "text": [
      "[PosixPath('data/mp_term_name/abnormal_abdominal_wall_morphology.csv'), PosixPath('data/mp_term_name/abnormal_adipose_tissue_amount.csv'), PosixPath('data/mp_term_name/abnormal_adrenal_gland_morphology.csv')]\n",
      "670\n"
     ]
    }
   ],
   "source": [
    "path_mp_terms = list(Path(\"data\", \"mp_term_name\").glob(\"*.csv\"))\n",
    "print(path_mp_terms[:3])\n",
    "print(len(path_mp_terms)) # 670"
   ]
  },
  {
   "cell_type": "code",
   "execution_count": 11,
   "metadata": {},
   "outputs": [
    {
     "name": "stdout",
     "output_type": "stream",
     "text": [
      "increased_circulating_glucose_level\n"
     ]
    }
   ],
   "source": [
    "# path_mp_term = Path(\"data\", \"mp_term_name\", \"decreased_circulating_glucose_level.csv\")\n",
    "path_mp_term = Path(\"data\", \"mp_term_name\", \"increased_circulating_glucose_level.csv\")\n",
    "mp_term = path_mp_term.stem\n",
    "print(mp_term)\n"
   ]
  },
  {
   "cell_type": "code",
   "execution_count": 12,
   "metadata": {},
   "outputs": [
    {
     "name": "stdout",
     "output_type": "stream",
     "text": [
      "73\n"
     ]
    },
    {
     "data": {
      "text/html": [
       "<div>\n",
       "<style scoped>\n",
       "    .dataframe tbody tr th:only-of-type {\n",
       "        vertical-align: middle;\n",
       "    }\n",
       "\n",
       "    .dataframe tbody tr th {\n",
       "        vertical-align: top;\n",
       "    }\n",
       "\n",
       "    .dataframe thead th {\n",
       "        text-align: right;\n",
       "    }\n",
       "</style>\n",
       "<table border=\"1\" class=\"dataframe\">\n",
       "  <thead>\n",
       "    <tr style=\"text-align: right;\">\n",
       "      <th></th>\n",
       "      <th>marker_symbol</th>\n",
       "      <th>effect_size</th>\n",
       "    </tr>\n",
       "  </thead>\n",
       "  <tbody>\n",
       "    <tr>\n",
       "      <th>0</th>\n",
       "      <td>Zfp513</td>\n",
       "      <td>0.200596</td>\n",
       "    </tr>\n",
       "    <tr>\n",
       "      <th>1</th>\n",
       "      <td>Dbnl</td>\n",
       "      <td>0.828539</td>\n",
       "    </tr>\n",
       "    <tr>\n",
       "      <th>2</th>\n",
       "      <td>Oas1g</td>\n",
       "      <td>0.922229</td>\n",
       "    </tr>\n",
       "  </tbody>\n",
       "</table>\n",
       "</div>"
      ],
      "text/plain": [
       "  marker_symbol  effect_size\n",
       "0        Zfp513     0.200596\n",
       "1          Dbnl     0.828539\n",
       "2         Oas1g     0.922229"
      ]
     },
     "execution_count": 12,
     "metadata": {},
     "output_type": "execute_result"
    }
   ],
   "source": [
    "df_marker_effect = pd.read_csv(path_mp_term)\n",
    "df_marker_effect = df_marker_effect[[\"marker_symbol\", \"effect_size\"]].drop_duplicates()\n",
    "\n",
    "# effect_sizeがNanの行を削除\n",
    "df_marker_effect = df_marker_effect.dropna(subset=[\"effect_size\"])\n",
    "\n",
    "print(len(df_marker_effect))\n",
    "\n",
    "df_marker_effect.head(3)\n"
   ]
  },
  {
   "cell_type": "code",
   "execution_count": 8,
   "metadata": {},
   "outputs": [],
   "source": [
    "# print(df_mp[\"effect_size\"].describe())"
   ]
  },
  {
   "cell_type": "code",
   "execution_count": 13,
   "metadata": {},
   "outputs": [],
   "source": [
    "# Absolute value of effect size\n",
    "\n",
    "df_marker_effect.loc[:, \"effect_size\"] = df_marker_effect[\"effect_size\"].abs()"
   ]
  },
  {
   "cell_type": "code",
   "execution_count": 10,
   "metadata": {},
   "outputs": [],
   "source": [
    "# print(df_overlap[df_overlap[\"intersect_count\"] > 5 & df_overlap[\"overlap_ratio\"] > 0.5])"
   ]
  },
  {
   "cell_type": "code",
   "execution_count": 11,
   "metadata": {},
   "outputs": [],
   "source": [
    "# df_overlap_filterd = df_overlap[df_overlap[\"overlapped_mp_number\"] > 0]\n",
    "# df_overlap_filterd = df_overlap[(df_overlap[\"overlap_ratio\"] > 0.25)]\n",
    "df_overlap_filterd = df_overlap"
   ]
  },
  {
   "cell_type": "code",
   "execution_count": 12,
   "metadata": {},
   "outputs": [],
   "source": [
    "df_filtered = df_overlap_filterd[\n",
    "    (df_overlap_filterd['marker1'].isin(df_marker_effect['marker_symbol'])) &\n",
    "    (df_overlap_filterd['marker2'].isin(df_marker_effect['marker_symbol']))\n",
    "]"
   ]
  },
  {
   "cell_type": "code",
   "execution_count": 13,
   "metadata": {},
   "outputs": [
    {
     "name": "stdout",
     "output_type": "stream",
     "text": [
      "213\n"
     ]
    },
    {
     "data": {
      "text/html": [
       "<div>\n",
       "<style scoped>\n",
       "    .dataframe tbody tr th:only-of-type {\n",
       "        vertical-align: middle;\n",
       "    }\n",
       "\n",
       "    .dataframe tbody tr th {\n",
       "        vertical-align: top;\n",
       "    }\n",
       "\n",
       "    .dataframe thead th {\n",
       "        text-align: right;\n",
       "    }\n",
       "</style>\n",
       "<table border=\"1\" class=\"dataframe\">\n",
       "  <thead>\n",
       "    <tr style=\"text-align: right;\">\n",
       "      <th></th>\n",
       "      <th>marker1</th>\n",
       "      <th>marker2</th>\n",
       "      <th>overlap_ratio</th>\n",
       "      <th>overlapped_mp_number</th>\n",
       "      <th>overlapped_mp</th>\n",
       "    </tr>\n",
       "  </thead>\n",
       "  <tbody>\n",
       "    <tr>\n",
       "      <th>2704</th>\n",
       "      <td>Zfyve19</td>\n",
       "      <td>Rnf10</td>\n",
       "      <td>0.079</td>\n",
       "      <td>5</td>\n",
       "      <td>[abnormal behavior, decreased exploration in n...</td>\n",
       "    </tr>\n",
       "    <tr>\n",
       "      <th>2712</th>\n",
       "      <td>Zfyve19</td>\n",
       "      <td>Usp31</td>\n",
       "      <td>0.136</td>\n",
       "      <td>3</td>\n",
       "      <td>[decreased exploration in new environment, dec...</td>\n",
       "    </tr>\n",
       "    <tr>\n",
       "      <th>2722</th>\n",
       "      <td>Zfyve19</td>\n",
       "      <td>Ky</td>\n",
       "      <td>0.273</td>\n",
       "      <td>3</td>\n",
       "      <td>[abnormal behavior, decreased exploration in n...</td>\n",
       "    </tr>\n",
       "  </tbody>\n",
       "</table>\n",
       "</div>"
      ],
      "text/plain": [
       "      marker1 marker2  overlap_ratio  overlapped_mp_number  \\\n",
       "2704  Zfyve19   Rnf10          0.079                     5   \n",
       "2712  Zfyve19   Usp31          0.136                     3   \n",
       "2722  Zfyve19      Ky          0.273                     3   \n",
       "\n",
       "                                          overlapped_mp  \n",
       "2704  [abnormal behavior, decreased exploration in n...  \n",
       "2712  [decreased exploration in new environment, dec...  \n",
       "2722  [abnormal behavior, decreased exploration in n...  "
      ]
     },
     "execution_count": 13,
     "metadata": {},
     "output_type": "execute_result"
    }
   ],
   "source": [
    "\n",
    "print(len(df_filtered))\n",
    "\n",
    "df_filtered.head(3)"
   ]
  },
  {
   "cell_type": "markdown",
   "metadata": {},
   "source": [
    "## 出力\n"
   ]
  },
  {
   "cell_type": "markdown",
   "metadata": {},
   "source": [
    "### Node を作成する\n"
   ]
  },
  {
   "cell_type": "code",
   "execution_count": 32,
   "metadata": {},
   "outputs": [
    {
     "data": {
      "text/html": [
       "<div>\n",
       "<style scoped>\n",
       "    .dataframe tbody tr th:only-of-type {\n",
       "        vertical-align: middle;\n",
       "    }\n",
       "\n",
       "    .dataframe tbody tr th {\n",
       "        vertical-align: top;\n",
       "    }\n",
       "\n",
       "    .dataframe thead th {\n",
       "        text-align: right;\n",
       "    }\n",
       "</style>\n",
       "<table border=\"1\" class=\"dataframe\">\n",
       "  <thead>\n",
       "    <tr style=\"text-align: right;\">\n",
       "      <th></th>\n",
       "      <th>marker_symbol</th>\n",
       "      <th>mp_term</th>\n",
       "      <th>effect_size</th>\n",
       "    </tr>\n",
       "  </thead>\n",
       "  <tbody>\n",
       "    <tr>\n",
       "      <th>0</th>\n",
       "      <td>Zfyve19</td>\n",
       "      <td>[Abnormal behavior, Decreased exploration in n...</td>\n",
       "      <td>0.695784</td>\n",
       "    </tr>\n",
       "    <tr>\n",
       "      <th>1</th>\n",
       "      <td>Bbs5</td>\n",
       "      <td>[Abnormal bone structure, Abnormal gait, Abnor...</td>\n",
       "      <td>1.902677</td>\n",
       "    </tr>\n",
       "    <tr>\n",
       "      <th>2</th>\n",
       "      <td>Lepr</td>\n",
       "      <td>[Abnormal bone structure, Abnormal gait, Abnor...</td>\n",
       "      <td>NaN</td>\n",
       "    </tr>\n",
       "  </tbody>\n",
       "</table>\n",
       "</div>"
      ],
      "text/plain": [
       "  marker_symbol                                            mp_term  \\\n",
       "0       Zfyve19  [Abnormal behavior, Decreased exploration in n...   \n",
       "1          Bbs5  [Abnormal bone structure, Abnormal gait, Abnor...   \n",
       "2          Lepr  [Abnormal bone structure, Abnormal gait, Abnor...   \n",
       "\n",
       "   effect_size  \n",
       "0     0.695784  \n",
       "1     1.902677  \n",
       "2          NaN  "
      ]
     },
     "execution_count": 32,
     "metadata": {},
     "output_type": "execute_result"
    }
   ],
   "source": [
    "# merge mp term\n",
    "df_marker1 = df_filtered[[\"marker1\"]]\n",
    "df_marker2 = df_filtered[[\"marker2\"]]\n",
    "df_node_marker1 = pd.merge(df_marker1, df_marker_effect, left_on='marker1', right_on='marker_symbol', how='inner')[[\"marker_symbol\"]]\n",
    "df_node_marker2 = pd.merge(df_marker2, df_marker_effect, left_on='marker2', right_on='marker_symbol', how='inner')[[\"marker_symbol\"]]\n",
    "\n",
    "df_node = pd.concat([df_node_marker1, df_node_marker2], axis=0).drop_duplicates()\n",
    "\n",
    "import pickle\n",
    "marker_mp = pickle.load(open(\"data/marker_mp.pkl\", \"rb\"))\n",
    "marker_mp = pd.DataFrame(marker_mp.items(), columns=[\"marker_symbol\", \"mp_term\"])\n",
    "\n",
    "df_node = pd.merge(df_node, marker_mp, how='inner', on='marker_symbol')\n",
    "df_node = pd.merge(df_node, df_marker_effect, how='inner', on='marker_symbol')\n",
    "\n",
    "df_node[:3]\n"
   ]
  },
  {
   "cell_type": "code",
   "execution_count": 33,
   "metadata": {},
   "outputs": [
    {
     "name": "stdout",
     "output_type": "stream",
     "text": [
      "[{'data': {'id': 'Zfyve19', 'label': 'Zfyve19', 'annotation': ['Abnormal behavior', 'Decreased exploration in new environment', 'Decreased thigmotaxis', 'Increased circulating glucose level'], 'node_color': 0.695783774710263}}, {'data': {'id': 'Bbs5', 'label': 'Bbs5', 'annotation': ['Abnormal bone structure', 'Abnormal gait', 'Abnormal retina morphology', 'Decreased bone mineral content', 'Decreased bone mineral density', 'Decreased circulating triglyceride level', 'Decreased grip strength', 'Decreased heart weight', 'Decreased lean body mass', 'Decreased respiratory quotient', 'Impaired glucose tolerance', 'Increased circulating alanine transaminase level', 'Increased circulating alkaline phosphatase level', 'Increased circulating aspartate transaminase level', 'Increased circulating glucose level', 'Increased fasting circulating glucose level', 'Increased hematocrit', 'Increased hemoglobin content', 'Increased leukocyte cell number', 'Increased lymphocyte cell number', 'Increased mean corpuscular volume', 'Increased monocyte cell number', 'Increased total body fat amount', 'Short tibia', 'Tremors'], 'node_color': 1.90267688381064}}, {'data': {'id': 'Lepr', 'label': 'Lepr', 'annotation': ['Abnormal bone structure', 'Abnormal gait', 'Abnormal locomotor behavior', 'Decreased bone mineral content', 'Decreased bone mineral density', 'Decreased circulating chloride level', 'Decreased exploration in new environment', 'Decreased heart weight', 'Decreased lean body mass', 'Decreased leukocyte cell number', 'Decreased locomotor activity', 'Decreased lymphocyte cell number', 'Decreased spleen weight', 'Enlarged liver', 'Female infertility', 'Impaired righting response', 'Increased anxiety-related response', 'Increased circulating alanine transaminase level', 'Increased circulating alkaline phosphatase level', 'Increased circulating aspartate transaminase level', 'Increased circulating calcium level', 'Increased circulating cholesterol level', 'Increased circulating fructosamine level', 'Increased circulating glucose level', 'Increased circulating hdl cholesterol level', 'Increased circulating iron level', 'Increased circulating phosphate level', 'Increased circulating potassium level', 'Increased circulating serum albumin level', 'Increased circulating total protein level', 'Increased circulating triglyceride level', 'Increased eosinophil cell number', 'Increased hematocrit', 'Increased hemoglobin content', 'Increased mean corpuscular volume', 'Increased monocyte cell number', 'Increased neutrophil cell number', 'Increased red blood cell distribution width', 'Increased total body fat amount', 'Limb grasping', 'Male infertility', 'Small seminal vesicle', 'Tremors', 'Trunk curl'], 'node_color': nan}}]\n"
     ]
    }
   ],
   "source": [
    "# JSON形式に変換\n",
    "node_json = []\n",
    "for _, row in df_node.iterrows():\n",
    "    node_json.append({\n",
    "        \"data\": {\n",
    "            \"id\": row['marker_symbol'],\n",
    "            \"label\": row['marker_symbol'],\n",
    "            \"annotation\": row['mp_term'],\n",
    "            \"node_color\": row['effect_size']\n",
    "        }\n",
    "    })\n",
    "\n",
    "print(node_json[:3])"
   ]
  },
  {
   "cell_type": "markdown",
   "metadata": {},
   "source": [
    "### Edge を作成する\n"
   ]
  },
  {
   "cell_type": "code",
   "execution_count": 34,
   "metadata": {},
   "outputs": [
    {
     "name": "stdout",
     "output_type": "stream",
     "text": [
      "85\n"
     ]
    },
    {
     "data": {
      "text/html": [
       "<div>\n",
       "<style scoped>\n",
       "    .dataframe tbody tr th:only-of-type {\n",
       "        vertical-align: middle;\n",
       "    }\n",
       "\n",
       "    .dataframe tbody tr th {\n",
       "        vertical-align: top;\n",
       "    }\n",
       "\n",
       "    .dataframe thead th {\n",
       "        text-align: right;\n",
       "    }\n",
       "</style>\n",
       "<table border=\"1\" class=\"dataframe\">\n",
       "  <thead>\n",
       "    <tr style=\"text-align: right;\">\n",
       "      <th></th>\n",
       "      <th>marker1</th>\n",
       "      <th>marker2</th>\n",
       "      <th>overlap_ratio</th>\n",
       "      <th>overlapped_mp</th>\n",
       "    </tr>\n",
       "  </thead>\n",
       "  <tbody>\n",
       "    <tr>\n",
       "      <th>1033</th>\n",
       "      <td>Zfyve19</td>\n",
       "      <td>Rnf10</td>\n",
       "      <td>0.074</td>\n",
       "      <td>[Abnormal behavior, Decreased exploration in n...</td>\n",
       "    </tr>\n",
       "    <tr>\n",
       "      <th>1035</th>\n",
       "      <td>Zfyve19</td>\n",
       "      <td>Ky</td>\n",
       "      <td>0.333</td>\n",
       "      <td>[Abnormal behavior, Decreased exploration in n...</td>\n",
       "    </tr>\n",
       "    <tr>\n",
       "      <th>8428</th>\n",
       "      <td>Bbs5</td>\n",
       "      <td>Lepr</td>\n",
       "      <td>0.260</td>\n",
       "      <td>[Abnormal bone structure, Abnormal gait, Decre...</td>\n",
       "    </tr>\n",
       "  </tbody>\n",
       "</table>\n",
       "</div>"
      ],
      "text/plain": [
       "      marker1 marker2  overlap_ratio  \\\n",
       "1033  Zfyve19   Rnf10          0.074   \n",
       "1035  Zfyve19      Ky          0.333   \n",
       "8428     Bbs5    Lepr          0.260   \n",
       "\n",
       "                                          overlapped_mp  \n",
       "1033  [Abnormal behavior, Decreased exploration in n...  \n",
       "1035  [Abnormal behavior, Decreased exploration in n...  \n",
       "8428  [Abnormal bone structure, Abnormal gait, Decre...  "
      ]
     },
     "execution_count": 34,
     "metadata": {},
     "output_type": "execute_result"
    }
   ],
   "source": [
    "df_edge = df_filtered[[\"marker1\", \"marker2\", \"overlap_ratio\", \"overlapped_mp\"]]\n",
    "print(len(df_edge))\n",
    "df_edge.head(3)"
   ]
  },
  {
   "cell_type": "code",
   "execution_count": 35,
   "metadata": {},
   "outputs": [
    {
     "name": "stdout",
     "output_type": "stream",
     "text": [
      "[{'data': {'source': 'Zfyve19', 'target': 'Rnf10', 'annotation': ['Abnormal behavior', 'Decreased exploration in new environment', 'Decreased thigmotaxis', 'Increased circulating glucose level'], 'edge_size': 0.074}}, {'data': {'source': 'Zfyve19', 'target': 'Ky', 'annotation': ['Abnormal behavior', 'Decreased exploration in new environment', 'Increased circulating glucose level'], 'edge_size': 0.333}}, {'data': {'source': 'Bbs5', 'target': 'Lepr', 'annotation': ['Abnormal bone structure', 'Abnormal gait', 'Decreased bone mineral content', 'Decreased bone mineral density', 'Decreased heart weight', 'Decreased lean body mass', 'Increased circulating alanine transaminase level', 'Increased circulating alkaline phosphatase level', 'Increased circulating aspartate transaminase level', 'Increased hematocrit', 'Increased monocyte cell number', 'Increased total body fat amount', 'Tremors'], 'edge_size': 0.26}}]\n"
     ]
    }
   ],
   "source": [
    "# JSON形式に変換\n",
    "edge_json = []\n",
    "for _, row in df_edge.iterrows():\n",
    "    edge_json.append({\n",
    "        \"data\": {\n",
    "            \"source\": row['marker1'],\n",
    "            \"target\": row['marker2'],\n",
    "            \"annotation\": row['overlapped_mp'],\n",
    "            \"edge_size\": row['overlap_ratio']\n",
    "        }\n",
    "    })\n",
    "\n",
    "print(edge_json[:3])"
   ]
  },
  {
   "cell_type": "markdown",
   "metadata": {},
   "source": [
    "### Edge と Node を統合して、出力\n"
   ]
  },
  {
   "cell_type": "code",
   "execution_count": 36,
   "metadata": {},
   "outputs": [],
   "source": [
    "# Combine node and edge\n",
    "\n",
    "network_json = node_json + edge_json"
   ]
  },
  {
   "cell_type": "code",
   "execution_count": 37,
   "metadata": {},
   "outputs": [
    {
     "name": "stdout",
     "output_type": "stream",
     "text": [
      "120\n",
      "[{'data': {'id': 'Zfyve19', 'label': 'Zfyve19', 'annotation': ['Abnormal behavior', 'Decreased exploration in new environment', 'Decreased thigmotaxis', 'Increased circulating glucose level'], 'node_color': 0.695783774710263}}, {'data': {'id': 'Bbs5', 'label': 'Bbs5', 'annotation': ['Abnormal bone structure', 'Abnormal gait', 'Abnormal retina morphology', 'Decreased bone mineral content', 'Decreased bone mineral density', 'Decreased circulating triglyceride level', 'Decreased grip strength', 'Decreased heart weight', 'Decreased lean body mass', 'Decreased respiratory quotient', 'Impaired glucose tolerance', 'Increased circulating alanine transaminase level', 'Increased circulating alkaline phosphatase level', 'Increased circulating aspartate transaminase level', 'Increased circulating glucose level', 'Increased fasting circulating glucose level', 'Increased hematocrit', 'Increased hemoglobin content', 'Increased leukocyte cell number', 'Increased lymphocyte cell number', 'Increased mean corpuscular volume', 'Increased monocyte cell number', 'Increased total body fat amount', 'Short tibia', 'Tremors'], 'node_color': 1.90267688381064}}, {'data': {'id': 'Lepr', 'label': 'Lepr', 'annotation': ['Abnormal bone structure', 'Abnormal gait', 'Abnormal locomotor behavior', 'Decreased bone mineral content', 'Decreased bone mineral density', 'Decreased circulating chloride level', 'Decreased exploration in new environment', 'Decreased heart weight', 'Decreased lean body mass', 'Decreased leukocyte cell number', 'Decreased locomotor activity', 'Decreased lymphocyte cell number', 'Decreased spleen weight', 'Enlarged liver', 'Female infertility', 'Impaired righting response', 'Increased anxiety-related response', 'Increased circulating alanine transaminase level', 'Increased circulating alkaline phosphatase level', 'Increased circulating aspartate transaminase level', 'Increased circulating calcium level', 'Increased circulating cholesterol level', 'Increased circulating fructosamine level', 'Increased circulating glucose level', 'Increased circulating hdl cholesterol level', 'Increased circulating iron level', 'Increased circulating phosphate level', 'Increased circulating potassium level', 'Increased circulating serum albumin level', 'Increased circulating total protein level', 'Increased circulating triglyceride level', 'Increased eosinophil cell number', 'Increased hematocrit', 'Increased hemoglobin content', 'Increased mean corpuscular volume', 'Increased monocyte cell number', 'Increased neutrophil cell number', 'Increased red blood cell distribution width', 'Increased total body fat amount', 'Limb grasping', 'Male infertility', 'Small seminal vesicle', 'Tremors', 'Trunk curl'], 'node_color': nan}}]\n",
      "[{'data': {'source': 'Znhit2', 'target': 'Gcn1', 'annotation': ['Decreased circulating bilirubin level', 'Increased circulating glucose level', 'Preweaning lethality, complete penetrance'], 'edge_size': 0.6}}, {'data': {'source': 'Znhit2', 'target': 'Thap12', 'annotation': ['Decreased circulating bilirubin level', 'Increased circulating glucose level', 'Preweaning lethality, complete penetrance'], 'edge_size': 0.6}}, {'data': {'source': 'Gcn1', 'target': 'Thap12', 'annotation': ['Decreased circulating bilirubin level', 'Increased circulating glucose level', 'Preweaning lethality, complete penetrance'], 'edge_size': 1.0}}]\n"
     ]
    }
   ],
   "source": [
    "print(len(network_json))\n",
    "print(network_json[:3])\n",
    "print(network_json[-3:])"
   ]
  },
  {
   "cell_type": "code",
   "execution_count": 25,
   "metadata": {},
   "outputs": [],
   "source": [
    "# Output as JSON file\n",
    "Path(\"data/network\").mkdir(exist_ok=True, parents=True)\n",
    "with open(f\"data/network/{mp_term}.json\", \"w\") as f:\n",
    "    json.dump(network_json, f, indent=2)"
   ]
  },
  {
   "cell_type": "code",
   "execution_count": null,
   "metadata": {},
   "outputs": [],
   "source": []
  },
  {
   "cell_type": "markdown",
   "metadata": {},
   "source": [
    "# 一括処理\n"
   ]
  },
  {
   "cell_type": "code",
   "execution_count": 14,
   "metadata": {},
   "outputs": [
    {
     "data": {
      "text/html": [
       "<div>\n",
       "<style scoped>\n",
       "    .dataframe tbody tr th:only-of-type {\n",
       "        vertical-align: middle;\n",
       "    }\n",
       "\n",
       "    .dataframe tbody tr th {\n",
       "        vertical-align: top;\n",
       "    }\n",
       "\n",
       "    .dataframe thead th {\n",
       "        text-align: right;\n",
       "    }\n",
       "</style>\n",
       "<table border=\"1\" class=\"dataframe\">\n",
       "  <thead>\n",
       "    <tr style=\"text-align: right;\">\n",
       "      <th></th>\n",
       "      <th>marker1</th>\n",
       "      <th>marker2</th>\n",
       "      <th>overlap_ratio</th>\n",
       "      <th>overlapped_mp_number</th>\n",
       "      <th>overlapped_mp</th>\n",
       "    </tr>\n",
       "  </thead>\n",
       "  <tbody>\n",
       "    <tr>\n",
       "      <th>0</th>\n",
       "      <td>Rhd</td>\n",
       "      <td>Ap4e1</td>\n",
       "      <td>0.071</td>\n",
       "      <td>5</td>\n",
       "      <td>[decreased circulating free fatty acids level,...</td>\n",
       "    </tr>\n",
       "    <tr>\n",
       "      <th>1</th>\n",
       "      <td>Rhd</td>\n",
       "      <td>Asxl1</td>\n",
       "      <td>0.136</td>\n",
       "      <td>3</td>\n",
       "      <td>[decreased hemoglobin content, decreased mean ...</td>\n",
       "    </tr>\n",
       "    <tr>\n",
       "      <th>2</th>\n",
       "      <td>Rhd</td>\n",
       "      <td>Abcg8</td>\n",
       "      <td>0.091</td>\n",
       "      <td>4</td>\n",
       "      <td>[decreased hemoglobin content, decreased mean ...</td>\n",
       "    </tr>\n",
       "    <tr>\n",
       "      <th>3</th>\n",
       "      <td>Rhd</td>\n",
       "      <td>Myl12b</td>\n",
       "      <td>0.167</td>\n",
       "      <td>3</td>\n",
       "      <td>[decreased hemoglobin content, decreased mean ...</td>\n",
       "    </tr>\n",
       "    <tr>\n",
       "      <th>4</th>\n",
       "      <td>Rhd</td>\n",
       "      <td>Mysm1</td>\n",
       "      <td>0.042</td>\n",
       "      <td>3</td>\n",
       "      <td>[decreased circulating HDL cholesterol level, ...</td>\n",
       "    </tr>\n",
       "    <tr>\n",
       "      <th>...</th>\n",
       "      <td>...</td>\n",
       "      <td>...</td>\n",
       "      <td>...</td>\n",
       "      <td>...</td>\n",
       "      <td>...</td>\n",
       "    </tr>\n",
       "    <tr>\n",
       "      <th>184245</th>\n",
       "      <td>Stx18</td>\n",
       "      <td>Pola2</td>\n",
       "      <td>0.750</td>\n",
       "      <td>3</td>\n",
       "      <td>[embryonic lethality prior to organogenesis, e...</td>\n",
       "    </tr>\n",
       "    <tr>\n",
       "      <th>184246</th>\n",
       "      <td>Ctr9</td>\n",
       "      <td>Dusp12</td>\n",
       "      <td>0.600</td>\n",
       "      <td>3</td>\n",
       "      <td>[embryonic lethality prior to organogenesis, p...</td>\n",
       "    </tr>\n",
       "    <tr>\n",
       "      <th>184247</th>\n",
       "      <td>Aif1l</td>\n",
       "      <td>Nfil3</td>\n",
       "      <td>0.250</td>\n",
       "      <td>3</td>\n",
       "      <td>[enlarged spleen, increased spleen weight, sma...</td>\n",
       "    </tr>\n",
       "    <tr>\n",
       "      <th>184248</th>\n",
       "      <td>Gmnn</td>\n",
       "      <td>Rab35</td>\n",
       "      <td>1.000</td>\n",
       "      <td>3</td>\n",
       "      <td>[abnormal lens morphology, cataract, preweanin...</td>\n",
       "    </tr>\n",
       "    <tr>\n",
       "      <th>184249</th>\n",
       "      <td>Mrm2</td>\n",
       "      <td>Jtb</td>\n",
       "      <td>0.600</td>\n",
       "      <td>3</td>\n",
       "      <td>[abnormal retina blood vessel morphology, embr...</td>\n",
       "    </tr>\n",
       "  </tbody>\n",
       "</table>\n",
       "<p>184250 rows × 5 columns</p>\n",
       "</div>"
      ],
      "text/plain": [
       "       marker1 marker2  overlap_ratio  overlapped_mp_number  \\\n",
       "0          Rhd   Ap4e1          0.071                     5   \n",
       "1          Rhd   Asxl1          0.136                     3   \n",
       "2          Rhd   Abcg8          0.091                     4   \n",
       "3          Rhd  Myl12b          0.167                     3   \n",
       "4          Rhd   Mysm1          0.042                     3   \n",
       "...        ...     ...            ...                   ...   \n",
       "184245   Stx18   Pola2          0.750                     3   \n",
       "184246    Ctr9  Dusp12          0.600                     3   \n",
       "184247   Aif1l   Nfil3          0.250                     3   \n",
       "184248    Gmnn   Rab35          1.000                     3   \n",
       "184249    Mrm2     Jtb          0.600                     3   \n",
       "\n",
       "                                            overlapped_mp  \n",
       "0       [decreased circulating free fatty acids level,...  \n",
       "1       [decreased hemoglobin content, decreased mean ...  \n",
       "2       [decreased hemoglobin content, decreased mean ...  \n",
       "3       [decreased hemoglobin content, decreased mean ...  \n",
       "4       [decreased circulating HDL cholesterol level, ...  \n",
       "...                                                   ...  \n",
       "184245  [embryonic lethality prior to organogenesis, e...  \n",
       "184246  [embryonic lethality prior to organogenesis, p...  \n",
       "184247  [enlarged spleen, increased spleen weight, sma...  \n",
       "184248  [abnormal lens morphology, cataract, preweanin...  \n",
       "184249  [abnormal retina blood vessel morphology, embr...  \n",
       "\n",
       "[184250 rows x 5 columns]"
      ]
     },
     "execution_count": 14,
     "metadata": {},
     "output_type": "execute_result"
    }
   ],
   "source": [
    "overlap = pickle.load(open(\"data/overlapped_ratios_filtered.pkl\", \"rb\"))\n",
    "df_overlap = pd.DataFrame(overlap, columns=[\"marker1\", \"marker2\", \"overlap_ratio\", \"overlapped_mp_number\", \"overlapped_mp\"])\n",
    "df_overlap"
   ]
  },
  {
   "cell_type": "code",
   "execution_count": 15,
   "metadata": {},
   "outputs": [
    {
     "data": {
      "text/html": [
       "<div>\n",
       "<style scoped>\n",
       "    .dataframe tbody tr th:only-of-type {\n",
       "        vertical-align: middle;\n",
       "    }\n",
       "\n",
       "    .dataframe tbody tr th {\n",
       "        vertical-align: top;\n",
       "    }\n",
       "\n",
       "    .dataframe thead th {\n",
       "        text-align: right;\n",
       "    }\n",
       "</style>\n",
       "<table border=\"1\" class=\"dataframe\">\n",
       "  <thead>\n",
       "    <tr style=\"text-align: right;\">\n",
       "      <th></th>\n",
       "      <th>marker_symbol</th>\n",
       "      <th>mp_term</th>\n",
       "    </tr>\n",
       "  </thead>\n",
       "  <tbody>\n",
       "    <tr>\n",
       "      <th>0</th>\n",
       "      <td>Rhd</td>\n",
       "      <td>[abnormal skin condition, decreased circulatin...</td>\n",
       "    </tr>\n",
       "    <tr>\n",
       "      <th>1</th>\n",
       "      <td>Dpf2</td>\n",
       "      <td>[abnormal craniofacial morphology, abnormal em...</td>\n",
       "    </tr>\n",
       "    <tr>\n",
       "      <th>2</th>\n",
       "      <td>Gna13</td>\n",
       "      <td>[abnormal embryo size, abnormal visceral yolk ...</td>\n",
       "    </tr>\n",
       "    <tr>\n",
       "      <th>3</th>\n",
       "      <td>Dynlrb2</td>\n",
       "      <td>[decreased total body fat amount, increased ci...</td>\n",
       "    </tr>\n",
       "    <tr>\n",
       "      <th>4</th>\n",
       "      <td>Slc16a2</td>\n",
       "      <td>[decreased circulating HDL cholesterol level, ...</td>\n",
       "    </tr>\n",
       "    <tr>\n",
       "      <th>...</th>\n",
       "      <td>...</td>\n",
       "      <td>...</td>\n",
       "    </tr>\n",
       "    <tr>\n",
       "      <th>7621</th>\n",
       "      <td>Amigo3</td>\n",
       "      <td>[enlarged heart]</td>\n",
       "    </tr>\n",
       "    <tr>\n",
       "      <th>7622</th>\n",
       "      <td>Sec1</td>\n",
       "      <td>[increased heart weight]</td>\n",
       "    </tr>\n",
       "    <tr>\n",
       "      <th>7623</th>\n",
       "      <td>Slc23a3</td>\n",
       "      <td>[abnormal lung morphology]</td>\n",
       "    </tr>\n",
       "    <tr>\n",
       "      <th>7624</th>\n",
       "      <td>Agtr2</td>\n",
       "      <td>[decreased total body fat amount]</td>\n",
       "    </tr>\n",
       "    <tr>\n",
       "      <th>7625</th>\n",
       "      <td>Cfap20dc</td>\n",
       "      <td>[decreased heart weight]</td>\n",
       "    </tr>\n",
       "  </tbody>\n",
       "</table>\n",
       "<p>7626 rows × 2 columns</p>\n",
       "</div>"
      ],
      "text/plain": [
       "     marker_symbol                                            mp_term\n",
       "0              Rhd  [abnormal skin condition, decreased circulatin...\n",
       "1             Dpf2  [abnormal craniofacial morphology, abnormal em...\n",
       "2            Gna13  [abnormal embryo size, abnormal visceral yolk ...\n",
       "3          Dynlrb2  [decreased total body fat amount, increased ci...\n",
       "4          Slc16a2  [decreased circulating HDL cholesterol level, ...\n",
       "...            ...                                                ...\n",
       "7621        Amigo3                                   [enlarged heart]\n",
       "7622          Sec1                           [increased heart weight]\n",
       "7623       Slc23a3                         [abnormal lung morphology]\n",
       "7624         Agtr2                  [decreased total body fat amount]\n",
       "7625      Cfap20dc                           [decreased heart weight]\n",
       "\n",
       "[7626 rows x 2 columns]"
      ]
     },
     "execution_count": 15,
     "metadata": {},
     "output_type": "execute_result"
    }
   ],
   "source": [
    "marker_mp = pickle.load(open(\"data/marker_mp.pkl\", \"rb\"))\n",
    "marker_mp = pd.DataFrame(marker_mp.items(), columns=[\"marker_symbol\", \"mp_term\"])\n",
    "marker_mp"
   ]
  },
  {
   "cell_type": "code",
   "execution_count": 16,
   "metadata": {},
   "outputs": [
    {
     "name": "stdout",
     "output_type": "stream",
     "text": [
      "184250\n",
      "7626\n"
     ]
    }
   ],
   "source": [
    "print(len(df_overlap)) # 184250\n",
    "print(len(marker_mp)) # 7626"
   ]
  },
  {
   "cell_type": "code",
   "execution_count": 17,
   "metadata": {},
   "outputs": [],
   "source": [
    "import shutil\n",
    "# remove network directory\n",
    "if Path(\"data/network\").exists():\n",
    "    shutil.rmtree(\"data/network\")\n",
    "\n",
    "Path(\"data/network\").mkdir(exist_ok=True, parents=True)\n"
   ]
  },
  {
   "cell_type": "code",
   "execution_count": 18,
   "metadata": {},
   "outputs": [],
   "source": [
    "path_mp_terms = list(Path(\"data\", \"mp_term_name\").glob(\"*.csv\"))\n",
    "# print(path_mp_terms[:3])\n",
    "# print(len(path_mp_terms))\n",
    "# path_mp_term = Path(\"data\", \"mp_term_name\", \"decreased_circulating_glucose_level.csv\")\n",
    "\n",
    "for path_mp_term in path_mp_terms:\n",
    "    mp_term = path_mp_term.stem\n",
    "    # print(mp_term)\n",
    "\n",
    "    df_marker_effect = pd.read_csv(path_mp_term)\n",
    "    df_marker_effect = df_marker_effect[[\"marker_symbol\", \"effect_size\"]].drop_duplicates()\n",
    "    df_marker_effect = df_marker_effect.dropna(subset=[\"effect_size\"])\n",
    "\n",
    "    # Absolute value of effect size\n",
    "    df_marker_effect.loc[:, \"effect_size\"] = df_marker_effect[\"effect_size\"].abs()\n",
    "\n",
    "    df_filtered = df_overlap[\n",
    "        (df_overlap['marker1'].isin(df_marker_effect['marker_symbol'])) &\n",
    "        (df_overlap['marker2'].isin(df_marker_effect['marker_symbol']))\n",
    "    ]\n",
    "    ## 出力\n",
    "    ### Nodeを作成する\n",
    "    df_marker1 = df_filtered[[\"marker1\"]]\n",
    "    df_marker2 = df_filtered[[\"marker2\"]]\n",
    "    df_node_marker1 = pd.merge(df_marker1, df_marker_effect, left_on='marker1', right_on='marker_symbol', how='inner')[[\"marker_symbol\"]]\n",
    "    df_node_marker2 = pd.merge(df_marker2, df_marker_effect, left_on='marker2', right_on='marker_symbol', how='inner')[[\"marker_symbol\"]]\n",
    "\n",
    "    df_node = pd.concat([df_node_marker1, df_node_marker2], axis=0).drop_duplicates()\n",
    "\n",
    "\n",
    "    df_node = pd.merge(df_node, marker_mp, how='inner', on='marker_symbol')\n",
    "    df_node = pd.merge(df_node, df_marker_effect, how='inner', on='marker_symbol')\n",
    "\n",
    "\n",
    "    # NodeをJSON形式に変換\n",
    "    node_json = []\n",
    "    for _, row in df_node.iterrows():\n",
    "        node_json.append({\n",
    "            \"data\": {\n",
    "                \"id\": row['marker_symbol'],\n",
    "                \"label\": row['marker_symbol'],\n",
    "                \"annotation\": row['mp_term'],\n",
    "                \"node_color\": row['effect_size']\n",
    "            }\n",
    "        })\n",
    "\n",
    "    ### Edgeを作成する\n",
    "    df_edge = df_filtered[[\"marker1\", \"marker2\", \"overlap_ratio\", \"overlapped_mp\"]]\n",
    "    # EdgeをJSON形式に変換\n",
    "    edge_json = []\n",
    "    for _, row in df_edge.iterrows():\n",
    "        edge_json.append({\n",
    "            \"data\": {\n",
    "                \"source\": row['marker1'],\n",
    "                \"target\": row['marker2'],\n",
    "                \"annotation\": row['overlapped_mp'],\n",
    "                \"edge_size\": row['overlap_ratio']\n",
    "            }\n",
    "        })\n",
    "\n",
    "    ### EdgeとNodeを統合して、出力\n",
    "    # Combine node and edge\n",
    "\n",
    "    network_json = node_json + edge_json\n",
    "    # Output as JSON fil\n",
    "    if network_json:\n",
    "        with open(f\"data/network/{mp_term}.json\", \"w\") as f:\n",
    "            json.dump(network_json, f, indent=2)\n",
    "\n",
    "# 39.5 seconds"
   ]
  },
  {
   "cell_type": "markdown",
   "metadata": {},
   "source": [
    "# Debug\n"
   ]
  },
  {
   "cell_type": "code",
   "execution_count": 32,
   "metadata": {},
   "outputs": [
    {
     "data": {
      "text/html": [
       "<div>\n",
       "<style scoped>\n",
       "    .dataframe tbody tr th:only-of-type {\n",
       "        vertical-align: middle;\n",
       "    }\n",
       "\n",
       "    .dataframe tbody tr th {\n",
       "        vertical-align: top;\n",
       "    }\n",
       "\n",
       "    .dataframe thead th {\n",
       "        text-align: right;\n",
       "    }\n",
       "</style>\n",
       "<table border=\"1\" class=\"dataframe\">\n",
       "  <thead>\n",
       "    <tr style=\"text-align: right;\">\n",
       "      <th></th>\n",
       "      <th>marker_symbol</th>\n",
       "      <th>mp_term</th>\n",
       "    </tr>\n",
       "  </thead>\n",
       "  <tbody>\n",
       "    <tr>\n",
       "      <th>0</th>\n",
       "      <td>Dpf2</td>\n",
       "      <td>[Abnormal craniofacial morphology, Abnormal em...</td>\n",
       "    </tr>\n",
       "    <tr>\n",
       "      <th>1</th>\n",
       "      <td>Gna13</td>\n",
       "      <td>[Abnormal embryo size, Abnormal visceral yolk ...</td>\n",
       "    </tr>\n",
       "    <tr>\n",
       "      <th>2</th>\n",
       "      <td>Dynlrb2</td>\n",
       "      <td>[Increased fasting circulating glucose level, ...</td>\n",
       "    </tr>\n",
       "    <tr>\n",
       "      <th>3</th>\n",
       "      <td>Slc16a2</td>\n",
       "      <td>[Decreased circulating cholesterol level, Decr...</td>\n",
       "    </tr>\n",
       "    <tr>\n",
       "      <th>4</th>\n",
       "      <td>Galr1</td>\n",
       "      <td>[Decreased lymphocyte cell number, Enlarged sp...</td>\n",
       "    </tr>\n",
       "    <tr>\n",
       "      <th>...</th>\n",
       "      <td>...</td>\n",
       "      <td>...</td>\n",
       "    </tr>\n",
       "    <tr>\n",
       "      <th>7167</th>\n",
       "      <td>Adgrb1</td>\n",
       "      <td>[Increased circulating insulin level]</td>\n",
       "    </tr>\n",
       "    <tr>\n",
       "      <th>7168</th>\n",
       "      <td>Amigo3</td>\n",
       "      <td>[Enlarged heart]</td>\n",
       "    </tr>\n",
       "    <tr>\n",
       "      <th>7169</th>\n",
       "      <td>Hap1</td>\n",
       "      <td>[Preweaning lethality, complete penetrance]</td>\n",
       "    </tr>\n",
       "    <tr>\n",
       "      <th>7170</th>\n",
       "      <td>Slc23a3</td>\n",
       "      <td>[Abnormal lung morphology]</td>\n",
       "    </tr>\n",
       "    <tr>\n",
       "      <th>7171</th>\n",
       "      <td>Agtr2</td>\n",
       "      <td>[Decreased total body fat amount]</td>\n",
       "    </tr>\n",
       "  </tbody>\n",
       "</table>\n",
       "<p>7172 rows × 2 columns</p>\n",
       "</div>"
      ],
      "text/plain": [
       "     marker_symbol                                            mp_term\n",
       "0             Dpf2  [Abnormal craniofacial morphology, Abnormal em...\n",
       "1            Gna13  [Abnormal embryo size, Abnormal visceral yolk ...\n",
       "2          Dynlrb2  [Increased fasting circulating glucose level, ...\n",
       "3          Slc16a2  [Decreased circulating cholesterol level, Decr...\n",
       "4            Galr1  [Decreased lymphocyte cell number, Enlarged sp...\n",
       "...            ...                                                ...\n",
       "7167        Adgrb1              [Increased circulating insulin level]\n",
       "7168        Amigo3                                   [Enlarged heart]\n",
       "7169          Hap1        [Preweaning lethality, complete penetrance]\n",
       "7170       Slc23a3                         [Abnormal lung morphology]\n",
       "7171         Agtr2                  [Decreased total body fat amount]\n",
       "\n",
       "[7172 rows x 2 columns]"
      ]
     },
     "execution_count": 32,
     "metadata": {},
     "output_type": "execute_result"
    }
   ],
   "source": [
    "marker_mp"
   ]
  },
  {
   "cell_type": "code",
   "execution_count": 38,
   "metadata": {},
   "outputs": [
    {
     "name": "stdout",
     "output_type": "stream",
     "text": [
      "{'data': {'id': 'Lepr', 'label': 'Lepr', 'annotation': ['Abnormal bone structure', 'Abnormal gait', 'Abnormal locomotor behavior', 'Decreased bone mineral content', 'Decreased bone mineral density', 'Decreased circulating chloride level', 'Decreased exploration in new environment', 'Decreased heart weight', 'Decreased lean body mass', 'Decreased leukocyte cell number', 'Decreased locomotor activity', 'Decreased lymphocyte cell number', 'Decreased spleen weight', 'Enlarged liver', 'Female infertility', 'Impaired righting response', 'Increased anxiety-related response', 'Increased circulating alanine transaminase level', 'Increased circulating alkaline phosphatase level', 'Increased circulating aspartate transaminase level', 'Increased circulating calcium level', 'Increased circulating cholesterol level', 'Increased circulating fructosamine level', 'Increased circulating glucose level', 'Increased circulating hdl cholesterol level', 'Increased circulating iron level', 'Increased circulating phosphate level', 'Increased circulating potassium level', 'Increased circulating serum albumin level', 'Increased circulating total protein level', 'Increased circulating triglyceride level', 'Increased eosinophil cell number', 'Increased hematocrit', 'Increased hemoglobin content', 'Increased mean corpuscular volume', 'Increased monocyte cell number', 'Increased neutrophil cell number', 'Increased red blood cell distribution width', 'Increased total body fat amount', 'Limb grasping', 'Male infertility', 'Small seminal vesicle', 'Tremors', 'Trunk curl'], 'node_color': nan}}\n"
     ]
    }
   ],
   "source": [
    "for data in node_json:\n",
    "    if \"Lepr\" == data[\"data\"][\"id\"]:\n",
    "        print(data)"
   ]
  },
  {
   "cell_type": "code",
   "execution_count": 163,
   "metadata": {},
   "outputs": [
    {
     "name": "stdout",
     "output_type": "stream",
     "text": [
      "{'data': {'source': 'Camsap3', 'target': 'Herc1', 'annotation': ['abnormal auditory brainstem response', 'abnormal lens morphology', 'cataract', 'decreased bone mineral content', 'decreased bone mineral density', 'decreased lean body mass', 'increased leukocyte cell number', 'increased total body fat amount', 'male infertility'], 'edge_size': 0.31}}\n",
      "{'data': {'source': 'Prdm14', 'target': 'Herc1', 'annotation': ['decreased bone mineral content', 'decreased bone mineral density', 'decreased lean body mass', 'impaired glucose tolerance', 'increased total body fat amount', 'male infertility'], 'edge_size': 0.273}}\n",
      "{'data': {'source': 'Kash5', 'target': 'Herc1', 'annotation': ['decreased bone mineral content', 'decreased bone mineral density', 'decreased lean body mass', 'increased leukocyte cell number', 'increased total body fat amount', 'male infertility'], 'edge_size': 0.286}}\n",
      "{'data': {'source': 'Trim37', 'target': 'Herc1', 'annotation': ['abnormal auditory brainstem response', 'abnormal retina morphology', 'decreased bone mineral content', 'decreased bone mineral density', 'decreased lean body mass', 'increased fasting circulating glucose level', 'increased total body fat amount', 'male infertility'], 'edge_size': 0.32}}\n",
      "{'data': {'source': 'Stag3', 'target': 'Herc1', 'annotation': ['decreased bone mineral content', 'decreased bone mineral density', 'decreased lean body mass', 'increased fasting circulating glucose level', 'increased total body fat amount', 'male infertility'], 'edge_size': 0.273}}\n",
      "{'data': {'source': '4930447C04Rik', 'target': 'Herc1', 'annotation': ['decreased bone mineral content', 'decreased bone mineral density', 'decreased lean body mass', 'increased total body fat amount', 'male infertility'], 'edge_size': 0.263}}\n",
      "{'data': {'source': 'Herc1', 'target': 'Sms', 'annotation': ['decreased bone mineral density', 'decreased circulating glucose level', 'decreased lean body mass', 'increased circulating amylase level', 'increased circulating sodium level', 'male infertility'], 'edge_size': 0.286}}\n",
      "{'data': {'source': 'Herc1', 'target': 'Ythdc2', 'annotation': ['decreased bone mineral content', 'decreased bone mineral density', 'decreased lean body mass', 'increased total body fat amount', 'male infertility'], 'edge_size': 0.263}}\n",
      "{'data': {'source': 'Herc1', 'target': 'Ube2j1', 'annotation': ['decreased bone mineral content', 'decreased bone mineral density', 'decreased lean body mass', 'increased circulating amylase level', 'increased total body fat amount', 'male infertility'], 'edge_size': 0.3}}\n"
     ]
    }
   ],
   "source": [
    "for data in edge_json:\n",
    "    if \"Herc1\" == data[\"data\"][\"source\"]:\n",
    "        print(data)\n",
    "    if \"Herc1\" == data[\"data\"][\"target\"]:\n",
    "        print(data)"
   ]
  },
  {
   "cell_type": "code",
   "execution_count": 150,
   "metadata": {},
   "outputs": [
    {
     "name": "stdout",
     "output_type": "stream",
     "text": [
      "{'data': {'source': 'Vgf', 'target': 'Stoml2', 'annotation': ['decreased prepulse inhibition', 'increased circulating alanine transaminase level', 'increased circulating aspartate transaminase level', 'male infertility'], 'edge_size': 0.25}}\n",
      "{'data': {'source': 'Fbxo38', 'target': 'Stoml2', 'annotation': ['increased circulating alanine transaminase level', 'increased circulating aspartate transaminase level', 'male infertility'], 'edge_size': 0.214}}\n",
      "{'data': {'source': 'Stoml2', 'target': 'Clcn1', 'annotation': ['decreased prepulse inhibition', 'increased circulating aspartate transaminase level', 'increased circulating bilirubin level', 'male infertility'], 'edge_size': 0.182}}\n",
      "{'data': {'source': 'Stoml2', 'target': 'Lepr', 'annotation': ['increased circulating alanine transaminase level', 'increased circulating aspartate transaminase level', 'male infertility'], 'edge_size': 0.073}}\n",
      "{'data': {'source': 'Stoml2', 'target': 'Atp13a3', 'annotation': ['increased circulating alanine transaminase level', 'increased circulating aspartate transaminase level', 'increased circulating bilirubin level', 'male infertility'], 'edge_size': 0.167}}\n",
      "{'data': {'source': 'Stoml2', 'target': 'Fndc9', 'annotation': ['decreased prepulse inhibition', 'increased circulating bilirubin level', 'male infertility'], 'edge_size': 0.2}}\n",
      "{'data': {'source': 'Stoml2', 'target': 'Hddc3', 'annotation': ['increased circulating alanine transaminase level', 'increased circulating aspartate transaminase level', 'male infertility'], 'edge_size': 0.3}}\n",
      "{'data': {'source': 'Stoml2', 'target': 'Cpe', 'annotation': ['increased circulating alanine transaminase level', 'increased circulating aspartate transaminase level', 'male infertility'], 'edge_size': 0.136}}\n",
      "{'data': {'source': 'Stoml2', 'target': 'Prmt6', 'annotation': ['increased circulating alanine transaminase level', 'increased circulating aspartate transaminase level', 'male infertility'], 'edge_size': 0.333}}\n",
      "{'data': {'source': 'Stoml2', 'target': 'Clpp', 'annotation': ['increased circulating aspartate transaminase level', 'increased circulating bilirubin level', 'male infertility'], 'edge_size': 0.125}}\n"
     ]
    }
   ],
   "source": [
    "for data in edge_json:\n",
    "    if \"Stoml2\" == data[\"data\"][\"source\"]:\n",
    "        print(data)\n",
    "    if \"Stoml2\" == data[\"data\"][\"target\"]:\n",
    "        print(data)"
   ]
  },
  {
   "cell_type": "code",
   "execution_count": null,
   "metadata": {},
   "outputs": [],
   "source": []
  }
 ],
 "metadata": {
  "kernelspec": {
   "display_name": "base",
   "language": "python",
   "name": "python3"
  },
  "language_info": {
   "codemirror_mode": {
    "name": "ipython",
    "version": 3
   },
   "file_extension": ".py",
   "mimetype": "text/x-python",
   "name": "python",
   "nbconvert_exporter": "python",
   "pygments_lexer": "ipython3",
   "version": "3.10.14"
  }
 },
 "nbformat": 4,
 "nbformat_minor": 2
}
