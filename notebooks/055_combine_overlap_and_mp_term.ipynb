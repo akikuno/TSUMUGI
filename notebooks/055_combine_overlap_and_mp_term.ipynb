{
 "cells": [
  {
   "cell_type": "markdown",
   "metadata": {},
   "source": [
    "# Overlapとmp_term_nameの統合\n",
    "\n",
    "- 例：abnormal_circulating_glucose_level（連続値）\n",
    "- 例：male_infertility（カテゴリ値）"
   ]
  },
  {
   "cell_type": "code",
   "execution_count": 1,
   "metadata": {},
   "outputs": [
    {
     "data": {
      "text/plain": [
       "'/mnt/g/impc-genes_with_similar_phenotypes'"
      ]
     },
     "execution_count": 1,
     "metadata": {},
     "output_type": "execute_result"
    }
   ],
   "source": [
    "# Move up to top directory\n",
    "import os\n",
    "os.getcwd()\n",
    "os.chdir('../')\n",
    "os.getcwd()"
   ]
  },
  {
   "cell_type": "code",
   "execution_count": 164,
   "metadata": {},
   "outputs": [],
   "source": [
    "from pathlib import Path\n",
    "from collections import defaultdict\n",
    "from itertools import combinations\n",
    "import csv\n",
    "import pandas as pd\n",
    "from matplotlib import pyplot as plt\n",
    "import pickle\n",
    "import json"
   ]
  },
  {
   "cell_type": "code",
   "execution_count": 165,
   "metadata": {},
   "outputs": [
    {
     "name": "stdout",
     "output_type": "stream",
     "text": [
      "       marker1  marker2  overlap_ratio  overlapped_mp_number  \\\n",
      "0         Dpf2     Aff4          0.200                     4   \n",
      "1         Dpf2    Fgf15          0.333                     4   \n",
      "2         Dpf2  Col11a1          0.231                     3   \n",
      "3         Dpf2   Sptan1          0.154                     4   \n",
      "4         Dpf2      Nog          0.160                     4   \n",
      "...        ...      ...            ...                   ...   \n",
      "128944    Mcm4   Exosc8          1.000                     3   \n",
      "128945  Zfp407   Washc4          0.750                     3   \n",
      "128946    Gmnn    Rab35          1.000                     3   \n",
      "128947   Pola2   Exosc8          1.000                     3   \n",
      "128948    Mrm2      Jtb          0.600                     3   \n",
      "\n",
      "                                            overlapped_mp  \n",
      "0       [abnormal craniofacial morphology, abnormal ki...  \n",
      "1       [abnormal embryo size, abnormal heart morpholo...  \n",
      "2       [abnormal limb morphology, abnormal tail morph...  \n",
      "3       [abnormal craniofacial morphology, abnormal ki...  \n",
      "4       [abnormal heart morphology, abnormal kidney mo...  \n",
      "...                                                   ...  \n",
      "128944  [embryonic lethality prior to organogenesis, e...  \n",
      "128945  [embryonic lethality prior to organogenesis, h...  \n",
      "128946  [abnormal lens morphology, cataract, preweanin...  \n",
      "128947  [embryonic lethality prior to organogenesis, e...  \n",
      "128948  [abnormal retina blood vessel morphology, embr...  \n",
      "\n",
      "[128949 rows x 5 columns]\n"
     ]
    }
   ],
   "source": [
    "# path_overlap = Path(\"data\", \"overlap_ratios_filtered.csv\")\n",
    "# df_overlap = pd.read_csv(path_overlap)\n",
    "\n",
    "overlap = pickle.load(open(\"data/overlapeed_ratios_filtered.pkl\", \"rb\"))\n",
    "df_overlap = pd.DataFrame(overlap, columns=[\"marker1\", \"marker2\", \"overlap_ratio\", \"overlapped_mp_number\", \"overlapped_mp\"])\n",
    "print(df_overlap)"
   ]
  },
  {
   "cell_type": "code",
   "execution_count": 166,
   "metadata": {},
   "outputs": [],
   "source": [
    "# path_marker_effect = Path(\"data\", \"mp_term_name\", \"decreased_circulating_glucose_level.csv\")\n",
    "path_marker_effect = Path(\"data\", \"mp_term_name\", \"male_infertility.csv\")\n",
    "df_marker_effect = pd.read_csv(path_marker_effect)\n",
    "df_marker_effect = df_marker_effect[[\"marker_symbol\", \"effect_size\"]].drop_duplicates()\n"
   ]
  },
  {
   "cell_type": "code",
   "execution_count": 167,
   "metadata": {},
   "outputs": [
    {
     "name": "stdout",
     "output_type": "stream",
     "text": [
      "  marker1  marker2  overlap_ratio  overlapped_mp_number  \\\n",
      "0    Dpf2     Aff4          0.200                     4   \n",
      "1    Dpf2    Fgf15          0.333                     4   \n",
      "2    Dpf2  Col11a1          0.231                     3   \n",
      "\n",
      "                                       overlapped_mp  \n",
      "0  [abnormal craniofacial morphology, abnormal ki...  \n",
      "1  [abnormal embryo size, abnormal heart morpholo...  \n",
      "2  [abnormal limb morphology, abnormal tail morph...  \n",
      "318\n"
     ]
    },
    {
     "data": {
      "text/html": [
       "<div>\n",
       "<style scoped>\n",
       "    .dataframe tbody tr th:only-of-type {\n",
       "        vertical-align: middle;\n",
       "    }\n",
       "\n",
       "    .dataframe tbody tr th {\n",
       "        vertical-align: top;\n",
       "    }\n",
       "\n",
       "    .dataframe thead th {\n",
       "        text-align: right;\n",
       "    }\n",
       "</style>\n",
       "<table border=\"1\" class=\"dataframe\">\n",
       "  <thead>\n",
       "    <tr style=\"text-align: right;\">\n",
       "      <th></th>\n",
       "      <th>marker_symbol</th>\n",
       "      <th>effect_size</th>\n",
       "    </tr>\n",
       "  </thead>\n",
       "  <tbody>\n",
       "    <tr>\n",
       "      <th>0</th>\n",
       "      <td>Tex38</td>\n",
       "      <td>1</td>\n",
       "    </tr>\n",
       "    <tr>\n",
       "      <th>1</th>\n",
       "      <td>Pou2af3</td>\n",
       "      <td>1</td>\n",
       "    </tr>\n",
       "    <tr>\n",
       "      <th>2</th>\n",
       "      <td>Stoml2</td>\n",
       "      <td>1</td>\n",
       "    </tr>\n",
       "    <tr>\n",
       "      <th>3</th>\n",
       "      <td>Sbf1</td>\n",
       "      <td>1</td>\n",
       "    </tr>\n",
       "    <tr>\n",
       "      <th>4</th>\n",
       "      <td>Cyrib</td>\n",
       "      <td>1</td>\n",
       "    </tr>\n",
       "    <tr>\n",
       "      <th>...</th>\n",
       "      <td>...</td>\n",
       "      <td>...</td>\n",
       "    </tr>\n",
       "    <tr>\n",
       "      <th>320</th>\n",
       "      <td>Cep19</td>\n",
       "      <td>1</td>\n",
       "    </tr>\n",
       "    <tr>\n",
       "      <th>321</th>\n",
       "      <td>Bzw1</td>\n",
       "      <td>1</td>\n",
       "    </tr>\n",
       "    <tr>\n",
       "      <th>322</th>\n",
       "      <td>Septin10</td>\n",
       "      <td>1</td>\n",
       "    </tr>\n",
       "    <tr>\n",
       "      <th>323</th>\n",
       "      <td>Cfap57</td>\n",
       "      <td>1</td>\n",
       "    </tr>\n",
       "    <tr>\n",
       "      <th>324</th>\n",
       "      <td>Scube1</td>\n",
       "      <td>1</td>\n",
       "    </tr>\n",
       "  </tbody>\n",
       "</table>\n",
       "<p>318 rows × 2 columns</p>\n",
       "</div>"
      ],
      "text/plain": [
       "    marker_symbol  effect_size\n",
       "0           Tex38            1\n",
       "1         Pou2af3            1\n",
       "2          Stoml2            1\n",
       "3            Sbf1            1\n",
       "4           Cyrib            1\n",
       "..            ...          ...\n",
       "320         Cep19            1\n",
       "321          Bzw1            1\n",
       "322      Septin10            1\n",
       "323        Cfap57            1\n",
       "324        Scube1            1\n",
       "\n",
       "[318 rows x 2 columns]"
      ]
     },
     "execution_count": 167,
     "metadata": {},
     "output_type": "execute_result"
    }
   ],
   "source": [
    "print(df_overlap.head(3))\n",
    "\n",
    "print(len(df_marker_effect))\n",
    "\n",
    "df_marker_effect"
   ]
  },
  {
   "cell_type": "code",
   "execution_count": 168,
   "metadata": {},
   "outputs": [],
   "source": [
    "# print(df_mp[\"effect_size\"].describe())"
   ]
  },
  {
   "cell_type": "code",
   "execution_count": 169,
   "metadata": {},
   "outputs": [],
   "source": [
    "# Absolute value of effect size\n",
    "\n",
    "df_marker_effect.loc[:, \"effect_size\"] = df_marker_effect[\"effect_size\"].abs()"
   ]
  },
  {
   "cell_type": "code",
   "execution_count": 170,
   "metadata": {},
   "outputs": [],
   "source": [
    "# print(df_overlap[df_overlap[\"intersect_count\"] > 5 & df_overlap[\"overlap_ratio\"] > 0.5])"
   ]
  },
  {
   "cell_type": "code",
   "execution_count": 171,
   "metadata": {},
   "outputs": [],
   "source": [
    "# df_overlap_filterd = df_overlap[df_overlap[\"overlapped_mp_number\"] > 0]\n",
    "df_overlap_filterd = df_overlap[(df_overlap[\"overlap_ratio\"] > 0.25)]"
   ]
  },
  {
   "cell_type": "code",
   "execution_count": 172,
   "metadata": {},
   "outputs": [],
   "source": [
    "df_filtered = df_overlap_filterd[\n",
    "    (df_overlap_filterd['marker1'].isin(df_marker_effect['marker_symbol'])) &\n",
    "    (df_overlap_filterd['marker2'].isin(df_marker_effect['marker_symbol']))\n",
    "]"
   ]
  },
  {
   "cell_type": "code",
   "execution_count": 173,
   "metadata": {},
   "outputs": [
    {
     "name": "stdout",
     "output_type": "stream",
     "text": [
      "369\n"
     ]
    },
    {
     "data": {
      "text/html": [
       "<div>\n",
       "<style scoped>\n",
       "    .dataframe tbody tr th:only-of-type {\n",
       "        vertical-align: middle;\n",
       "    }\n",
       "\n",
       "    .dataframe tbody tr th {\n",
       "        vertical-align: top;\n",
       "    }\n",
       "\n",
       "    .dataframe thead th {\n",
       "        text-align: right;\n",
       "    }\n",
       "</style>\n",
       "<table border=\"1\" class=\"dataframe\">\n",
       "  <thead>\n",
       "    <tr style=\"text-align: right;\">\n",
       "      <th></th>\n",
       "      <th>marker1</th>\n",
       "      <th>marker2</th>\n",
       "      <th>overlap_ratio</th>\n",
       "      <th>overlapped_mp_number</th>\n",
       "      <th>overlapped_mp</th>\n",
       "    </tr>\n",
       "  </thead>\n",
       "  <tbody>\n",
       "    <tr>\n",
       "      <th>4356</th>\n",
       "      <td>Camsap3</td>\n",
       "      <td>Prdm14</td>\n",
       "      <td>0.280</td>\n",
       "      <td>7</td>\n",
       "      <td>[abnormal bone structure, decreased bone miner...</td>\n",
       "    </tr>\n",
       "    <tr>\n",
       "      <th>4371</th>\n",
       "      <td>Camsap3</td>\n",
       "      <td>Kash5</td>\n",
       "      <td>0.348</td>\n",
       "      <td>8</td>\n",
       "      <td>[abnormal bone structure, decreased bone miner...</td>\n",
       "    </tr>\n",
       "    <tr>\n",
       "      <th>4455</th>\n",
       "      <td>Camsap3</td>\n",
       "      <td>Trim37</td>\n",
       "      <td>0.276</td>\n",
       "      <td>8</td>\n",
       "      <td>[abnormal auditory brainstem response, abnorma...</td>\n",
       "    </tr>\n",
       "  </tbody>\n",
       "</table>\n",
       "</div>"
      ],
      "text/plain": [
       "      marker1 marker2  overlap_ratio  overlapped_mp_number  \\\n",
       "4356  Camsap3  Prdm14          0.280                     7   \n",
       "4371  Camsap3   Kash5          0.348                     8   \n",
       "4455  Camsap3  Trim37          0.276                     8   \n",
       "\n",
       "                                          overlapped_mp  \n",
       "4356  [abnormal bone structure, decreased bone miner...  \n",
       "4371  [abnormal bone structure, decreased bone miner...  \n",
       "4455  [abnormal auditory brainstem response, abnorma...  "
      ]
     },
     "execution_count": 173,
     "metadata": {},
     "output_type": "execute_result"
    }
   ],
   "source": [
    "\n",
    "print(len(df_filtered))\n",
    "\n",
    "df_filtered.head(3)"
   ]
  },
  {
   "cell_type": "markdown",
   "metadata": {},
   "source": [
    "### 出力"
   ]
  },
  {
   "cell_type": "code",
   "execution_count": 174,
   "metadata": {},
   "outputs": [
    {
     "name": "stdout",
     "output_type": "stream",
     "text": [
      "369\n",
      "      marker1 marker2  overlap_ratio  \\\n",
      "4356  Camsap3  Prdm14          0.280   \n",
      "4371  Camsap3   Kash5          0.348   \n",
      "4455  Camsap3  Trim37          0.276   \n",
      "\n",
      "                                          overlapped_mp  \n",
      "4356  [abnormal bone structure, decreased bone miner...  \n",
      "4371  [abnormal bone structure, decreased bone miner...  \n",
      "4455  [abnormal auditory brainstem response, abnorma...  \n"
     ]
    }
   ],
   "source": [
    "# Edge list\n",
    "\n",
    "df_edge = df_filtered[[\"marker1\", \"marker2\", \"overlap_ratio\", \"overlapped_mp\"]]\n",
    "print(len(df_edge))\n",
    "print(df_edge.head(3))\n"
   ]
  },
  {
   "cell_type": "code",
   "execution_count": 175,
   "metadata": {},
   "outputs": [
    {
     "name": "stdout",
     "output_type": "stream",
     "text": [
      "[{'data': {'source': 'Camsap3', 'target': 'Prdm14', 'annotation': ['abnormal bone structure', 'decreased bone mineral content', 'decreased bone mineral density', 'decreased lean body mass', 'female infertility', 'increased total body fat amount', 'male infertility'], 'edge_size': 0.28}}, {'data': {'source': 'Camsap3', 'target': 'Kash5', 'annotation': ['abnormal bone structure', 'decreased bone mineral content', 'decreased bone mineral density', 'decreased lean body mass', 'female infertility', 'increased leukocyte cell number', 'increased total body fat amount', 'male infertility'], 'edge_size': 0.348}}, {'data': {'source': 'Camsap3', 'target': 'Trim37', 'annotation': ['abnormal auditory brainstem response', 'abnormal bone structure', 'decreased bone mineral content', 'decreased bone mineral density', 'decreased lean body mass', 'female infertility', 'increased total body fat amount', 'male infertility'], 'edge_size': 0.276}}]\n"
     ]
    }
   ],
   "source": [
    "# JSON形式に変換\n",
    "edge_json = []\n",
    "for _, row in df_edge.iterrows():\n",
    "    edge_json.append({\n",
    "        \"data\": {\n",
    "            \"source\": row['marker1'],\n",
    "            \"target\": row['marker2'],\n",
    "            \"annotation\": row['overlapped_mp'],\n",
    "            \"edge_size\": row['overlap_ratio']\n",
    "        }\n",
    "    })\n",
    "\n",
    "print(edge_json[:3])"
   ]
  },
  {
   "cell_type": "code",
   "execution_count": 176,
   "metadata": {},
   "outputs": [
    {
     "name": "stdout",
     "output_type": "stream",
     "text": [
      "    marker_symbol\n",
      "0         Camsap3\n",
      "9          Dnmt3l\n",
      "16         Hectd3\n",
      "27         Celsr1\n",
      "28         Stoml2\n",
      "..            ...\n",
      "308        Tbc1d8\n",
      "315       Tbc1d20\n",
      "329        Rnf216\n",
      "344          Cib4\n",
      "359        Scube1\n",
      "\n",
      "[136 rows x 1 columns]\n",
      "    marker_symbol                                            mp_term\n",
      "0         Camsap3  [abnormal auditory brainstem response, abnorma...\n",
      "1          Dnmt3l  [female infertility, increased bone mineral de...\n",
      "2          Hectd3  [abnormal bone structure, decreased body lengt...\n",
      "3          Celsr1  [abnormal head morphology, abnormal retina mor...\n",
      "4          Stoml2  [decreased prepulse inhibition, increased circ...\n",
      "..            ...                                                ...\n",
      "131        Tbc1d8  [abnormal retina morphology, cataract, male in...\n",
      "132       Tbc1d20  [abnormal skin morphology, hemorrhage, male in...\n",
      "133        Rnf216  [decreased lymphocyte cell number, increased m...\n",
      "134          Cib4  [abnormal eye morphology, abnormal skin morpho...\n",
      "135        Scube1  [abnormal brain morphology, female infertility...\n",
      "\n",
      "[136 rows x 2 columns]\n"
     ]
    }
   ],
   "source": [
    "# Nodeの情報を作成\n",
    "# merge mp term\n",
    "df_marker1 = df_filtered[[\"marker1\"]]\n",
    "df_marker2 = df_filtered[[\"marker2\"]]\n",
    "df_node_marker1 = pd.merge(df_marker1, df_marker_effect, left_on='marker1', right_on='marker_symbol', how='inner')[[\"marker_symbol\"]]\n",
    "df_node_marker2 = pd.merge(df_marker2, df_marker_effect, left_on='marker2', right_on='marker_symbol', how='inner')[[\"marker_symbol\"]]\n",
    "\n",
    "df_node = pd.concat([df_node_marker1, df_node_marker2], axis=0).drop_duplicates()\n",
    "\n",
    "print(df_node)\n",
    "import pickle\n",
    "marker_mp = pickle.load(open(\"data/marker_mp.pkl\", \"rb\"))\n",
    "marker_mp = pd.DataFrame(marker_mp.items(), columns=[\"marker_symbol\", \"mp_term\"])\n",
    "\n",
    "df_node = pd.merge(df_node, marker_mp, how='inner', on='marker_symbol')\n",
    "print(df_node)\n",
    "\n",
    "df_node = pd.merge(df_node, df_marker_effect, how='inner', on='marker_symbol')"
   ]
  },
  {
   "cell_type": "code",
   "execution_count": 177,
   "metadata": {},
   "outputs": [
    {
     "name": "stdout",
     "output_type": "stream",
     "text": [
      "   marker_symbol                                            mp_term  \\\n",
      "73         Herc1  [abnormal auditory brainstem response, abnorma...   \n",
      "\n",
      "    effect_size  \n",
      "73            1  \n"
     ]
    }
   ],
   "source": [
    "# \"Herc1\"があるか？\n",
    "print(df_node[df_node[\"marker_symbol\"] == \"Herc1\"])"
   ]
  },
  {
   "cell_type": "code",
   "execution_count": 178,
   "metadata": {},
   "outputs": [
    {
     "name": "stdout",
     "output_type": "stream",
     "text": [
      "[{'data': {'id': 'Camsap3', 'label': 'Camsap3', 'annotation': ['abnormal auditory brainstem response', 'abnormal bone structure', 'abnormal cornea morphology', 'abnormal lens morphology', 'absent pinna reflex', 'cataract', 'corneal opacity', 'decreased blood urea nitrogen level', 'decreased body length', 'decreased bone mineral content', 'decreased bone mineral density', 'decreased circulating cholesterol level', 'decreased lean body mass', 'female infertility', 'fused cornea and lens', 'increased circulating alkaline phosphatase level', 'increased circulating thyroxine level', 'increased leukocyte cell number', 'increased total body fat amount', 'male infertility', 'trunk curl'], 'node_color': 1}}, {'data': {'id': 'Dnmt3l', 'label': 'Dnmt3l', 'annotation': ['female infertility', 'increased bone mineral density', 'increased mean corpuscular hemoglobin', 'male infertility', 'small testis'], 'node_color': 1}}, {'data': {'id': 'Hectd3', 'label': 'Hectd3', 'annotation': ['abnormal bone structure', 'decreased body length', 'decreased bone mineral content', 'decreased bone mineral density', 'decreased brain size', 'decreased grip strength', 'female infertility', 'increased cardiac muscle contractility', 'increased total body fat amount', 'male infertility', 'small heart', 'small liver', 'small lung', 'small spleen', 'small stomach', 'small thymus'], 'node_color': 1}}]\n"
     ]
    }
   ],
   "source": [
    "# JSON形式に変換\n",
    "node_json = []\n",
    "for _, row in df_node.iterrows():\n",
    "    node_json.append({\n",
    "        \"data\": {\n",
    "            \"id\": row['marker_symbol'],\n",
    "            \"label\": row['marker_symbol'],\n",
    "            \"annotation\": row['mp_term'],\n",
    "            \"node_color\": row['effect_size']\n",
    "        }\n",
    "    })\n",
    "\n",
    "print(node_json[:3])"
   ]
  },
  {
   "cell_type": "code",
   "execution_count": 179,
   "metadata": {},
   "outputs": [],
   "source": [
    "# Combine node and edge\n",
    "\n",
    "network_json = node_json + edge_json"
   ]
  },
  {
   "cell_type": "code",
   "execution_count": 180,
   "metadata": {},
   "outputs": [
    {
     "name": "stdout",
     "output_type": "stream",
     "text": [
      "505\n",
      "[{'data': {'id': 'Camsap3', 'label': 'Camsap3', 'annotation': ['abnormal auditory brainstem response', 'abnormal bone structure', 'abnormal cornea morphology', 'abnormal lens morphology', 'absent pinna reflex', 'cataract', 'corneal opacity', 'decreased blood urea nitrogen level', 'decreased body length', 'decreased bone mineral content', 'decreased bone mineral density', 'decreased circulating cholesterol level', 'decreased lean body mass', 'female infertility', 'fused cornea and lens', 'increased circulating alkaline phosphatase level', 'increased circulating thyroxine level', 'increased leukocyte cell number', 'increased total body fat amount', 'male infertility', 'trunk curl'], 'node_color': 1}}, {'data': {'id': 'Dnmt3l', 'label': 'Dnmt3l', 'annotation': ['female infertility', 'increased bone mineral density', 'increased mean corpuscular hemoglobin', 'male infertility', 'small testis'], 'node_color': 1}}, {'data': {'id': 'Hectd3', 'label': 'Hectd3', 'annotation': ['abnormal bone structure', 'decreased body length', 'decreased bone mineral content', 'decreased bone mineral density', 'decreased brain size', 'decreased grip strength', 'female infertility', 'increased cardiac muscle contractility', 'increased total body fat amount', 'male infertility', 'small heart', 'small liver', 'small lung', 'small spleen', 'small stomach', 'small thymus'], 'node_color': 1}}]\n",
      "[{'data': {'source': 'Pgap6', 'target': 'Gas2l1', 'annotation': ['abnormal skin morphology', 'male infertility', 'small testis'], 'edge_size': 0.75}}, {'data': {'source': 'Pramel13', 'target': 'Gas2l1', 'annotation': ['abnormal skin morphology', 'male infertility', 'small testis'], 'edge_size': 0.5}}, {'data': {'source': 'Pramel13', 'target': 'Tulp2', 'annotation': ['abnormal vitreous body morphology', 'cataract', 'male infertility'], 'edge_size': 0.6}}]\n"
     ]
    }
   ],
   "source": [
    "print(len(network_json))\n",
    "print(network_json[:3])\n",
    "print(network_json[-3:])"
   ]
  },
  {
   "cell_type": "code",
   "execution_count": 181,
   "metadata": {},
   "outputs": [],
   "source": [
    "# Output as JSON file\n",
    "\n",
    "with open(\"data/network.json\", \"w\") as f:\n",
    "    json.dump(network_json, f, indent=2)"
   ]
  },
  {
   "cell_type": "markdown",
   "metadata": {},
   "source": [
    "# Debug"
   ]
  },
  {
   "cell_type": "code",
   "execution_count": 162,
   "metadata": {},
   "outputs": [
    {
     "name": "stdout",
     "output_type": "stream",
     "text": [
      "{'data': {'id': 'Herc1', 'label': 'Herc1', 'annotation': ['abnormal auditory brainstem response', 'increased circulating sodium level', 'impaired glucose tolerance', 'abnormal retina morphology', 'cataract', 'increased circulating chloride level', 'male infertility', 'decreased bone mineral content', 'increased leukocyte cell number', 'increased total body fat amount', 'decreased bone mineral density', 'decreased lean body mass', 'increased red blood cell distribution width', 'abnormal lens morphology', 'increased fasting circulating glucose level', 'increased circulating amylase level', 'decreased circulating glucose level'], 'node_color': 1}}\n"
     ]
    }
   ],
   "source": [
    "for data in node_json:\n",
    "    if \"Herc1\" == data[\"data\"][\"id\"]:\n",
    "        print(data)"
   ]
  },
  {
   "cell_type": "code",
   "execution_count": 163,
   "metadata": {},
   "outputs": [
    {
     "name": "stdout",
     "output_type": "stream",
     "text": [
      "{'data': {'source': 'Camsap3', 'target': 'Herc1', 'annotation': ['abnormal auditory brainstem response', 'abnormal lens morphology', 'cataract', 'decreased bone mineral content', 'decreased bone mineral density', 'decreased lean body mass', 'increased leukocyte cell number', 'increased total body fat amount', 'male infertility'], 'edge_size': 0.31}}\n",
      "{'data': {'source': 'Prdm14', 'target': 'Herc1', 'annotation': ['decreased bone mineral content', 'decreased bone mineral density', 'decreased lean body mass', 'impaired glucose tolerance', 'increased total body fat amount', 'male infertility'], 'edge_size': 0.273}}\n",
      "{'data': {'source': 'Kash5', 'target': 'Herc1', 'annotation': ['decreased bone mineral content', 'decreased bone mineral density', 'decreased lean body mass', 'increased leukocyte cell number', 'increased total body fat amount', 'male infertility'], 'edge_size': 0.286}}\n",
      "{'data': {'source': 'Trim37', 'target': 'Herc1', 'annotation': ['abnormal auditory brainstem response', 'abnormal retina morphology', 'decreased bone mineral content', 'decreased bone mineral density', 'decreased lean body mass', 'increased fasting circulating glucose level', 'increased total body fat amount', 'male infertility'], 'edge_size': 0.32}}\n",
      "{'data': {'source': 'Stag3', 'target': 'Herc1', 'annotation': ['decreased bone mineral content', 'decreased bone mineral density', 'decreased lean body mass', 'increased fasting circulating glucose level', 'increased total body fat amount', 'male infertility'], 'edge_size': 0.273}}\n",
      "{'data': {'source': '4930447C04Rik', 'target': 'Herc1', 'annotation': ['decreased bone mineral content', 'decreased bone mineral density', 'decreased lean body mass', 'increased total body fat amount', 'male infertility'], 'edge_size': 0.263}}\n",
      "{'data': {'source': 'Herc1', 'target': 'Sms', 'annotation': ['decreased bone mineral density', 'decreased circulating glucose level', 'decreased lean body mass', 'increased circulating amylase level', 'increased circulating sodium level', 'male infertility'], 'edge_size': 0.286}}\n",
      "{'data': {'source': 'Herc1', 'target': 'Ythdc2', 'annotation': ['decreased bone mineral content', 'decreased bone mineral density', 'decreased lean body mass', 'increased total body fat amount', 'male infertility'], 'edge_size': 0.263}}\n",
      "{'data': {'source': 'Herc1', 'target': 'Ube2j1', 'annotation': ['decreased bone mineral content', 'decreased bone mineral density', 'decreased lean body mass', 'increased circulating amylase level', 'increased total body fat amount', 'male infertility'], 'edge_size': 0.3}}\n"
     ]
    }
   ],
   "source": [
    "for data in edge_json:\n",
    "    if \"Herc1\" == data[\"data\"][\"source\"]:\n",
    "        print(data)\n",
    "    if \"Herc1\" == data[\"data\"][\"target\"]:\n",
    "        print(data)"
   ]
  },
  {
   "cell_type": "code",
   "execution_count": 150,
   "metadata": {},
   "outputs": [
    {
     "name": "stdout",
     "output_type": "stream",
     "text": [
      "{'data': {'source': 'Vgf', 'target': 'Stoml2', 'annotation': ['decreased prepulse inhibition', 'increased circulating alanine transaminase level', 'increased circulating aspartate transaminase level', 'male infertility'], 'edge_size': 0.25}}\n",
      "{'data': {'source': 'Fbxo38', 'target': 'Stoml2', 'annotation': ['increased circulating alanine transaminase level', 'increased circulating aspartate transaminase level', 'male infertility'], 'edge_size': 0.214}}\n",
      "{'data': {'source': 'Stoml2', 'target': 'Clcn1', 'annotation': ['decreased prepulse inhibition', 'increased circulating aspartate transaminase level', 'increased circulating bilirubin level', 'male infertility'], 'edge_size': 0.182}}\n",
      "{'data': {'source': 'Stoml2', 'target': 'Lepr', 'annotation': ['increased circulating alanine transaminase level', 'increased circulating aspartate transaminase level', 'male infertility'], 'edge_size': 0.073}}\n",
      "{'data': {'source': 'Stoml2', 'target': 'Atp13a3', 'annotation': ['increased circulating alanine transaminase level', 'increased circulating aspartate transaminase level', 'increased circulating bilirubin level', 'male infertility'], 'edge_size': 0.167}}\n",
      "{'data': {'source': 'Stoml2', 'target': 'Fndc9', 'annotation': ['decreased prepulse inhibition', 'increased circulating bilirubin level', 'male infertility'], 'edge_size': 0.2}}\n",
      "{'data': {'source': 'Stoml2', 'target': 'Hddc3', 'annotation': ['increased circulating alanine transaminase level', 'increased circulating aspartate transaminase level', 'male infertility'], 'edge_size': 0.3}}\n",
      "{'data': {'source': 'Stoml2', 'target': 'Cpe', 'annotation': ['increased circulating alanine transaminase level', 'increased circulating aspartate transaminase level', 'male infertility'], 'edge_size': 0.136}}\n",
      "{'data': {'source': 'Stoml2', 'target': 'Prmt6', 'annotation': ['increased circulating alanine transaminase level', 'increased circulating aspartate transaminase level', 'male infertility'], 'edge_size': 0.333}}\n",
      "{'data': {'source': 'Stoml2', 'target': 'Clpp', 'annotation': ['increased circulating aspartate transaminase level', 'increased circulating bilirubin level', 'male infertility'], 'edge_size': 0.125}}\n"
     ]
    }
   ],
   "source": [
    "for data in edge_json:\n",
    "    if \"Stoml2\" == data[\"data\"][\"source\"]:\n",
    "        print(data)\n",
    "    if \"Stoml2\" == data[\"data\"][\"target\"]:\n",
    "        print(data)"
   ]
  },
  {
   "cell_type": "code",
   "execution_count": null,
   "metadata": {},
   "outputs": [],
   "source": []
  }
 ],
 "metadata": {
  "kernelspec": {
   "display_name": "base",
   "language": "python",
   "name": "python3"
  },
  "language_info": {
   "codemirror_mode": {
    "name": "ipython",
    "version": 3
   },
   "file_extension": ".py",
   "mimetype": "text/x-python",
   "name": "python",
   "nbconvert_exporter": "python",
   "pygments_lexer": "ipython3",
   "version": "3.10.14"
  }
 },
 "nbformat": 4,
 "nbformat_minor": 2
}
