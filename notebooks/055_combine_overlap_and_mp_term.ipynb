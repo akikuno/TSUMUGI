{
 "cells": [
  {
   "cell_type": "markdown",
   "metadata": {},
   "source": [
    "# Overlapとmp_term_nameの統合\n",
    "\n",
    "- 例：abnormal_circulating_glucose_level（連続値）\n",
    "- 例：male_infertility（カテゴリ値）"
   ]
  },
  {
   "cell_type": "code",
   "execution_count": 2,
   "metadata": {},
   "outputs": [
    {
     "data": {
      "text/plain": [
       "'/mnt/g/impc-genes_with_similar_phenotypes'"
      ]
     },
     "execution_count": 2,
     "metadata": {},
     "output_type": "execute_result"
    }
   ],
   "source": [
    "# Move up to top directory\n",
    "import os\n",
    "os.getcwd()\n",
    "os.chdir('../')\n",
    "os.getcwd()"
   ]
  },
  {
   "cell_type": "code",
   "execution_count": 3,
   "metadata": {},
   "outputs": [],
   "source": [
    "from pathlib import Path\n",
    "from collections import defaultdict\n",
    "from itertools import combinations\n",
    "import csv\n",
    "import pandas as pd\n",
    "from matplotlib import pyplot as plt\n",
    "import pickle\n",
    "import json"
   ]
  },
  {
   "cell_type": "code",
   "execution_count": 4,
   "metadata": {},
   "outputs": [
    {
     "name": "stdout",
     "output_type": "stream",
     "text": [
      "       marker1  marker2  overlap_ratio  overlapped_mp_number  \\\n",
      "0         Dpf2     Aff4          0.200                     4   \n",
      "1         Dpf2    Fgf15          0.333                     4   \n",
      "2         Dpf2  Col11a1          0.231                     3   \n",
      "3         Dpf2   Sptan1          0.154                     4   \n",
      "4         Dpf2      Nog          0.160                     4   \n",
      "...        ...      ...            ...                   ...   \n",
      "128944    Mcm4   Exosc8          1.000                     3   \n",
      "128945  Zfp407   Washc4          0.750                     3   \n",
      "128946    Gmnn    Rab35          1.000                     3   \n",
      "128947   Pola2   Exosc8          1.000                     3   \n",
      "128948    Mrm2      Jtb          0.600                     3   \n",
      "\n",
      "                                            overlapped_mp  \n",
      "0       [abnormal craniofacial morphology, abnormal ki...  \n",
      "1       [abnormal embryo size, abnormal heart morpholo...  \n",
      "2       [abnormal limb morphology, abnormal tail morph...  \n",
      "3       [abnormal craniofacial morphology, abnormal ki...  \n",
      "4       [abnormal heart morphology, abnormal kidney mo...  \n",
      "...                                                   ...  \n",
      "128944  [embryonic lethality prior to organogenesis, e...  \n",
      "128945  [embryonic lethality prior to organogenesis, h...  \n",
      "128946  [abnormal lens morphology, cataract, preweanin...  \n",
      "128947  [embryonic lethality prior to organogenesis, e...  \n",
      "128948  [abnormal retina blood vessel morphology, embr...  \n",
      "\n",
      "[128949 rows x 5 columns]\n"
     ]
    }
   ],
   "source": [
    "# path_overlap = Path(\"data\", \"overlap_ratios_filtered.csv\")\n",
    "# df_overlap = pd.read_csv(path_overlap)\n",
    "\n",
    "overlap = pickle.load(open(\"data/overlapeed_ratios_filtered.pkl\", \"rb\"))\n",
    "df_overlap = pd.DataFrame(overlap, columns=[\"marker1\", \"marker2\", \"overlap_ratio\", \"overlapped_mp_number\", \"overlapped_mp\"])\n",
    "print(df_overlap)"
   ]
  },
  {
   "cell_type": "code",
   "execution_count": 33,
   "metadata": {},
   "outputs": [],
   "source": [
    "# path_marker_effect = Path(\"data\", \"mp_term_name\", \"decreased_circulating_glucose_level.csv\")\n",
    "path_marker_effect = Path(\"data\", \"mp_term_name\", \"increased_circulating_glucose_level.csv\")\n",
    "df_marker_effect = pd.read_csv(path_marker_effect)\n",
    "df_marker_effect = df_marker_effect[[\"marker_symbol\", \"effect_size\"]].drop_duplicates()\n"
   ]
  },
  {
   "cell_type": "code",
   "execution_count": 36,
   "metadata": {},
   "outputs": [
    {
     "name": "stdout",
     "output_type": "stream",
     "text": [
      "49\n"
     ]
    },
    {
     "data": {
      "text/html": [
       "<div>\n",
       "<style scoped>\n",
       "    .dataframe tbody tr th:only-of-type {\n",
       "        vertical-align: middle;\n",
       "    }\n",
       "\n",
       "    .dataframe tbody tr th {\n",
       "        vertical-align: top;\n",
       "    }\n",
       "\n",
       "    .dataframe thead th {\n",
       "        text-align: right;\n",
       "    }\n",
       "</style>\n",
       "<table border=\"1\" class=\"dataframe\">\n",
       "  <thead>\n",
       "    <tr style=\"text-align: right;\">\n",
       "      <th></th>\n",
       "      <th>marker_symbol</th>\n",
       "      <th>effect_size</th>\n",
       "    </tr>\n",
       "  </thead>\n",
       "  <tbody>\n",
       "    <tr>\n",
       "      <th>0</th>\n",
       "      <td>Zfp513</td>\n",
       "      <td>0.200596</td>\n",
       "    </tr>\n",
       "    <tr>\n",
       "      <th>1</th>\n",
       "      <td>Dbnl</td>\n",
       "      <td>0.828539</td>\n",
       "    </tr>\n",
       "    <tr>\n",
       "      <th>2</th>\n",
       "      <td>Oas1g</td>\n",
       "      <td>0.922229</td>\n",
       "    </tr>\n",
       "  </tbody>\n",
       "</table>\n",
       "</div>"
      ],
      "text/plain": [
       "  marker_symbol  effect_size\n",
       "0        Zfp513     0.200596\n",
       "1          Dbnl     0.828539\n",
       "2         Oas1g     0.922229"
      ]
     },
     "execution_count": 36,
     "metadata": {},
     "output_type": "execute_result"
    }
   ],
   "source": [
    "print(len(df_marker_effect))\n",
    "\n",
    "df_marker_effect.head(3)\n"
   ]
  },
  {
   "cell_type": "code",
   "execution_count": 37,
   "metadata": {},
   "outputs": [],
   "source": [
    "# print(df_mp[\"effect_size\"].describe())"
   ]
  },
  {
   "cell_type": "code",
   "execution_count": 38,
   "metadata": {},
   "outputs": [],
   "source": [
    "# Absolute value of effect size\n",
    "\n",
    "df_marker_effect.loc[:, \"effect_size\"] = df_marker_effect[\"effect_size\"].abs()"
   ]
  },
  {
   "cell_type": "code",
   "execution_count": 39,
   "metadata": {},
   "outputs": [],
   "source": [
    "# print(df_overlap[df_overlap[\"intersect_count\"] > 5 & df_overlap[\"overlap_ratio\"] > 0.5])"
   ]
  },
  {
   "cell_type": "code",
   "execution_count": 40,
   "metadata": {},
   "outputs": [],
   "source": [
    "# df_overlap_filterd = df_overlap[df_overlap[\"overlapped_mp_number\"] > 0]\n",
    "df_overlap_filterd = df_overlap[(df_overlap[\"overlap_ratio\"] > 0.25)]"
   ]
  },
  {
   "cell_type": "code",
   "execution_count": 41,
   "metadata": {},
   "outputs": [],
   "source": [
    "df_filtered = df_overlap_filterd[\n",
    "    (df_overlap_filterd['marker1'].isin(df_marker_effect['marker_symbol'])) &\n",
    "    (df_overlap_filterd['marker2'].isin(df_marker_effect['marker_symbol']))\n",
    "]"
   ]
  },
  {
   "cell_type": "code",
   "execution_count": 42,
   "metadata": {},
   "outputs": [
    {
     "name": "stdout",
     "output_type": "stream",
     "text": [
      "10\n"
     ]
    },
    {
     "data": {
      "text/html": [
       "<div>\n",
       "<style scoped>\n",
       "    .dataframe tbody tr th:only-of-type {\n",
       "        vertical-align: middle;\n",
       "    }\n",
       "\n",
       "    .dataframe tbody tr th {\n",
       "        vertical-align: top;\n",
       "    }\n",
       "\n",
       "    .dataframe thead th {\n",
       "        text-align: right;\n",
       "    }\n",
       "</style>\n",
       "<table border=\"1\" class=\"dataframe\">\n",
       "  <thead>\n",
       "    <tr style=\"text-align: right;\">\n",
       "      <th></th>\n",
       "      <th>marker1</th>\n",
       "      <th>marker2</th>\n",
       "      <th>overlap_ratio</th>\n",
       "      <th>overlapped_mp_number</th>\n",
       "      <th>overlapped_mp</th>\n",
       "    </tr>\n",
       "  </thead>\n",
       "  <tbody>\n",
       "    <tr>\n",
       "      <th>1035</th>\n",
       "      <td>Zfyve19</td>\n",
       "      <td>Ky</td>\n",
       "      <td>0.333</td>\n",
       "      <td>3</td>\n",
       "      <td>[abnormal behavior, decreased exploration in n...</td>\n",
       "    </tr>\n",
       "    <tr>\n",
       "      <th>8493</th>\n",
       "      <td>Bbs5</td>\n",
       "      <td>Bscl2</td>\n",
       "      <td>0.262</td>\n",
       "      <td>11</td>\n",
       "      <td>[abnormal bone structure, abnormal gait, decre...</td>\n",
       "    </tr>\n",
       "    <tr>\n",
       "      <th>63049</th>\n",
       "      <td>Mrpl39</td>\n",
       "      <td>Znhit2</td>\n",
       "      <td>0.500</td>\n",
       "      <td>3</td>\n",
       "      <td>[decreased circulating bilirubin level, increa...</td>\n",
       "    </tr>\n",
       "  </tbody>\n",
       "</table>\n",
       "</div>"
      ],
      "text/plain": [
       "       marker1 marker2  overlap_ratio  overlapped_mp_number  \\\n",
       "1035   Zfyve19      Ky          0.333                     3   \n",
       "8493      Bbs5   Bscl2          0.262                    11   \n",
       "63049   Mrpl39  Znhit2          0.500                     3   \n",
       "\n",
       "                                           overlapped_mp  \n",
       "1035   [abnormal behavior, decreased exploration in n...  \n",
       "8493   [abnormal bone structure, abnormal gait, decre...  \n",
       "63049  [decreased circulating bilirubin level, increa...  "
      ]
     },
     "execution_count": 42,
     "metadata": {},
     "output_type": "execute_result"
    }
   ],
   "source": [
    "\n",
    "print(len(df_filtered))\n",
    "\n",
    "df_filtered.head(3)"
   ]
  },
  {
   "cell_type": "markdown",
   "metadata": {},
   "source": [
    "### 出力"
   ]
  },
  {
   "cell_type": "code",
   "execution_count": 43,
   "metadata": {},
   "outputs": [
    {
     "name": "stdout",
     "output_type": "stream",
     "text": [
      "10\n",
      "       marker1 marker2  overlap_ratio  \\\n",
      "1035   Zfyve19      Ky          0.333   \n",
      "8493      Bbs5   Bscl2          0.262   \n",
      "63049   Mrpl39  Znhit2          0.500   \n",
      "\n",
      "                                           overlapped_mp  \n",
      "1035   [abnormal behavior, decreased exploration in n...  \n",
      "8493   [abnormal bone structure, abnormal gait, decre...  \n",
      "63049  [decreased circulating bilirubin level, increa...  \n"
     ]
    }
   ],
   "source": [
    "# Edge list\n",
    "\n",
    "df_edge = df_filtered[[\"marker1\", \"marker2\", \"overlap_ratio\", \"overlapped_mp\"]]\n",
    "print(len(df_edge))\n",
    "print(df_edge.head(3))\n"
   ]
  },
  {
   "cell_type": "code",
   "execution_count": 44,
   "metadata": {},
   "outputs": [
    {
     "name": "stdout",
     "output_type": "stream",
     "text": [
      "[{'data': {'source': 'Zfyve19', 'target': 'Ky', 'annotation': ['abnormal behavior', 'decreased exploration in new environment', 'increased circulating glucose level'], 'edge_size': 0.333}}, {'data': {'source': 'Bbs5', 'target': 'Bscl2', 'annotation': ['abnormal bone structure', 'abnormal gait', 'decreased bone mineral content', 'decreased respiratory quotient', 'increased circulating alanine transaminase level', 'increased circulating alkaline phosphatase level', 'increased circulating aspartate transaminase level', 'increased circulating glucose level', 'increased mean corpuscular volume', 'increased monocyte cell number', 'short tibia'], 'edge_size': 0.262}}, {'data': {'source': 'Mrpl39', 'target': 'Znhit2', 'annotation': ['decreased circulating bilirubin level', 'increased circulating glucose level', 'preweaning lethality, complete penetrance'], 'edge_size': 0.5}}]\n"
     ]
    }
   ],
   "source": [
    "# JSON形式に変換\n",
    "edge_json = []\n",
    "for _, row in df_edge.iterrows():\n",
    "    edge_json.append({\n",
    "        \"data\": {\n",
    "            \"source\": row['marker1'],\n",
    "            \"target\": row['marker2'],\n",
    "            \"annotation\": row['overlapped_mp'],\n",
    "            \"edge_size\": row['overlap_ratio']\n",
    "        }\n",
    "    })\n",
    "\n",
    "print(edge_json[:3])"
   ]
  },
  {
   "cell_type": "code",
   "execution_count": 45,
   "metadata": {},
   "outputs": [
    {
     "name": "stdout",
     "output_type": "stream",
     "text": [
      "  marker_symbol\n",
      "0       Zfyve19\n",
      "1          Bbs5\n",
      "2        Mrpl39\n",
      "5        Dtnbp1\n",
      "6         Eid2b\n",
      "7        Znhit2\n",
      "9          Gcn1\n",
      "0            Ky\n",
      "1         Bscl2\n",
      "4        Thap12\n",
      "5      Slc25a46\n",
      "   marker_symbol                                            mp_term\n",
      "0        Zfyve19  [abnormal behavior, decreased exploration in n...\n",
      "1           Bbs5  [abnormal bone structure, abnormal gait, abnor...\n",
      "2         Mrpl39  [decreased circulating bilirubin level, decrea...\n",
      "3         Dtnbp1  [abnormal coat/hair pigmentation, abnormal iri...\n",
      "4          Eid2b  [decreased mean corpuscular volume, embryonic ...\n",
      "5         Znhit2  [decreased circulating bilirubin level, embryo...\n",
      "6           Gcn1  [decreased circulating bilirubin level, increa...\n",
      "7             Ky  [abnormal behavior, abnormal gait, decreased e...\n",
      "8          Bscl2  [abnormal bone structure, abnormal gait, decre...\n",
      "9         Thap12  [decreased circulating bilirubin level, increa...\n",
      "10      Slc25a46  [decreased grip strength, increased circulatin...\n"
     ]
    }
   ],
   "source": [
    "# Nodeの情報を作成\n",
    "# merge mp term\n",
    "df_marker1 = df_filtered[[\"marker1\"]]\n",
    "df_marker2 = df_filtered[[\"marker2\"]]\n",
    "df_node_marker1 = pd.merge(df_marker1, df_marker_effect, left_on='marker1', right_on='marker_symbol', how='inner')[[\"marker_symbol\"]]\n",
    "df_node_marker2 = pd.merge(df_marker2, df_marker_effect, left_on='marker2', right_on='marker_symbol', how='inner')[[\"marker_symbol\"]]\n",
    "\n",
    "df_node = pd.concat([df_node_marker1, df_node_marker2], axis=0).drop_duplicates()\n",
    "\n",
    "print(df_node)\n",
    "import pickle\n",
    "marker_mp = pickle.load(open(\"data/marker_mp.pkl\", \"rb\"))\n",
    "marker_mp = pd.DataFrame(marker_mp.items(), columns=[\"marker_symbol\", \"mp_term\"])\n",
    "\n",
    "df_node = pd.merge(df_node, marker_mp, how='inner', on='marker_symbol')\n",
    "print(df_node)\n",
    "\n",
    "df_node = pd.merge(df_node, df_marker_effect, how='inner', on='marker_symbol')"
   ]
  },
  {
   "cell_type": "code",
   "execution_count": 46,
   "metadata": {},
   "outputs": [
    {
     "name": "stdout",
     "output_type": "stream",
     "text": [
      "[{'data': {'id': 'Zfyve19', 'label': 'Zfyve19', 'annotation': ['abnormal behavior', 'decreased exploration in new environment', 'decreased thigmotaxis', 'increased circulating glucose level'], 'node_color': 0.695783774710263}}, {'data': {'id': 'Bbs5', 'label': 'Bbs5', 'annotation': ['abnormal bone structure', 'abnormal gait', 'abnormal retina morphology', 'decreased bone mineral content', 'decreased bone mineral density', 'decreased circulating triglyceride level', 'decreased grip strength', 'decreased heart weight', 'decreased lean body mass', 'decreased respiratory quotient', 'impaired glucose tolerance', 'increased circulating alanine transaminase level', 'increased circulating alkaline phosphatase level', 'increased circulating aspartate transaminase level', 'increased circulating glucose level', 'increased hematocrit', 'increased hemoglobin content', 'increased leukocyte cell number', 'increased lymphocyte cell number', 'increased mean corpuscular volume', 'increased monocyte cell number', 'increased total body fat amount', 'short tibia', 'tremors'], 'node_color': 1.90267688381064}}, {'data': {'id': 'Mrpl39', 'label': 'Mrpl39', 'annotation': ['decreased circulating bilirubin level', 'decreased circulating creatinine level', 'increased circulating glucose level', 'preweaning lethality, complete penetrance'], 'node_color': 0.147887160470071}}]\n"
     ]
    }
   ],
   "source": [
    "# JSON形式に変換\n",
    "node_json = []\n",
    "for _, row in df_node.iterrows():\n",
    "    node_json.append({\n",
    "        \"data\": {\n",
    "            \"id\": row['marker_symbol'],\n",
    "            \"label\": row['marker_symbol'],\n",
    "            \"annotation\": row['mp_term'],\n",
    "            \"node_color\": row['effect_size']\n",
    "        }\n",
    "    })\n",
    "\n",
    "print(node_json[:3])"
   ]
  },
  {
   "cell_type": "code",
   "execution_count": 47,
   "metadata": {},
   "outputs": [],
   "source": [
    "# Combine node and edge\n",
    "\n",
    "network_json = node_json + edge_json"
   ]
  },
  {
   "cell_type": "code",
   "execution_count": 48,
   "metadata": {},
   "outputs": [
    {
     "name": "stdout",
     "output_type": "stream",
     "text": [
      "21\n",
      "[{'data': {'id': 'Zfyve19', 'label': 'Zfyve19', 'annotation': ['abnormal behavior', 'decreased exploration in new environment', 'decreased thigmotaxis', 'increased circulating glucose level'], 'node_color': 0.695783774710263}}, {'data': {'id': 'Bbs5', 'label': 'Bbs5', 'annotation': ['abnormal bone structure', 'abnormal gait', 'abnormal retina morphology', 'decreased bone mineral content', 'decreased bone mineral density', 'decreased circulating triglyceride level', 'decreased grip strength', 'decreased heart weight', 'decreased lean body mass', 'decreased respiratory quotient', 'impaired glucose tolerance', 'increased circulating alanine transaminase level', 'increased circulating alkaline phosphatase level', 'increased circulating aspartate transaminase level', 'increased circulating glucose level', 'increased hematocrit', 'increased hemoglobin content', 'increased leukocyte cell number', 'increased lymphocyte cell number', 'increased mean corpuscular volume', 'increased monocyte cell number', 'increased total body fat amount', 'short tibia', 'tremors'], 'node_color': 1.90267688381064}}, {'data': {'id': 'Mrpl39', 'label': 'Mrpl39', 'annotation': ['decreased circulating bilirubin level', 'decreased circulating creatinine level', 'increased circulating glucose level', 'preweaning lethality, complete penetrance'], 'node_color': 0.147887160470071}}]\n",
      "[{'data': {'source': 'Znhit2', 'target': 'Gcn1', 'annotation': ['decreased circulating bilirubin level', 'increased circulating glucose level', 'preweaning lethality, complete penetrance'], 'edge_size': 0.6}}, {'data': {'source': 'Znhit2', 'target': 'Thap12', 'annotation': ['decreased circulating bilirubin level', 'increased circulating glucose level', 'preweaning lethality, complete penetrance'], 'edge_size': 0.6}}, {'data': {'source': 'Gcn1', 'target': 'Thap12', 'annotation': ['decreased circulating bilirubin level', 'increased circulating glucose level', 'preweaning lethality, complete penetrance'], 'edge_size': 1.0}}]\n"
     ]
    }
   ],
   "source": [
    "print(len(network_json))\n",
    "print(network_json[:3])\n",
    "print(network_json[-3:])"
   ]
  },
  {
   "cell_type": "code",
   "execution_count": 49,
   "metadata": {},
   "outputs": [],
   "source": [
    "# Output as JSON file\n",
    "\n",
    "with open(\"data/network.json\", \"w\") as f:\n",
    "    json.dump(network_json, f, indent=2)"
   ]
  },
  {
   "cell_type": "markdown",
   "metadata": {},
   "source": [
    "# Debug"
   ]
  },
  {
   "cell_type": "code",
   "execution_count": 22,
   "metadata": {},
   "outputs": [
    {
     "name": "stdout",
     "output_type": "stream",
     "text": [
      "{'data': {'id': 'Lepr', 'label': 'Lepr', 'annotation': ['abnormal bone structure', 'abnormal gait', 'abnormal locomotor behavior', 'decreased bone mineral content', 'decreased bone mineral density', 'decreased circulating chloride level', 'decreased exploration in new environment', 'decreased heart weight', 'decreased lean body mass', 'decreased leukocyte cell number', 'decreased locomotor activity', 'decreased lymphocyte cell number', 'decreased spleen weight', 'enlarged liver', 'female infertility', 'impaired righting response', 'increased anxiety-related response', 'increased circulating HDL cholesterol level', 'increased circulating alanine transaminase level', 'increased circulating alkaline phosphatase level', 'increased circulating aspartate transaminase level', 'increased circulating calcium level', 'increased circulating cholesterol level', 'increased circulating fructosamine level', 'increased circulating iron level', 'increased circulating phosphate level', 'increased circulating potassium level', 'increased circulating serum albumin level', 'increased circulating triglyceride level', 'increased hematocrit', 'increased monocyte cell number', 'increased neutrophil cell number', 'increased red blood cell distribution width', 'increased total body fat amount', 'limb grasping', 'male infertility', 'small seminal vesicle', 'tremors', 'trunk curl'], 'node_color': nan}}\n"
     ]
    }
   ],
   "source": [
    "for data in node_json:\n",
    "    if \"Lepr\" == data[\"data\"][\"id\"]:\n",
    "        print(data)"
   ]
  },
  {
   "cell_type": "code",
   "execution_count": 163,
   "metadata": {},
   "outputs": [
    {
     "name": "stdout",
     "output_type": "stream",
     "text": [
      "{'data': {'source': 'Camsap3', 'target': 'Herc1', 'annotation': ['abnormal auditory brainstem response', 'abnormal lens morphology', 'cataract', 'decreased bone mineral content', 'decreased bone mineral density', 'decreased lean body mass', 'increased leukocyte cell number', 'increased total body fat amount', 'male infertility'], 'edge_size': 0.31}}\n",
      "{'data': {'source': 'Prdm14', 'target': 'Herc1', 'annotation': ['decreased bone mineral content', 'decreased bone mineral density', 'decreased lean body mass', 'impaired glucose tolerance', 'increased total body fat amount', 'male infertility'], 'edge_size': 0.273}}\n",
      "{'data': {'source': 'Kash5', 'target': 'Herc1', 'annotation': ['decreased bone mineral content', 'decreased bone mineral density', 'decreased lean body mass', 'increased leukocyte cell number', 'increased total body fat amount', 'male infertility'], 'edge_size': 0.286}}\n",
      "{'data': {'source': 'Trim37', 'target': 'Herc1', 'annotation': ['abnormal auditory brainstem response', 'abnormal retina morphology', 'decreased bone mineral content', 'decreased bone mineral density', 'decreased lean body mass', 'increased fasting circulating glucose level', 'increased total body fat amount', 'male infertility'], 'edge_size': 0.32}}\n",
      "{'data': {'source': 'Stag3', 'target': 'Herc1', 'annotation': ['decreased bone mineral content', 'decreased bone mineral density', 'decreased lean body mass', 'increased fasting circulating glucose level', 'increased total body fat amount', 'male infertility'], 'edge_size': 0.273}}\n",
      "{'data': {'source': '4930447C04Rik', 'target': 'Herc1', 'annotation': ['decreased bone mineral content', 'decreased bone mineral density', 'decreased lean body mass', 'increased total body fat amount', 'male infertility'], 'edge_size': 0.263}}\n",
      "{'data': {'source': 'Herc1', 'target': 'Sms', 'annotation': ['decreased bone mineral density', 'decreased circulating glucose level', 'decreased lean body mass', 'increased circulating amylase level', 'increased circulating sodium level', 'male infertility'], 'edge_size': 0.286}}\n",
      "{'data': {'source': 'Herc1', 'target': 'Ythdc2', 'annotation': ['decreased bone mineral content', 'decreased bone mineral density', 'decreased lean body mass', 'increased total body fat amount', 'male infertility'], 'edge_size': 0.263}}\n",
      "{'data': {'source': 'Herc1', 'target': 'Ube2j1', 'annotation': ['decreased bone mineral content', 'decreased bone mineral density', 'decreased lean body mass', 'increased circulating amylase level', 'increased total body fat amount', 'male infertility'], 'edge_size': 0.3}}\n"
     ]
    }
   ],
   "source": [
    "for data in edge_json:\n",
    "    if \"Herc1\" == data[\"data\"][\"source\"]:\n",
    "        print(data)\n",
    "    if \"Herc1\" == data[\"data\"][\"target\"]:\n",
    "        print(data)"
   ]
  },
  {
   "cell_type": "code",
   "execution_count": 150,
   "metadata": {},
   "outputs": [
    {
     "name": "stdout",
     "output_type": "stream",
     "text": [
      "{'data': {'source': 'Vgf', 'target': 'Stoml2', 'annotation': ['decreased prepulse inhibition', 'increased circulating alanine transaminase level', 'increased circulating aspartate transaminase level', 'male infertility'], 'edge_size': 0.25}}\n",
      "{'data': {'source': 'Fbxo38', 'target': 'Stoml2', 'annotation': ['increased circulating alanine transaminase level', 'increased circulating aspartate transaminase level', 'male infertility'], 'edge_size': 0.214}}\n",
      "{'data': {'source': 'Stoml2', 'target': 'Clcn1', 'annotation': ['decreased prepulse inhibition', 'increased circulating aspartate transaminase level', 'increased circulating bilirubin level', 'male infertility'], 'edge_size': 0.182}}\n",
      "{'data': {'source': 'Stoml2', 'target': 'Lepr', 'annotation': ['increased circulating alanine transaminase level', 'increased circulating aspartate transaminase level', 'male infertility'], 'edge_size': 0.073}}\n",
      "{'data': {'source': 'Stoml2', 'target': 'Atp13a3', 'annotation': ['increased circulating alanine transaminase level', 'increased circulating aspartate transaminase level', 'increased circulating bilirubin level', 'male infertility'], 'edge_size': 0.167}}\n",
      "{'data': {'source': 'Stoml2', 'target': 'Fndc9', 'annotation': ['decreased prepulse inhibition', 'increased circulating bilirubin level', 'male infertility'], 'edge_size': 0.2}}\n",
      "{'data': {'source': 'Stoml2', 'target': 'Hddc3', 'annotation': ['increased circulating alanine transaminase level', 'increased circulating aspartate transaminase level', 'male infertility'], 'edge_size': 0.3}}\n",
      "{'data': {'source': 'Stoml2', 'target': 'Cpe', 'annotation': ['increased circulating alanine transaminase level', 'increased circulating aspartate transaminase level', 'male infertility'], 'edge_size': 0.136}}\n",
      "{'data': {'source': 'Stoml2', 'target': 'Prmt6', 'annotation': ['increased circulating alanine transaminase level', 'increased circulating aspartate transaminase level', 'male infertility'], 'edge_size': 0.333}}\n",
      "{'data': {'source': 'Stoml2', 'target': 'Clpp', 'annotation': ['increased circulating aspartate transaminase level', 'increased circulating bilirubin level', 'male infertility'], 'edge_size': 0.125}}\n"
     ]
    }
   ],
   "source": [
    "for data in edge_json:\n",
    "    if \"Stoml2\" == data[\"data\"][\"source\"]:\n",
    "        print(data)\n",
    "    if \"Stoml2\" == data[\"data\"][\"target\"]:\n",
    "        print(data)"
   ]
  },
  {
   "cell_type": "code",
   "execution_count": null,
   "metadata": {},
   "outputs": [],
   "source": []
  }
 ],
 "metadata": {
  "kernelspec": {
   "display_name": "base",
   "language": "python",
   "name": "python3"
  },
  "language_info": {
   "codemirror_mode": {
    "name": "ipython",
    "version": 3
   },
   "file_extension": ".py",
   "mimetype": "text/x-python",
   "name": "python",
   "nbconvert_exporter": "python",
   "pygments_lexer": "ipython3",
   "version": "3.10.14"
  }
 },
 "nbformat": 4,
 "nbformat_minor": 2
}
