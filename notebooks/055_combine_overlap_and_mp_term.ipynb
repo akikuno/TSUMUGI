{
 "cells": [
  {
   "cell_type": "markdown",
   "metadata": {},
   "source": [
    "# Overlapとmp_term_nameの統合\n",
    "\n",
    "- 例：abnormal_circulating_glucose_level（連続値）\n",
    "- 例：male_infertility（カテゴリ値）"
   ]
  },
  {
   "cell_type": "code",
   "execution_count": 2,
   "metadata": {},
   "outputs": [
    {
     "data": {
      "text/plain": [
       "'/mnt/g/impc-genes_with_similar_phenotypes'"
      ]
     },
     "execution_count": 2,
     "metadata": {},
     "output_type": "execute_result"
    }
   ],
   "source": [
    "# Move up to top directory\n",
    "import os\n",
    "os.getcwd()\n",
    "os.chdir('../')\n",
    "os.getcwd()"
   ]
  },
  {
   "cell_type": "code",
   "execution_count": 7,
   "metadata": {},
   "outputs": [],
   "source": [
    "from pathlib import Path\n",
    "from collections import defaultdict\n",
    "from itertools import combinations\n",
    "import csv\n",
    "import pandas as pd\n",
    "from matplotlib import pyplot as plt"
   ]
  },
  {
   "cell_type": "code",
   "execution_count": 8,
   "metadata": {},
   "outputs": [],
   "source": [
    "path_overlap = Path(\"data\", \"overlap_ratios.csv\")\n",
    "df_overlap = pd.read_csv(path_overlap)"
   ]
  },
  {
   "cell_type": "code",
   "execution_count": 9,
   "metadata": {},
   "outputs": [],
   "source": [
    "# path_mp = Path(\"data\", \"mp_term_name\", \"decreased_circulating_glucose_level.csv\")\n",
    "path_mp = Path(\"data\", \"mp_term_name\", \"male_infertility.csv\")\n",
    "df_mp = pd.read_csv(path_mp)\n",
    "df_mp = df_mp[[\"marker_symbol\", \"p_value\", \"effect_size\"]].drop_duplicates()\n"
   ]
  },
  {
   "cell_type": "code",
   "execution_count": 10,
   "metadata": {},
   "outputs": [
    {
     "name": "stdout",
     "output_type": "stream",
     "text": [
      "  marker1 marker2  overlap_ratio  overlapped_mp_number  \\\n",
      "0    Dpf2   Gna13          0.167                     2   \n",
      "1    Dpf2    Plec          0.200                     2   \n",
      "2    Dpf2  Gnptab          0.080                     2   \n",
      "\n",
      "                                       overlapped_mp  \\\n",
      "0  abnormal embryo size\\npreweaning lethality, co...   \n",
      "1   edema\\npreweaning lethality, complete penetrance   \n",
      "2  abnormal heart morphology\\nabnormal kidney mor...   \n",
      "\n",
      "                                          marker1_mp  \\\n",
      "0  abnormal craniofacial morphology\\nabnormal emb...   \n",
      "1  abnormal craniofacial morphology\\nabnormal emb...   \n",
      "2  abnormal craniofacial morphology\\nabnormal emb...   \n",
      "\n",
      "                                          marker2_mp  \n",
      "0  abnormal embryo size\\nabnormal visceral yolk s...  \n",
      "1   edema\\npreweaning lethality, complete penetrance  \n",
      "2  abnormal blood vessel morphology\\nabnormal hea...  \n",
      "318\n"
     ]
    },
    {
     "data": {
      "text/html": [
       "<div>\n",
       "<style scoped>\n",
       "    .dataframe tbody tr th:only-of-type {\n",
       "        vertical-align: middle;\n",
       "    }\n",
       "\n",
       "    .dataframe tbody tr th {\n",
       "        vertical-align: top;\n",
       "    }\n",
       "\n",
       "    .dataframe thead th {\n",
       "        text-align: right;\n",
       "    }\n",
       "</style>\n",
       "<table border=\"1\" class=\"dataframe\">\n",
       "  <thead>\n",
       "    <tr style=\"text-align: right;\">\n",
       "      <th></th>\n",
       "      <th>marker_symbol</th>\n",
       "      <th>p_value</th>\n",
       "      <th>effect_size</th>\n",
       "    </tr>\n",
       "  </thead>\n",
       "  <tbody>\n",
       "    <tr>\n",
       "      <th>0</th>\n",
       "      <td>Tex38</td>\n",
       "      <td>0</td>\n",
       "      <td>1</td>\n",
       "    </tr>\n",
       "    <tr>\n",
       "      <th>1</th>\n",
       "      <td>Pou2af3</td>\n",
       "      <td>0</td>\n",
       "      <td>1</td>\n",
       "    </tr>\n",
       "    <tr>\n",
       "      <th>2</th>\n",
       "      <td>Stoml2</td>\n",
       "      <td>0</td>\n",
       "      <td>1</td>\n",
       "    </tr>\n",
       "    <tr>\n",
       "      <th>3</th>\n",
       "      <td>Sbf1</td>\n",
       "      <td>0</td>\n",
       "      <td>1</td>\n",
       "    </tr>\n",
       "    <tr>\n",
       "      <th>4</th>\n",
       "      <td>Cyrib</td>\n",
       "      <td>0</td>\n",
       "      <td>1</td>\n",
       "    </tr>\n",
       "    <tr>\n",
       "      <th>...</th>\n",
       "      <td>...</td>\n",
       "      <td>...</td>\n",
       "      <td>...</td>\n",
       "    </tr>\n",
       "    <tr>\n",
       "      <th>320</th>\n",
       "      <td>Cep19</td>\n",
       "      <td>0</td>\n",
       "      <td>1</td>\n",
       "    </tr>\n",
       "    <tr>\n",
       "      <th>321</th>\n",
       "      <td>Bzw1</td>\n",
       "      <td>0</td>\n",
       "      <td>1</td>\n",
       "    </tr>\n",
       "    <tr>\n",
       "      <th>322</th>\n",
       "      <td>Septin10</td>\n",
       "      <td>0</td>\n",
       "      <td>1</td>\n",
       "    </tr>\n",
       "    <tr>\n",
       "      <th>323</th>\n",
       "      <td>Cfap57</td>\n",
       "      <td>0</td>\n",
       "      <td>1</td>\n",
       "    </tr>\n",
       "    <tr>\n",
       "      <th>324</th>\n",
       "      <td>Scube1</td>\n",
       "      <td>0</td>\n",
       "      <td>1</td>\n",
       "    </tr>\n",
       "  </tbody>\n",
       "</table>\n",
       "<p>318 rows × 3 columns</p>\n",
       "</div>"
      ],
      "text/plain": [
       "    marker_symbol  p_value  effect_size\n",
       "0           Tex38        0            1\n",
       "1         Pou2af3        0            1\n",
       "2          Stoml2        0            1\n",
       "3            Sbf1        0            1\n",
       "4           Cyrib        0            1\n",
       "..            ...      ...          ...\n",
       "320         Cep19        0            1\n",
       "321          Bzw1        0            1\n",
       "322      Septin10        0            1\n",
       "323        Cfap57        0            1\n",
       "324        Scube1        0            1\n",
       "\n",
       "[318 rows x 3 columns]"
      ]
     },
     "execution_count": 10,
     "metadata": {},
     "output_type": "execute_result"
    }
   ],
   "source": [
    "print(df_overlap.head(3))\n",
    "\n",
    "print(len(df_mp))\n",
    "\n",
    "df_mp"
   ]
  },
  {
   "cell_type": "code",
   "execution_count": 11,
   "metadata": {},
   "outputs": [
    {
     "name": "stdout",
     "output_type": "stream",
     "text": [
      "count    318.0\n",
      "mean       1.0\n",
      "std        0.0\n",
      "min        1.0\n",
      "25%        1.0\n",
      "50%        1.0\n",
      "75%        1.0\n",
      "max        1.0\n",
      "Name: effect_size, dtype: float64\n"
     ]
    }
   ],
   "source": [
    "print(df_mp[\"effect_size\"].describe())"
   ]
  },
  {
   "cell_type": "code",
   "execution_count": 12,
   "metadata": {},
   "outputs": [],
   "source": [
    "# Absolute value of effect size\n",
    "\n",
    "df_mp.loc[:, \"effect_size\"] = df_mp[\"effect_size\"].abs()"
   ]
  },
  {
   "cell_type": "code",
   "execution_count": 13,
   "metadata": {},
   "outputs": [],
   "source": [
    "# print(df_overlap[df_overlap[\"intersect_count\"] > 5 & df_overlap[\"overlap_ratio\"] > 0.5])"
   ]
  },
  {
   "cell_type": "code",
   "execution_count": 14,
   "metadata": {},
   "outputs": [],
   "source": [
    "# df_overlap_filterd = df_overlap[df_overlap[\"overlapped_mp_number\"] > 0]\n",
    "df_overlap_filterd = df_overlap[(df_overlap[\"overlap_ratio\"] > 0.3) & (df_overlap[\"overlapped_mp_number\"] > 2)]"
   ]
  },
  {
   "cell_type": "code",
   "execution_count": 15,
   "metadata": {},
   "outputs": [],
   "source": [
    "df_filtered = df_overlap_filterd[\n",
    "    (df_overlap_filterd['marker1'].isin(df_mp['marker_symbol'])) &\n",
    "    (df_overlap_filterd['marker2'].isin(df_mp['marker_symbol']))\n",
    "]"
   ]
  },
  {
   "cell_type": "code",
   "execution_count": 16,
   "metadata": {},
   "outputs": [
    {
     "name": "stdout",
     "output_type": "stream",
     "text": [
      "208\n"
     ]
    },
    {
     "data": {
      "text/html": [
       "<div>\n",
       "<style scoped>\n",
       "    .dataframe tbody tr th:only-of-type {\n",
       "        vertical-align: middle;\n",
       "    }\n",
       "\n",
       "    .dataframe tbody tr th {\n",
       "        vertical-align: top;\n",
       "    }\n",
       "\n",
       "    .dataframe thead th {\n",
       "        text-align: right;\n",
       "    }\n",
       "</style>\n",
       "<table border=\"1\" class=\"dataframe\">\n",
       "  <thead>\n",
       "    <tr style=\"text-align: right;\">\n",
       "      <th></th>\n",
       "      <th>marker1</th>\n",
       "      <th>marker2</th>\n",
       "      <th>overlap_ratio</th>\n",
       "      <th>overlapped_mp_number</th>\n",
       "      <th>overlapped_mp</th>\n",
       "      <th>marker1_mp</th>\n",
       "      <th>marker2_mp</th>\n",
       "      <th>marker_symbol</th>\n",
       "      <th>p_value</th>\n",
       "      <th>effect_size</th>\n",
       "    </tr>\n",
       "  </thead>\n",
       "  <tbody>\n",
       "    <tr>\n",
       "      <th>0</th>\n",
       "      <td>Camsap3</td>\n",
       "      <td>Kash5</td>\n",
       "      <td>0.348</td>\n",
       "      <td>8</td>\n",
       "      <td>abnormal bone structure\\ndecreased bone minera...</td>\n",
       "      <td>abnormal auditory brainstem response\\nabnormal...</td>\n",
       "      <td>abnormal bone structure\\ndecreased bone minera...</td>\n",
       "      <td>Camsap3</td>\n",
       "      <td>0</td>\n",
       "      <td>1</td>\n",
       "    </tr>\n",
       "    <tr>\n",
       "      <th>1</th>\n",
       "      <td>Camsap3</td>\n",
       "      <td>Herc1</td>\n",
       "      <td>0.310</td>\n",
       "      <td>9</td>\n",
       "      <td>abnormal auditory brainstem response\\nabnormal...</td>\n",
       "      <td>abnormal auditory brainstem response\\nabnormal...</td>\n",
       "      <td>abnormal auditory brainstem response\\nabnormal...</td>\n",
       "      <td>Camsap3</td>\n",
       "      <td>0</td>\n",
       "      <td>1</td>\n",
       "    </tr>\n",
       "    <tr>\n",
       "      <th>2</th>\n",
       "      <td>Camsap3</td>\n",
       "      <td>Clpp</td>\n",
       "      <td>0.303</td>\n",
       "      <td>10</td>\n",
       "      <td>abnormal auditory brainstem response\\nabnormal...</td>\n",
       "      <td>abnormal auditory brainstem response\\nabnormal...</td>\n",
       "      <td>abnormal auditory brainstem response\\nabnormal...</td>\n",
       "      <td>Camsap3</td>\n",
       "      <td>0</td>\n",
       "      <td>1</td>\n",
       "    </tr>\n",
       "  </tbody>\n",
       "</table>\n",
       "</div>"
      ],
      "text/plain": [
       "   marker1 marker2  overlap_ratio  overlapped_mp_number  \\\n",
       "0  Camsap3   Kash5          0.348                     8   \n",
       "1  Camsap3   Herc1          0.310                     9   \n",
       "2  Camsap3    Clpp          0.303                    10   \n",
       "\n",
       "                                       overlapped_mp  \\\n",
       "0  abnormal bone structure\\ndecreased bone minera...   \n",
       "1  abnormal auditory brainstem response\\nabnormal...   \n",
       "2  abnormal auditory brainstem response\\nabnormal...   \n",
       "\n",
       "                                          marker1_mp  \\\n",
       "0  abnormal auditory brainstem response\\nabnormal...   \n",
       "1  abnormal auditory brainstem response\\nabnormal...   \n",
       "2  abnormal auditory brainstem response\\nabnormal...   \n",
       "\n",
       "                                          marker2_mp marker_symbol  p_value  \\\n",
       "0  abnormal bone structure\\ndecreased bone minera...       Camsap3        0   \n",
       "1  abnormal auditory brainstem response\\nabnormal...       Camsap3        0   \n",
       "2  abnormal auditory brainstem response\\nabnormal...       Camsap3        0   \n",
       "\n",
       "   effect_size  \n",
       "0            1  \n",
       "1            1  \n",
       "2            1  "
      ]
     },
     "execution_count": 16,
     "metadata": {},
     "output_type": "execute_result"
    }
   ],
   "source": [
    "df_merged = pd.merge(df_filtered, df_mp, how='inner', left_on='marker1', right_on='marker_symbol')\n",
    "\n",
    "print(len(df_merged))\n",
    "\n",
    "df_merged.head(3)"
   ]
  },
  {
   "cell_type": "markdown",
   "metadata": {},
   "source": [
    "### 出力"
   ]
  },
  {
   "cell_type": "code",
   "execution_count": 17,
   "metadata": {},
   "outputs": [
    {
     "name": "stdout",
     "output_type": "stream",
     "text": [
      "208\n",
      "      from     to  node_size  edge_size  \\\n",
      "0  Camsap3  Kash5          1      0.348   \n",
      "1  Camsap3  Herc1          1      0.310   \n",
      "2  Camsap3   Clpp          1      0.303   \n",
      "\n",
      "                                             from_mp  \\\n",
      "0  abnormal auditory brainstem response\\nabnormal...   \n",
      "1  abnormal auditory brainstem response\\nabnormal...   \n",
      "2  abnormal auditory brainstem response\\nabnormal...   \n",
      "\n",
      "                                               to_mp  \\\n",
      "0  abnormal bone structure\\ndecreased bone minera...   \n",
      "1  abnormal auditory brainstem response\\nabnormal...   \n",
      "2  abnormal auditory brainstem response\\nabnormal...   \n",
      "\n",
      "                                             edge_mp  \n",
      "0  abnormal bone structure\\ndecreased bone minera...  \n",
      "1  abnormal auditory brainstem response\\nabnormal...  \n",
      "2  abnormal auditory brainstem response\\nabnormal...  \n"
     ]
    }
   ],
   "source": [
    "df_network = df_merged[[\"marker1\", \"marker2\", \"effect_size\", \"overlap_ratio\", \"marker1_mp\", \"marker2_mp\", \"overlapped_mp\"]]\n",
    "\n",
    "df_network.columns = [\"from\", \"to\", \"node_size\", \"edge_size\", \"from_mp\", \"to_mp\", \"edge_mp\"]\n",
    "print(len(df_network))\n",
    "print(df_network.head(3))\n"
   ]
  },
  {
   "cell_type": "code",
   "execution_count": 18,
   "metadata": {},
   "outputs": [],
   "source": [
    "df_network.to_csv(Path(\"data\", \"network.csv\"), index=False)"
   ]
  },
  {
   "cell_type": "code",
   "execution_count": 41,
   "metadata": {},
   "outputs": [],
   "source": [
    "# %%bash\n",
    "\n",
    "# python scripts/vis_network.py"
   ]
  },
  {
   "cell_type": "code",
   "execution_count": null,
   "metadata": {},
   "outputs": [],
   "source": []
  }
 ],
 "metadata": {
  "kernelspec": {
   "display_name": "base",
   "language": "python",
   "name": "python3"
  },
  "language_info": {
   "codemirror_mode": {
    "name": "ipython",
    "version": 3
   },
   "file_extension": ".py",
   "mimetype": "text/x-python",
   "name": "python",
   "nbconvert_exporter": "python",
   "pygments_lexer": "ipython3",
   "version": "3.10.14"
  }
 },
 "nbformat": 4,
 "nbformat_minor": 2
}
