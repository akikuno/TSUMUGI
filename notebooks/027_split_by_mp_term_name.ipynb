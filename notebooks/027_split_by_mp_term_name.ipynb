{
 "cells": [
  {
   "cell_type": "markdown",
   "metadata": {},
   "source": [
    "# Split data by mp_term_name"
   ]
  },
  {
   "cell_type": "code",
   "execution_count": 1,
   "metadata": {},
   "outputs": [
    {
     "data": {
      "text/plain": [
       "'/mnt/e/impc-genes_with_similar_phenotypes'"
      ]
     },
     "execution_count": 1,
     "metadata": {},
     "output_type": "execute_result"
    }
   ],
   "source": [
    "# Move up to top directory\n",
    "import os\n",
    "os.getcwd()\n",
    "os.chdir('../')\n",
    "os.getcwd()"
   ]
  },
  {
   "cell_type": "code",
   "execution_count": 2,
   "metadata": {},
   "outputs": [],
   "source": [
    "from pathlib import Path\n",
    "from collections import defaultdict\n",
    "from itertools import combinations\n",
    "import csv\n",
    "import pandas as pd\n",
    "from matplotlib import pyplot as plt"
   ]
  },
  {
   "cell_type": "code",
   "execution_count": 3,
   "metadata": {},
   "outputs": [],
   "source": [
    "path_data = Path(\"data\", \"statistical_filtered.csv\")"
   ]
  },
  {
   "cell_type": "code",
   "execution_count": 4,
   "metadata": {},
   "outputs": [
    {
     "name": "stdout",
     "output_type": "stream",
     "text": [
      "      phenotyping_center  intercept_estimate  procedure_id  \\\n",
      "0                    TCP                 NaN           NaN   \n",
      "1                    BCM                 NaN           NaN   \n",
      "2                   WTSI           82.874590           NaN   \n",
      "3                   WTSI            2.067209           NaN   \n",
      "4            MRC Harwell            0.094135           NaN   \n",
      "...                  ...                 ...           ...   \n",
      "41194                ICS            1.886719           NaN   \n",
      "41195                JAX                 NaN           NaN   \n",
      "41196           UC Davis           62.599150           NaN   \n",
      "41197                JAX                 NaN           NaN   \n",
      "41198           UC Davis            0.172341           NaN   \n",
      "\n",
      "       mutant_biological_model_id  rotated_residuals_test  \\\n",
      "0                             NaN                     NaN   \n",
      "1                             NaN                     NaN   \n",
      "2                             NaN                     NaN   \n",
      "3                             NaN                     NaN   \n",
      "4                             NaN                     NaN   \n",
      "...                           ...                     ...   \n",
      "41194                         NaN                     NaN   \n",
      "41195                         NaN                     NaN   \n",
      "41196                         NaN                     NaN   \n",
      "41197                         NaN                     NaN   \n",
      "41198                         NaN                     NaN   \n",
      "\n",
      "       weight_effect_p_value  male_mutant_count  pipeline_stable_key  \\\n",
      "0                        NaN                NaN                    9   \n",
      "1                        NaN                NaN                   16   \n",
      "2                        NaN                7.0                   15   \n",
      "3                   0.000000                NaN                    4   \n",
      "4                   0.005916               12.0                   49   \n",
      "...                      ...                ...                  ...   \n",
      "41194                    NaN                7.0                   10   \n",
      "41195                    NaN                7.0                   12   \n",
      "41196               0.066821                8.0                   13   \n",
      "41197                    NaN                7.0                   12   \n",
      "41198               0.000300                5.0                   13   \n",
      "\n",
      "       female_ko_effect_p_value pipeline_stable_id  ...  pipeline_id  \\\n",
      "0                           NaN            TCP_001  ...          NaN   \n",
      "1                           NaN            BCM_001  ...          NaN   \n",
      "2                  1.144336e-06            MGP_001  ...          NaN   \n",
      "3                           NaN          M-G-P_001  ...          NaN   \n",
      "4                  2.945420e-82         HRWLLA_001  ...          NaN   \n",
      "...                         ...                ...  ...          ...   \n",
      "41194              1.191867e-08            ICS_001  ...          NaN   \n",
      "41195              2.502193e-04            JAX_001  ...          NaN   \n",
      "41196              8.359806e-04            UCD_001  ...          NaN   \n",
      "41197              7.356204e-15            JAX_001  ...          NaN   \n",
      "41198              1.694129e-07            UCD_001  ...          NaN   \n",
      "\n",
      "      group_1_genotype male_ko_parameter_estimate  \\\n",
      "0                  NaN                        NaN   \n",
      "1                  NaN                        NaN   \n",
      "2              control                 -10.137384   \n",
      "3              control                        NaN   \n",
      "4              control                  -0.009936   \n",
      "...                ...                        ...   \n",
      "41194          control                   3.997457   \n",
      "41195              NaN                 100.548162   \n",
      "41196          control                 -25.258854   \n",
      "41197              NaN                 222.933897   \n",
      "41198          control                   0.082636   \n",
      "\n",
      "      genotype_effect_parameter_estimate categories  parameter_id  \\\n",
      "0                                    NaN        NaN           NaN   \n",
      "1                                    NaN        NaN           NaN   \n",
      "2                              23.474848        NaN           NaN   \n",
      "3                               0.097840        NaN           NaN   \n",
      "4                              26.981602        NaN           NaN   \n",
      "...                                  ...        ...           ...   \n",
      "41194                           4.084710        NaN           NaN   \n",
      "41195                                NaN        NaN           NaN   \n",
      "41196                         -20.409706        NaN           NaN   \n",
      "41197                                NaN        NaN           NaN   \n",
      "41198                           0.092878        NaN           NaN   \n",
      "\n",
      "      batch_significant genotype_effect_stderr_estimate  resource_fullname  \\\n",
      "0                   NaN                             NaN               IMPC   \n",
      "1                   NaN                             NaN               IMPC   \n",
      "2                  True                        4.800326               IMPC   \n",
      "3                  True                        0.019675                MGP   \n",
      "4                  True                        1.015066               IMPC   \n",
      "...                 ...                             ...                ...   \n",
      "41194             False                        0.448757               IMPC   \n",
      "41195               NaN                             NaN               IMPC   \n",
      "41196              True                        3.874395               IMPC   \n",
      "41197               NaN                             NaN               IMPC   \n",
      "41198              True                        0.015375               IMPC   \n",
      "\n",
      "       significant  \n",
      "0             True  \n",
      "1             True  \n",
      "2             True  \n",
      "3             True  \n",
      "4             True  \n",
      "...            ...  \n",
      "41194         True  \n",
      "41195         True  \n",
      "41196         True  \n",
      "41197         True  \n",
      "41198         True  \n",
      "\n",
      "[41199 rows x 88 columns]\n"
     ]
    },
    {
     "name": "stderr",
     "output_type": "stream",
     "text": [
      "/tmp/ipykernel_44793/3194353688.py:1: DtypeWarning: Columns (25,60) have mixed types. Specify dtype option on import or set low_memory=False.\n",
      "  data = pd.read_csv(path_data)\n"
     ]
    }
   ],
   "source": [
    "data = pd.read_csv(path_data)\n",
    "\n",
    "print(data)"
   ]
  },
  {
   "cell_type": "code",
   "execution_count": 5,
   "metadata": {},
   "outputs": [],
   "source": [
    "os.makedirs(\"data/mp_term_name\", exist_ok=True)"
   ]
  },
  {
   "cell_type": "code",
   "execution_count": 6,
   "metadata": {},
   "outputs": [],
   "source": [
    "# 名前をクリーンにする関数を定義\n",
    "def clean_name(name):\n",
    "    return name.replace(\"/\", \"_\").replace(\" \", \"_\")\n",
    "\n",
    "# mp_term_nameをクリーニングし、ユニークな値を取得\n",
    "unique_mp_term_names = data['mp_term_name'].unique()"
   ]
  },
  {
   "cell_type": "code",
   "execution_count": 7,
   "metadata": {},
   "outputs": [],
   "source": [
    "# ユニークなmp_term_nameごとにフィルタリングしてCSVに保存\n",
    "for mp_term_name in unique_mp_term_names:\n",
    "    clean_mp_term_name = clean_name(mp_term_name)\n",
    "    filtered_df = data[data['mp_term_name'] == mp_term_name]\n",
    "    filtered_df.to_csv(f\"data/mp_term_name/{clean_mp_term_name}.csv\", index=False)"
   ]
  },
  {
   "cell_type": "code",
   "execution_count": 16,
   "metadata": {},
   "outputs": [],
   "source": []
  }
 ],
 "metadata": {
  "kernelspec": {
   "display_name": "base",
   "language": "python",
   "name": "python3"
  },
  "language_info": {
   "codemirror_mode": {
    "name": "ipython",
    "version": 3
   },
   "file_extension": ".py",
   "mimetype": "text/x-python",
   "name": "python",
   "nbconvert_exporter": "python",
   "pygments_lexer": "ipython3",
   "version": "3.12.2"
  }
 },
 "nbformat": 4,
 "nbformat_minor": 2
}
