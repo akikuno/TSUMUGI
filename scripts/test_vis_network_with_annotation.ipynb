{
 "cells": [
  {
   "cell_type": "code",
   "execution_count": 1,
   "metadata": {},
   "outputs": [],
   "source": [
    "import io\n",
    "\n",
    "import dash\n",
    "import dash_cytoscape as cyto\n",
    "import pandas as pd\n",
    "from dash import html\n",
    "from dash.dependencies import Input, Output\n",
    "\n",
    "# CSVデータを文字列として扱う\n",
    "csv_data = \"\"\"from,to,node_size,edge_size,from_node_annotation,to_node_annotation,edge_annotation\n",
    "A,B,1,1,\"example A\\nhogehogehogheohgoeho\",\"example B\",\"example A-B\"\n",
    "B,C,1,1,\"example B\",\"example C\",\"example B-C\"\n",
    "\"\"\"\n",
    "\n",
    "# io.StringIOを使用してCSVデータを読み込む\n",
    "df = pd.read_csv(io.StringIO(csv_data))\n",
    "\n",
    "# ノードとエッジを生成\n",
    "nodes = []\n",
    "edges = []\n",
    "\n",
    "for index, row in df.iterrows():\n",
    "    nodes.append({\"data\": {\"id\": row[\"from\"], \"label\": row[\"from\"], \"annotation\": row[\"from_node_annotation\"]}})\n",
    "    nodes.append({\"data\": {\"id\": row[\"to\"], \"label\": row[\"to\"], \"annotation\": row[\"to_node_annotation\"]}})\n",
    "    edges.append(\n",
    "        {\n",
    "            \"data\": {\n",
    "                \"source\": row[\"from\"],\n",
    "                \"target\": row[\"to\"],\n",
    "                \"label\": row[\"edge_annotation\"],\n",
    "                \"annotation\": row[\"edge_annotation\"],\n",
    "            }\n",
    "        }\n",
    "    )\n",
    "\n",
    "# ノードをユニークにする\n",
    "unique_nodes = {node[\"data\"][\"id\"]: node for node in nodes}.values()\n"
   ]
  },
  {
   "cell_type": "code",
   "execution_count": 2,
   "metadata": {},
   "outputs": [
    {
     "data": {
      "text/plain": [
       "dict_values([{'data': {'id': 'A', 'label': 'A', 'annotation': 'example A\\nhogehogehogheohgoeho'}}, {'data': {'id': 'B', 'label': 'B', 'annotation': 'example B'}}, {'data': {'id': 'C', 'label': 'C', 'annotation': 'example C'}}])"
      ]
     },
     "execution_count": 2,
     "metadata": {},
     "output_type": "execute_result"
    }
   ],
   "source": [
    "unique_nodes"
   ]
  },
  {
   "cell_type": "code",
   "execution_count": 6,
   "metadata": {},
   "outputs": [
    {
     "data": {
      "text/html": [
       "\n",
       "        <iframe\n",
       "            width=\"100%\"\n",
       "            height=\"650\"\n",
       "            src=\"http://127.0.0.1:8051/\"\n",
       "            frameborder=\"0\"\n",
       "            allowfullscreen\n",
       "            \n",
       "        ></iframe>\n",
       "        "
      ],
      "text/plain": [
       "<IPython.lib.display.IFrame at 0x7f59c5baf1f0>"
      ]
     },
     "metadata": {},
     "output_type": "display_data"
    }
   ],
   "source": [
    "# Dashアプリケーションの設定\n",
    "app = dash.Dash(__name__)\n",
    "\n",
    "cyto_layout = {\n",
    "    \"name\": \"cose\",\n",
    "}\n",
    "\n",
    "app.layout = html.Div(\n",
    "    [\n",
    "        cyto.Cytoscape(\n",
    "            id=\"cytoscape\",\n",
    "            elements=list(unique_nodes) + edges,\n",
    "            layout=cyto_layout,\n",
    "            style={\"width\": \"100%\", \"height\": \"400px\"},\n",
    "        ),\n",
    "        html.Div(\n",
    "            id=\"tooltip\",\n",
    "            style={\n",
    "                \"position\": \"absolute\",\n",
    "                \"padding\": \"10px\",\n",
    "                \"background\": \"#ddd\",\n",
    "                \"border-radius\": \"5px\",\n",
    "                \"visibility\": \"hidden\",\n",
    "            },\n",
    "        ),\n",
    "    ]\n",
    ")\n",
    "\n",
    "# マウスオーバー時にツールチップを表示するためのコールバック\n",
    "@app.callback(\n",
    "    [Output(\"tooltip\", \"children\"), Output(\"tooltip\", \"style\")],\n",
    "    [Input(\"cytoscape\", \"mouseoverNodeData\"),\n",
    "     Input(\"cytoscape\", \"mouseoverEdgeData\"),\n",
    "     Input(\"cytoscape\", \"tapNode\"),\n",
    "     Input(\"cytoscape\", \"tapEdge\")]\n",
    ")\n",
    "def display_tooltip(node_data, edge_data, tap_node, tap_edge):\n",
    "    ctx = dash.callback_context\n",
    "\n",
    "    if not ctx.triggered:\n",
    "        return \"\", {\"visibility\": \"hidden\"}\n",
    "\n",
    "    tooltip_text = \"\"\n",
    "    if \"tapNode\" in ctx.triggered[0][\"prop_id\"]:\n",
    "        tooltip_text = node_data[\"annotation\"]\n",
    "    elif \"tapEdge\" in ctx.triggered[0][\"prop_id\"]:\n",
    "        tooltip_text = edge_data[\"annotation\"]\n",
    "    elif \"mouseoverNodeData\" in ctx.triggered[0][\"prop_id\"]:\n",
    "        tooltip_text = node_data[\"annotation\"]\n",
    "    elif \"mouseoverEdgeData\" in ctx.triggered[0][\"prop_id\"]:\n",
    "        tooltip_text = edge_data[\"annotation\"]\n",
    "\n",
    "    return html.Div(tooltip_text, style={\"white-space\": \"pre-line\"}), {\n",
    "        \"visibility\": \"visible\",\n",
    "        \"position\": \"absolute\",\n",
    "        \"padding\": \"10px\",\n",
    "        \"background\": \"#ddd\",\n",
    "        \"border-radius\": \"5px\",\n",
    "        \"font-size\": \"20px\",\n",
    "    }\n",
    "\n",
    "app.run_server(mode=\"inline\", debug=True, port=8051)\n"
   ]
  },
  {
   "cell_type": "code",
   "execution_count": null,
   "metadata": {},
   "outputs": [],
   "source": []
  }
 ],
 "metadata": {
  "kernelspec": {
   "display_name": "Python 3 (ipykernel)",
   "language": "python",
   "name": "python3"
  },
  "language_info": {
   "codemirror_mode": {
    "name": "ipython",
    "version": 3
   },
   "file_extension": ".py",
   "mimetype": "text/x-python",
   "name": "python",
   "nbconvert_exporter": "python",
   "pygments_lexer": "ipython3",
   "version": "3.10.14"
  }
 },
 "nbformat": 4,
 "nbformat_minor": 4
}
